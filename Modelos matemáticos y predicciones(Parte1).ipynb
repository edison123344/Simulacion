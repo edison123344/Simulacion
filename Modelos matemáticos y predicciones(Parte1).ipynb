{
 "cells": [
  {
   "cell_type": "markdown",
   "metadata": {},
   "source": [
    "# Covid-19 infección en Ecuador. Modelos matemáticos y predicciones\n",
    "Una comparación de modelos, lineal, polilnomico,logísticos y exponenciales aplicados a la infección por el virus Covid-19\n",
    "\n",
    "Se realiza un análisis matemático simple del crecimiento de la infección en Python y dos modelos para comprender mejor la evolución de la infección.\n",
    "\n",
    "Se crea modelos de series temporales del número total de personas infectadas hasta la fecha (es decir, las personas realmente infectadas más las personas que han sido infectadas). Estos modelos tienen parámetros , que se estimarán por ajuste de curva."
   ]
  },
  {
   "cell_type": "code",
   "execution_count": 1,
   "metadata": {},
   "outputs": [],
   "source": [
    "# Importar las librerias para el analasis\n",
    "import pandas as pd\n",
    "import numpy as np\n",
    "from datetime import datetime,timedelta\n",
    "from sklearn.metrics import mean_squared_error\n",
    "from scipy.optimize import curve_fit\n",
    "from scipy.optimize import fsolve\n",
    "from sklearn import linear_model\n",
    "import matplotlib.pyplot as plt\n",
    "%matplotlib inline"
   ]
  },
  {
   "cell_type": "code",
   "execution_count": 2,
   "metadata": {},
   "outputs": [
    {
     "data": {
      "text/html": [
       "<div>\n",
       "<style scoped>\n",
       "    .dataframe tbody tr th:only-of-type {\n",
       "        vertical-align: middle;\n",
       "    }\n",
       "\n",
       "    .dataframe tbody tr th {\n",
       "        vertical-align: top;\n",
       "    }\n",
       "\n",
       "    .dataframe thead th {\n",
       "        text-align: right;\n",
       "    }\n",
       "</style>\n",
       "<table border=\"1\" class=\"dataframe\">\n",
       "  <thead>\n",
       "    <tr style=\"text-align: right;\">\n",
       "      <th></th>\n",
       "      <th>muestras</th>\n",
       "      <th>muestras_pcr</th>\n",
       "      <th>muestras_pcr_nuevas</th>\n",
       "      <th>pruebas_rezagadas</th>\n",
       "      <th>muertes_confirmadas</th>\n",
       "      <th>muertes_probables</th>\n",
       "      <th>muertes</th>\n",
       "      <th>muertes_nuevas</th>\n",
       "      <th>positivas</th>\n",
       "      <th>positivas_pcr</th>\n",
       "      <th>...</th>\n",
       "      <th>defunciones_2017</th>\n",
       "      <th>defunciones_2017_nuevas</th>\n",
       "      <th>defunciones_2016</th>\n",
       "      <th>defunciones_2016_nuevas</th>\n",
       "      <th>defunciones_2015</th>\n",
       "      <th>defunciones_2015_nuevas</th>\n",
       "      <th>hospitalizadas_altas</th>\n",
       "      <th>hospitalizadas_estables</th>\n",
       "      <th>hospitalizadas_pronostico_reservadas</th>\n",
       "      <th>created_at</th>\n",
       "    </tr>\n",
       "  </thead>\n",
       "  <tbody>\n",
       "    <tr>\n",
       "      <th>0</th>\n",
       "      <td>129</td>\n",
       "      <td>129</td>\n",
       "      <td>0</td>\n",
       "      <td>106</td>\n",
       "      <td>1</td>\n",
       "      <td>0</td>\n",
       "      <td>1</td>\n",
       "      <td>0</td>\n",
       "      <td>23</td>\n",
       "      <td>23</td>\n",
       "      <td>...</td>\n",
       "      <td>14506</td>\n",
       "      <td>217</td>\n",
       "      <td>13643</td>\n",
       "      <td>212</td>\n",
       "      <td>12866</td>\n",
       "      <td>167</td>\n",
       "      <td>0</td>\n",
       "      <td>0</td>\n",
       "      <td>1</td>\n",
       "      <td>13/03/2020</td>\n",
       "    </tr>\n",
       "    <tr>\n",
       "      <th>1</th>\n",
       "      <td>206</td>\n",
       "      <td>206</td>\n",
       "      <td>77</td>\n",
       "      <td>178</td>\n",
       "      <td>2</td>\n",
       "      <td>0</td>\n",
       "      <td>2</td>\n",
       "      <td>1</td>\n",
       "      <td>28</td>\n",
       "      <td>28</td>\n",
       "      <td>...</td>\n",
       "      <td>14718</td>\n",
       "      <td>212</td>\n",
       "      <td>13848</td>\n",
       "      <td>205</td>\n",
       "      <td>13047</td>\n",
       "      <td>181</td>\n",
       "      <td>0</td>\n",
       "      <td>7</td>\n",
       "      <td>3</td>\n",
       "      <td>14/03/2020</td>\n",
       "    </tr>\n",
       "    <tr>\n",
       "      <th>2</th>\n",
       "      <td>273</td>\n",
       "      <td>273</td>\n",
       "      <td>67</td>\n",
       "      <td>236</td>\n",
       "      <td>2</td>\n",
       "      <td>0</td>\n",
       "      <td>2</td>\n",
       "      <td>0</td>\n",
       "      <td>37</td>\n",
       "      <td>37</td>\n",
       "      <td>...</td>\n",
       "      <td>14926</td>\n",
       "      <td>208</td>\n",
       "      <td>14048</td>\n",
       "      <td>200</td>\n",
       "      <td>13228</td>\n",
       "      <td>181</td>\n",
       "      <td>0</td>\n",
       "      <td>7</td>\n",
       "      <td>2</td>\n",
       "      <td>15/03/2020</td>\n",
       "    </tr>\n",
       "    <tr>\n",
       "      <th>3</th>\n",
       "      <td>354</td>\n",
       "      <td>354</td>\n",
       "      <td>81</td>\n",
       "      <td>296</td>\n",
       "      <td>2</td>\n",
       "      <td>0</td>\n",
       "      <td>2</td>\n",
       "      <td>0</td>\n",
       "      <td>58</td>\n",
       "      <td>58</td>\n",
       "      <td>...</td>\n",
       "      <td>15164</td>\n",
       "      <td>238</td>\n",
       "      <td>14238</td>\n",
       "      <td>190</td>\n",
       "      <td>13388</td>\n",
       "      <td>160</td>\n",
       "      <td>0</td>\n",
       "      <td>9</td>\n",
       "      <td>5</td>\n",
       "      <td>16/03/2020</td>\n",
       "    </tr>\n",
       "    <tr>\n",
       "      <th>4</th>\n",
       "      <td>762</td>\n",
       "      <td>762</td>\n",
       "      <td>408</td>\n",
       "      <td>651</td>\n",
       "      <td>2</td>\n",
       "      <td>0</td>\n",
       "      <td>2</td>\n",
       "      <td>0</td>\n",
       "      <td>111</td>\n",
       "      <td>111</td>\n",
       "      <td>...</td>\n",
       "      <td>15347</td>\n",
       "      <td>183</td>\n",
       "      <td>14412</td>\n",
       "      <td>174</td>\n",
       "      <td>13550</td>\n",
       "      <td>162</td>\n",
       "      <td>0</td>\n",
       "      <td>9</td>\n",
       "      <td>5</td>\n",
       "      <td>17/03/2020</td>\n",
       "    </tr>\n",
       "    <tr>\n",
       "      <th>...</th>\n",
       "      <td>...</td>\n",
       "      <td>...</td>\n",
       "      <td>...</td>\n",
       "      <td>...</td>\n",
       "      <td>...</td>\n",
       "      <td>...</td>\n",
       "      <td>...</td>\n",
       "      <td>...</td>\n",
       "      <td>...</td>\n",
       "      <td>...</td>\n",
       "      <td>...</td>\n",
       "      <td>...</td>\n",
       "      <td>...</td>\n",
       "      <td>...</td>\n",
       "      <td>...</td>\n",
       "      <td>...</td>\n",
       "      <td>...</td>\n",
       "      <td>...</td>\n",
       "      <td>...</td>\n",
       "      <td>...</td>\n",
       "      <td>...</td>\n",
       "    </tr>\n",
       "    <tr>\n",
       "      <th>233</th>\n",
       "      <td>569362</td>\n",
       "      <td>548790</td>\n",
       "      <td>2282</td>\n",
       "      <td>51707</td>\n",
       "      <td>8371</td>\n",
       "      <td>4313</td>\n",
       "      <td>12684</td>\n",
       "      <td>14</td>\n",
       "      <td>178150</td>\n",
       "      <td>169194</td>\n",
       "      <td>...</td>\n",
       "      <td>58668</td>\n",
       "      <td>165</td>\n",
       "      <td>56836</td>\n",
       "      <td>183</td>\n",
       "      <td>54618</td>\n",
       "      <td>147</td>\n",
       "      <td>21423</td>\n",
       "      <td>531</td>\n",
       "      <td>342</td>\n",
       "      <td>01/11/2020</td>\n",
       "    </tr>\n",
       "    <tr>\n",
       "      <th>234</th>\n",
       "      <td>569798</td>\n",
       "      <td>549226</td>\n",
       "      <td>436</td>\n",
       "      <td>50815</td>\n",
       "      <td>8380</td>\n",
       "      <td>4312</td>\n",
       "      <td>12692</td>\n",
       "      <td>8</td>\n",
       "      <td>178518</td>\n",
       "      <td>169562</td>\n",
       "      <td>...</td>\n",
       "      <td>58844</td>\n",
       "      <td>176</td>\n",
       "      <td>57009</td>\n",
       "      <td>173</td>\n",
       "      <td>54777</td>\n",
       "      <td>159</td>\n",
       "      <td>21476</td>\n",
       "      <td>520</td>\n",
       "      <td>342</td>\n",
       "      <td>02/11/2020</td>\n",
       "    </tr>\n",
       "    <tr>\n",
       "      <th>235</th>\n",
       "      <td>570515</td>\n",
       "      <td>549943</td>\n",
       "      <td>717</td>\n",
       "      <td>49712</td>\n",
       "      <td>8386</td>\n",
       "      <td>4312</td>\n",
       "      <td>12698</td>\n",
       "      <td>6</td>\n",
       "      <td>179066</td>\n",
       "      <td>170110</td>\n",
       "      <td>...</td>\n",
       "      <td>59024</td>\n",
       "      <td>180</td>\n",
       "      <td>57218</td>\n",
       "      <td>209</td>\n",
       "      <td>54948</td>\n",
       "      <td>171</td>\n",
       "      <td>21516</td>\n",
       "      <td>512</td>\n",
       "      <td>342</td>\n",
       "      <td>03/11/2020</td>\n",
       "    </tr>\n",
       "    <tr>\n",
       "      <th>236</th>\n",
       "      <td>577335</td>\n",
       "      <td>556763</td>\n",
       "      <td>6820</td>\n",
       "      <td>51224</td>\n",
       "      <td>8394</td>\n",
       "      <td>4310</td>\n",
       "      <td>12704</td>\n",
       "      <td>6</td>\n",
       "      <td>180389</td>\n",
       "      <td>171433</td>\n",
       "      <td>...</td>\n",
       "      <td>59237</td>\n",
       "      <td>213</td>\n",
       "      <td>57381</td>\n",
       "      <td>163</td>\n",
       "      <td>55131</td>\n",
       "      <td>183</td>\n",
       "      <td>21552</td>\n",
       "      <td>505</td>\n",
       "      <td>344</td>\n",
       "      <td>04/11/2020</td>\n",
       "    </tr>\n",
       "    <tr>\n",
       "      <th>237</th>\n",
       "      <td>579156</td>\n",
       "      <td>558584</td>\n",
       "      <td>1821</td>\n",
       "      <td>50370</td>\n",
       "      <td>8420</td>\n",
       "      <td>4310</td>\n",
       "      <td>12730</td>\n",
       "      <td>26</td>\n",
       "      <td>180739</td>\n",
       "      <td>171783</td>\n",
       "      <td>...</td>\n",
       "      <td>59432</td>\n",
       "      <td>195</td>\n",
       "      <td>57567</td>\n",
       "      <td>186</td>\n",
       "      <td>55310</td>\n",
       "      <td>179</td>\n",
       "      <td>21589</td>\n",
       "      <td>510</td>\n",
       "      <td>338</td>\n",
       "      <td>05/11/2020</td>\n",
       "    </tr>\n",
       "  </tbody>\n",
       "</table>\n",
       "<p>238 rows × 32 columns</p>\n",
       "</div>"
      ],
      "text/plain": [
       "     muestras  muestras_pcr  muestras_pcr_nuevas  pruebas_rezagadas  \\\n",
       "0         129           129                    0                106   \n",
       "1         206           206                   77                178   \n",
       "2         273           273                   67                236   \n",
       "3         354           354                   81                296   \n",
       "4         762           762                  408                651   \n",
       "..        ...           ...                  ...                ...   \n",
       "233    569362        548790                 2282              51707   \n",
       "234    569798        549226                  436              50815   \n",
       "235    570515        549943                  717              49712   \n",
       "236    577335        556763                 6820              51224   \n",
       "237    579156        558584                 1821              50370   \n",
       "\n",
       "     muertes_confirmadas  muertes_probables  muertes  muertes_nuevas  \\\n",
       "0                      1                  0        1               0   \n",
       "1                      2                  0        2               1   \n",
       "2                      2                  0        2               0   \n",
       "3                      2                  0        2               0   \n",
       "4                      2                  0        2               0   \n",
       "..                   ...                ...      ...             ...   \n",
       "233                 8371               4313    12684              14   \n",
       "234                 8380               4312    12692               8   \n",
       "235                 8386               4312    12698               6   \n",
       "236                 8394               4310    12704               6   \n",
       "237                 8420               4310    12730              26   \n",
       "\n",
       "     positivas  positivas_pcr  ...  defunciones_2017  defunciones_2017_nuevas  \\\n",
       "0           23             23  ...             14506                      217   \n",
       "1           28             28  ...             14718                      212   \n",
       "2           37             37  ...             14926                      208   \n",
       "3           58             58  ...             15164                      238   \n",
       "4          111            111  ...             15347                      183   \n",
       "..         ...            ...  ...               ...                      ...   \n",
       "233     178150         169194  ...             58668                      165   \n",
       "234     178518         169562  ...             58844                      176   \n",
       "235     179066         170110  ...             59024                      180   \n",
       "236     180389         171433  ...             59237                      213   \n",
       "237     180739         171783  ...             59432                      195   \n",
       "\n",
       "     defunciones_2016  defunciones_2016_nuevas  defunciones_2015  \\\n",
       "0               13643                      212             12866   \n",
       "1               13848                      205             13047   \n",
       "2               14048                      200             13228   \n",
       "3               14238                      190             13388   \n",
       "4               14412                      174             13550   \n",
       "..                ...                      ...               ...   \n",
       "233             56836                      183             54618   \n",
       "234             57009                      173             54777   \n",
       "235             57218                      209             54948   \n",
       "236             57381                      163             55131   \n",
       "237             57567                      186             55310   \n",
       "\n",
       "     defunciones_2015_nuevas  hospitalizadas_altas  hospitalizadas_estables  \\\n",
       "0                        167                     0                        0   \n",
       "1                        181                     0                        7   \n",
       "2                        181                     0                        7   \n",
       "3                        160                     0                        9   \n",
       "4                        162                     0                        9   \n",
       "..                       ...                   ...                      ...   \n",
       "233                      147                 21423                      531   \n",
       "234                      159                 21476                      520   \n",
       "235                      171                 21516                      512   \n",
       "236                      183                 21552                      505   \n",
       "237                      179                 21589                      510   \n",
       "\n",
       "     hospitalizadas_pronostico_reservadas  created_at  \n",
       "0                                       1  13/03/2020  \n",
       "1                                       3  14/03/2020  \n",
       "2                                       2  15/03/2020  \n",
       "3                                       5  16/03/2020  \n",
       "4                                       5  17/03/2020  \n",
       "..                                    ...         ...  \n",
       "233                                   342  01/11/2020  \n",
       "234                                   342  02/11/2020  \n",
       "235                                   342  03/11/2020  \n",
       "236                                   344  04/11/2020  \n",
       "237                                   338  05/11/2020  \n",
       "\n",
       "[238 rows x 32 columns]"
      ]
     },
     "execution_count": 2,
     "metadata": {},
     "output_type": "execute_result"
    }
   ],
   "source": [
    "# Descarga de los datos (URL)\n",
    "url = 'https://raw.githubusercontent.com/andrab/ecuacovid/master/datos_crudos/ecuacovid.csv'\n",
    "df = pd.read_csv(url)\n",
    "df"
   ]
  },
  {
   "cell_type": "markdown",
   "metadata": {},
   "source": [
    "## Datos positivos"
   ]
  },
  {
   "cell_type": "code",
   "execution_count": 3,
   "metadata": {},
   "outputs": [
    {
     "data": {
      "text/html": [
       "<div>\n",
       "<style scoped>\n",
       "    .dataframe tbody tr th:only-of-type {\n",
       "        vertical-align: middle;\n",
       "    }\n",
       "\n",
       "    .dataframe tbody tr th {\n",
       "        vertical-align: top;\n",
       "    }\n",
       "\n",
       "    .dataframe thead th {\n",
       "        text-align: right;\n",
       "    }\n",
       "</style>\n",
       "<table border=\"1\" class=\"dataframe\">\n",
       "  <thead>\n",
       "    <tr style=\"text-align: right;\">\n",
       "      <th></th>\n",
       "      <th>created_at</th>\n",
       "      <th>positivas</th>\n",
       "    </tr>\n",
       "  </thead>\n",
       "  <tbody>\n",
       "    <tr>\n",
       "      <th>0</th>\n",
       "      <td>72</td>\n",
       "      <td>23</td>\n",
       "    </tr>\n",
       "    <tr>\n",
       "      <th>1</th>\n",
       "      <td>73</td>\n",
       "      <td>28</td>\n",
       "    </tr>\n",
       "    <tr>\n",
       "      <th>2</th>\n",
       "      <td>74</td>\n",
       "      <td>37</td>\n",
       "    </tr>\n",
       "    <tr>\n",
       "      <th>3</th>\n",
       "      <td>75</td>\n",
       "      <td>58</td>\n",
       "    </tr>\n",
       "    <tr>\n",
       "      <th>4</th>\n",
       "      <td>76</td>\n",
       "      <td>111</td>\n",
       "    </tr>\n",
       "    <tr>\n",
       "      <th>...</th>\n",
       "      <td>...</td>\n",
       "      <td>...</td>\n",
       "    </tr>\n",
       "    <tr>\n",
       "      <th>233</th>\n",
       "      <td>305</td>\n",
       "      <td>178150</td>\n",
       "    </tr>\n",
       "    <tr>\n",
       "      <th>234</th>\n",
       "      <td>306</td>\n",
       "      <td>178518</td>\n",
       "    </tr>\n",
       "    <tr>\n",
       "      <th>235</th>\n",
       "      <td>307</td>\n",
       "      <td>179066</td>\n",
       "    </tr>\n",
       "    <tr>\n",
       "      <th>236</th>\n",
       "      <td>308</td>\n",
       "      <td>180389</td>\n",
       "    </tr>\n",
       "    <tr>\n",
       "      <th>237</th>\n",
       "      <td>309</td>\n",
       "      <td>180739</td>\n",
       "    </tr>\n",
       "  </tbody>\n",
       "</table>\n",
       "<p>238 rows × 2 columns</p>\n",
       "</div>"
      ],
      "text/plain": [
       "     created_at  positivas\n",
       "0            72         23\n",
       "1            73         28\n",
       "2            74         37\n",
       "3            75         58\n",
       "4            76        111\n",
       "..          ...        ...\n",
       "233         305     178150\n",
       "234         306     178518\n",
       "235         307     179066\n",
       "236         308     180389\n",
       "237         309     180739\n",
       "\n",
       "[238 rows x 2 columns]"
      ]
     },
     "execution_count": 3,
     "metadata": {},
     "output_type": "execute_result"
    }
   ],
   "source": [
    "df1 = df.loc[:,['created_at','positivas']]\n",
    "FMT ='%d/%m/%Y'\n",
    "date = df['created_at']\n",
    "df1['created_at'] = date.map(lambda x : (datetime.strptime(x, FMT) - datetime.strptime(\"01/01/2020\", FMT)).days)\n",
    "df1"
   ]
  },
  {
   "cell_type": "markdown",
   "metadata": {},
   "source": [
    "## Datos recuperados"
   ]
  },
  {
   "cell_type": "code",
   "execution_count": 4,
   "metadata": {},
   "outputs": [
    {
     "data": {
      "text/html": [
       "<div>\n",
       "<style scoped>\n",
       "    .dataframe tbody tr th:only-of-type {\n",
       "        vertical-align: middle;\n",
       "    }\n",
       "\n",
       "    .dataframe tbody tr th {\n",
       "        vertical-align: top;\n",
       "    }\n",
       "\n",
       "    .dataframe thead th {\n",
       "        text-align: right;\n",
       "    }\n",
       "</style>\n",
       "<table border=\"1\" class=\"dataframe\">\n",
       "  <thead>\n",
       "    <tr style=\"text-align: right;\">\n",
       "      <th></th>\n",
       "      <th>created_at</th>\n",
       "      <th>hospitalizadas_altas</th>\n",
       "    </tr>\n",
       "  </thead>\n",
       "  <tbody>\n",
       "    <tr>\n",
       "      <th>0</th>\n",
       "      <td>72</td>\n",
       "      <td>0</td>\n",
       "    </tr>\n",
       "    <tr>\n",
       "      <th>1</th>\n",
       "      <td>73</td>\n",
       "      <td>0</td>\n",
       "    </tr>\n",
       "    <tr>\n",
       "      <th>2</th>\n",
       "      <td>74</td>\n",
       "      <td>0</td>\n",
       "    </tr>\n",
       "    <tr>\n",
       "      <th>3</th>\n",
       "      <td>75</td>\n",
       "      <td>0</td>\n",
       "    </tr>\n",
       "    <tr>\n",
       "      <th>4</th>\n",
       "      <td>76</td>\n",
       "      <td>0</td>\n",
       "    </tr>\n",
       "    <tr>\n",
       "      <th>...</th>\n",
       "      <td>...</td>\n",
       "      <td>...</td>\n",
       "    </tr>\n",
       "    <tr>\n",
       "      <th>233</th>\n",
       "      <td>305</td>\n",
       "      <td>21423</td>\n",
       "    </tr>\n",
       "    <tr>\n",
       "      <th>234</th>\n",
       "      <td>306</td>\n",
       "      <td>21476</td>\n",
       "    </tr>\n",
       "    <tr>\n",
       "      <th>235</th>\n",
       "      <td>307</td>\n",
       "      <td>21516</td>\n",
       "    </tr>\n",
       "    <tr>\n",
       "      <th>236</th>\n",
       "      <td>308</td>\n",
       "      <td>21552</td>\n",
       "    </tr>\n",
       "    <tr>\n",
       "      <th>237</th>\n",
       "      <td>309</td>\n",
       "      <td>21589</td>\n",
       "    </tr>\n",
       "  </tbody>\n",
       "</table>\n",
       "<p>238 rows × 2 columns</p>\n",
       "</div>"
      ],
      "text/plain": [
       "     created_at  hospitalizadas_altas\n",
       "0            72                     0\n",
       "1            73                     0\n",
       "2            74                     0\n",
       "3            75                     0\n",
       "4            76                     0\n",
       "..          ...                   ...\n",
       "233         305                 21423\n",
       "234         306                 21476\n",
       "235         307                 21516\n",
       "236         308                 21552\n",
       "237         309                 21589\n",
       "\n",
       "[238 rows x 2 columns]"
      ]
     },
     "execution_count": 4,
     "metadata": {},
     "output_type": "execute_result"
    }
   ],
   "source": [
    "df = df.loc[:,['created_at','hospitalizadas_altas']] #Selecciono las columnas de analasis\n",
    "# Expresar las fechas en numero de dias desde el 01 Enero\n",
    "FMT = '%d/%m/%Y'\n",
    "date = df['created_at']\n",
    "df['created_at'] = date.map(lambda x : (datetime.strptime(x, FMT) - datetime.strptime(\"01/01/2020\", FMT)).days)\n",
    "\n",
    "df"
   ]
  },
  {
   "cell_type": "markdown",
   "metadata": {},
   "source": [
    "## comparacion de recuperados frente a infectados"
   ]
  },
  {
   "cell_type": "code",
   "execution_count": 5,
   "metadata": {},
   "outputs": [
    {
     "data": {
      "text/plain": [
       "<matplotlib.legend.Legend at 0x1d3a7e2b1c0>"
      ]
     },
     "execution_count": 5,
     "metadata": {},
     "output_type": "execute_result"
    },
    {
     "data": {
      "image/png": "[encoded data removed]",
      "text/plain": [
       "<Figure size 432x288 with 1 Axes>"
      ]
     },
     "metadata": {
      "needs_background": "light"
     },
     "output_type": "display_data"
    }
   ],
   "source": [
    "plt.xlabel(\"dias\")   # Inserta el título del eje X\n",
    "plt.ylabel(\"Personas\")   # Inserta el título del eje Y\n",
    "plt.plot(df['hospitalizadas_altas'], linestyle=':', color='b', label = \"Altas\" )  \n",
    "plt.ion()   # Activa modo interactivo de dibujo\n",
    "plt.plot(df1['positivas'], linestyle='-', color='g', label = \"Infectados\")   # Dibuja datos de \n",
    "plt.legend(loc=\"upper left\")"
   ]
  },
  {
   "cell_type": "markdown",
   "metadata": {},
   "source": [
    "## Grafica recuperados"
   ]
  },
  {
   "cell_type": "code",
   "execution_count": 6,
   "metadata": {},
   "outputs": [
    {
     "data": {
      "text/plain": [
       "<matplotlib.axes._subplots.AxesSubplot at 0x1d3a85ef160>"
      ]
     },
     "execution_count": 6,
     "metadata": {},
     "output_type": "execute_result"
    },
    {
     "data": {
      "image/png": "[encoded data removed]",
      "text/plain": [
       "<Figure size 432x288 with 1 Axes>"
      ]
     },
     "metadata": {
      "needs_background": "light"
     },
     "output_type": "display_data"
    }
   ],
   "source": [
    "df.plot(x ='created_at', y='hospitalizadas_altas')"
   ]
  },
  {
   "cell_type": "markdown",
   "metadata": {},
   "source": [
    "## Grafica Infectados"
   ]
  },
  {
   "cell_type": "code",
   "execution_count": 8,
   "metadata": {},
   "outputs": [
    {
     "data": {
      "text/plain": [
       "<matplotlib.axes._subplots.AxesSubplot at 0x1d3a865a460>"
      ]
     },
     "execution_count": 8,
     "metadata": {},
     "output_type": "execute_result"
    },
    {
     "data": {
      "image/png": "[encoded data removed]",
      "text/plain": [
       "<Figure size 432x288 with 1 Axes>"
      ]
     },
     "metadata": {
      "needs_background": "light"
     },
     "output_type": "display_data"
    }
   ],
   "source": [
    "df1.plot(x ='created_at', y='positivas')"
   ]
  },
  {
   "attachments": {
    "600px-linear_regression_-_it-svg.webp": {
     "image/webp": "[encoded data removed]"
    }
   },
   "cell_type": "markdown",
   "metadata": {},
   "source": [
    "Ahora podemos analizar los cuatro modelos que tomaré en el examen, que son la función lineal, polinomica,logística y la función exponencial . Cada modelo tiene tres parámetros , que se estimarán mediante un cálculo de ajuste de curva en los datos históricos.\n",
    "\n",
    "## EL modelo lineal\n",
    "\n",
    "La regresión lineal es un algoritmo de aprendizaje supervisado que se utiliza en Machine Learning y en estadística. En su versión más sencilla, lo que haremos es «dibujar una recta» que nos indicará la tendencia de un conjunto de datos continuos.\n",
    "\n",
    "Recordemos rápidamente la fórmula de la recta:\n",
    "\n",
    "Y = mX + b\n",
    "\n",
    "Donde Y es el resultado, X es la variable, m la pendiente (o coeficiente) de la recta y b la constante o también conocida como el «punto de corte con el eje Y» en la gráfica (cuando X=0)\n",
    "Ejemplo\n",
    "![600px-linear_regression_-_it-svg.webp](attachment:600px-linear_regression_-_it-svg.webp)\n",
    "Recordemos que los algoritmos de Machine Learning Supervisados, aprenden por sí mismos y -en este caso- a obtener automáticamente esa «recta» que buscamos con la tendencia de predicción. Para hacerlo se mide el error con respecto a los puntos de entrada y el valor «Y» de salida real.\n",
    "## Calculo de Error medio y el valor que corta en el eje y \n",
    "### Calculo  en el caso de los Recuperados"
   ]
  },
  {
   "cell_type": "code",
   "execution_count": 9,
   "metadata": {},
   "outputs": [
    {
     "name": "stdout",
     "output_type": "stream",
     "text": [
      "Coefficients: \n",
      " [104.02142343]\n",
      "Independent term: \n",
      " -10367.177802236833\n"
     ]
    }
   ],
   "source": [
    "x = list(df.iloc [:, 0]) # Fecha\n",
    "y = list(df.iloc [:, 1]) # Numero de casos\n",
    "# Creamos el objeto de Regresión Lineal\n",
    "regr = linear_model.LinearRegression()\n",
    " \n",
    "# Entrenamos nuestro modelo\n",
    "regr.fit(np.array(x).reshape(-1, 1) ,y)\n",
    "\n",
    "# Veamos los coeficienetes obtenidos, En nuestro caso, serán la Tangente\n",
    "print('Coefficients: \\n', regr.coef_)\n",
    "# Este es el valor donde corta el eje Y (en X=0)\n",
    "print('Independent term: \\n', regr.intercept_)\n",
    "# Error Cuadrado Medio"
   ]
  },
  {
   "cell_type": "markdown",
   "metadata": {},
   "source": [
    "### Calculo en el caso de los Infectados"
   ]
  },
  {
   "cell_type": "code",
   "execution_count": 10,
   "metadata": {},
   "outputs": [
    {
     "name": "stdout",
     "output_type": "stream",
     "text": [
      "Coefficients: \n",
      " [791.58632372]\n",
      "Independent term: \n",
      " -75632.48878624591\n"
     ]
    }
   ],
   "source": [
    "x1 = list(df1.iloc [:, 0]) # Fecha\n",
    "y1 = list(df1.iloc [:, 1]) # Numero de casos\n",
    "# Creacion el objeto de Regresión Lineal\n",
    "regr1 = linear_model.LinearRegression()\n",
    " \n",
    "# Entrenamos nuestro modelo\n",
    "regr1.fit(np.array(x1).reshape(-1, 1) ,y1)\n",
    "\n",
    "# Muestra los coeficienetes obtenidos, En nuestro caso, serán la Tangente\n",
    "print('Coefficients: \\n', regr1.coef_)\n",
    "# Este es el valor donde corta el eje Y (en X=0)\n",
    "print('Independent term: \\n', regr1.intercept_)\n",
    "# Error Cuadrado Medio"
   ]
  },
  {
   "cell_type": "markdown",
   "metadata": {},
   "source": [
    "De la ecuación de la recta y = mX + b nuestra pendiente «m» es el coeficiente y el término independiente «b»\n",
    "## Calculo de la prediccion\n",
    "### Prediccion en el caso de los Recuperados"
   ]
  },
  {
   "cell_type": "code",
   "execution_count": 12,
   "metadata": {},
   "outputs": [
    {
     "name": "stdout",
     "output_type": "stream",
     "text": [
      "34\n"
     ]
    }
   ],
   "source": [
    "\n",
    "# Prediccion de cuántos \"Casos\" voy a obtener por en el dia 100,\n",
    "# según nuestro modelo, hacemos:\n",
    "y_prediccion = regr.predict([[100]])\n",
    "print(int(y_prediccion))"
   ]
  },
  {
   "cell_type": "markdown",
   "metadata": {},
   "source": [
    "### Prediccion en el caso de los infectados"
   ]
  },
  {
   "cell_type": "code",
   "execution_count": 13,
   "metadata": {},
   "outputs": [
    {
     "name": "stdout",
     "output_type": "stream",
     "text": [
      "3526\n"
     ]
    }
   ],
   "source": [
    "\n",
    "# Quiero predecir cuántos \"Casos\" voy a obtener por en el dia 100,\n",
    "# según nuestro modelo, hacemos:\n",
    "y_prediccion = regr1.predict([[100]])\n",
    "print(int(y_prediccion))"
   ]
  },
  {
   "cell_type": "markdown",
   "metadata": {},
   "source": [
    "## Grafica de los recuperados"
   ]
  },
  {
   "cell_type": "code",
   "execution_count": 14,
   "metadata": {},
   "outputs": [
    {
     "name": "stdout",
     "output_type": "stream",
     "text": [
      "[ 70  71  72  73  74  75  76  77  78  79  80  81  82  83  84  85  86  87\n",
      "  88  89  90  91  92  93  94  95  96  97  98  99 100 101 102 103 104 105\n",
      " 106 107 108 109 110 111 112 113 114 115 116 117 118 119 120 121 122 123\n",
      " 124 125 126 127 128 129 130 131 132 133 134 135 136 137 138 139 140 141\n",
      " 142 143 144 145 146 147 148 149 150 151 152 153 154 155 156 157 158 159\n",
      " 160 161 162 163 164 165 166 167 168 169 170 171 172 173 174 175 176 177\n",
      " 178 179 180 181 182 183 184 185 186 187 188 189 190 191 192 193 194 195\n",
      " 196 197 198 199 200 201 202 203 204 205 206 207 208 209 210 211 212 213\n",
      " 214 215 216 217 218 219 220 221 222 223 224 225 226 227 228 229 230 231\n",
      " 232 233 234 235 236 237 238 239 240 241 242 243 244 245 246 247 248 249\n",
      " 250 251 252 253 254 255 256 257 258 259 260 261 262 263 264 265 266 267\n",
      " 268 269 270 271 272 273 274 275 276 277 278 279 280 281 282 283 284 285\n",
      " 286 287 288 289 290 291 292 293 294 295 296 297 298 299]\n"
     ]
    },
    {
     "data": {
      "image/png": "[encoded data removed]",
      "text/plain": [
       "<Figure size 432x288 with 1 Axes>"
      ]
     },
     "metadata": {
      "needs_background": "light"
     },
     "output_type": "display_data"
    }
   ],
   "source": [
    "#Graficar\n",
    "plt.scatter(x, y)\n",
    "x_real = np.array(range(70, 300))\n",
    "print(x_real)\n",
    "plt.plot(x_real, regr.predict(x_real.reshape(-1, 1)), color='green')\n",
    "plt.show()"
   ]
  },
  {
   "cell_type": "markdown",
   "metadata": {},
   "source": [
    "## Grafica infectados"
   ]
  },
  {
   "cell_type": "code",
   "execution_count": 16,
   "metadata": {},
   "outputs": [
    {
     "name": "stdout",
     "output_type": "stream",
     "text": [
      "[ 90  91  92  93  94  95  96  97  98  99 100 101 102 103 104 105 106 107\n",
      " 108 109 110 111 112 113 114 115 116 117 118 119 120 121 122 123 124 125\n",
      " 126 127 128 129 130 131 132 133 134 135 136 137 138 139 140 141 142 143\n",
      " 144 145 146 147 148 149 150 151 152 153 154 155 156 157 158 159 160 161\n",
      " 162 163 164 165 166 167 168 169 170 171 172 173 174 175 176 177 178 179\n",
      " 180 181 182 183 184 185 186 187 188 189 190 191 192 193 194 195 196 197\n",
      " 198 199 200 201 202 203 204 205 206 207 208 209 210 211 212 213 214 215\n",
      " 216 217 218 219 220 221 222 223 224 225 226 227 228 229 230 231 232 233\n",
      " 234 235 236 237 238 239 240 241 242 243 244 245 246 247 248 249 250 251\n",
      " 252 253 254 255 256 257 258 259 260 261 262 263 264 265 266 267 268 269\n",
      " 270 271 272 273 274 275 276 277 278 279 280 281 282 283 284 285 286 287\n",
      " 288 289 290 291 292 293 294 295 296 297 298 299]\n"
     ]
    },
    {
     "data": {
      "image/png": "[encoded data removed]",
      "text/plain": [
       "<Figure size 432x288 with 1 Axes>"
      ]
     },
     "metadata": {
      "needs_background": "light"
     },
     "output_type": "display_data"
    }
   ],
   "source": [
    "#Graficar\n",
    "plt.scatter(x1, y1)\n",
    "x_real1 = np.array(range(90, 300))\n",
    "print(x_real1)\n",
    "plt.plot(x_real1, regr1.predict(x_real1.reshape(-1, 1)), color='green')\n",
    "plt.show()"
   ]
  },
  {
   "cell_type": "markdown",
   "metadata": {},
   "source": [
    "## Comparacion de las Garaficas y sus predicciones"
   ]
  },
  {
   "cell_type": "code",
   "execution_count": 19,
   "metadata": {},
   "outputs": [
    {
     "data": {
      "text/plain": [
       "<matplotlib.legend.Legend at 0x1d3a88142e0>"
      ]
     },
     "execution_count": 19,
     "metadata": {},
     "output_type": "execute_result"
    },
    {
     "data": {
      "image/png": "[encoded data removed]",
      "text/plain": [
       "<Figure size 432x288 with 1 Axes>"
      ]
     },
     "metadata": {
      "needs_background": "light"
     },
     "output_type": "display_data"
    }
   ],
   "source": [
    "plt.ylabel(\"Numero Personas\")   # Inserta el título del eje Y\n",
    "plt.scatter(x, y)\n",
    "x_real1 = np.array(range(0, 300))\n",
    "plt.plot(x_real1, regr1.predict(x_real1.reshape(-1, 1)), linestyle=':', color='b', label = \"Prediccion infectados\" )  \n",
    "plt.ion()   # Activa modo interactivo de dibujo\n",
    "plt.scatter(x1, y1)\n",
    "x_real = np.array(range(0, 300))\n",
    "plt.plot(x_real, regr.predict(x_real.reshape(-1, 1)), linestyle=':', color='g', label = \"Prediccion curados\")   # Dibuja datos de  \n",
    "plt.legend(loc=\"upper left\")"
   ]
  },
  {
   "cell_type": "markdown",
   "metadata": {},
   "source": [
    "## Analisis\n",
    "lo que se puede sacar del analisi de los datatos es que existe un  gran desfase entre el numero de infectados y el numero de recuperados\n",
    "## Conclusiones\n",
    "segun  este modelo se puede concluir que este modelo no se ajusta alos datos de ingreso locual implica que exista un desface en la prediccion a futuro\n",
    "## Criterio personal (politico, economico y  social de la situacion)\n",
    "lo que se puede concluir es que el indice de recuperados es menor al indice de infectados lo cual causa que el numero de infeectados aumente y aga que los hospitales colapse\n",
    "\n",
    "# Referencias\n",
    "\n",
    "- https://github.com/andrab/ecuacovid/tree/master/datos_crudos\n",
    "\n",
    "- https://www.aprendemachinelearning.com/regresion-lineal-en-espanol-con-python/\n",
    "\n",
    "- https://python-para-impacientes.blogspot.com/2014/08/graficos-en-ipython.html"
   ]
  },
  {
   "cell_type": "code",
   "execution_count": null,
   "metadata": {},
   "outputs": [],
   "source": []
  }
 ],
 "metadata": {
  "kernelspec": {
   "display_name": "Python 3",
   "language": "python",
   "name": "python3"
  },
  "language_info": {
   "codemirror_mode": {
    "name": "ipython",
    "version": 3
   },
   "file_extension": ".py",
   "mimetype": "text/x-python",
   "name": "python",
   "nbconvert_exporter": "python",
   "pygments_lexer": "ipython3",
   "version": "3.8.3"
  }
 },
 "nbformat": 4,
 "nbformat_minor": 4
}
