{
 "cells": [
  {
   "cell_type": "code",
   "execution_count": 9,
   "metadata": {},
   "outputs": [],
   "source": [
    "import os\n",
    "import csv\n",
    "import time\n",
    "import wget\n",
    "import pandas as pd\n",
    "from selenium import webdriver\n",
    "from selenium.webdriver.common.by import By\n",
    "from selenium.webdriver.common.action_chains import ActionChains\n",
    "from selenium.webdriver.support.wait import WebDriverWait\n",
    "from selenium.webdriver.support import expected_conditions as EC\n",
    "from selenium.webdriver.common.keys import Keys\n",
    "from selenium.webdriver.common.desired_capabilities import DesiredCapabilities"
   ]
  },
  {
   "cell_type": "code",
   "execution_count": 7,
   "metadata": {},
   "outputs": [],
   "source": [
    "import time\n",
    "\n",
    "from selenium import webdriver\n",
    "from selenium.webdriver.chrome.service import Service\n",
    "\n",
    "service = Service('C:\\Program Files (x86)/chromedriver.exe')\n",
    "service.start()\n",
    "driver = webdriver.Remote(service.service_url)\n",
    "driver.get('http://www.google.com/');\n",
    "time.sleep(5) # Let the user actually see something!\n",
    "driver.quit()"
   ]
  },
  {
   "cell_type": "code",
   "execution_count": 17,
   "metadata": {},
   "outputs": [
    {
     "ename": "AttributeError",
     "evalue": "'WebElement' object has no attribute 'set_window_size'",
     "output_type": "error",
     "traceback": [
      "\u001b[1;31m---------------------------------------------------------------------------\u001b[0m",
      "\u001b[1;31mAttributeError\u001b[0m                            Traceback (most recent call last)",
      "\u001b[1;32m<ipython-input-17-0c906454bcb0>\u001b[0m in \u001b[0;36m<module>\u001b[1;34m\u001b[0m\n\u001b[0;32m     19\u001b[0m \u001b[0melement\u001b[0m\u001b[1;33m.\u001b[0m\u001b[0msend_keys\u001b[0m\u001b[1;33m(\u001b[0m\u001b[0mKeys\u001b[0m\u001b[1;33m.\u001b[0m\u001b[0mRETURN\u001b[0m\u001b[1;33m)\u001b[0m\u001b[1;33m\u001b[0m\u001b[1;33m\u001b[0m\u001b[0m\n\u001b[0;32m     20\u001b[0m \u001b[0mtime\u001b[0m\u001b[1;33m.\u001b[0m\u001b[0msleep\u001b[0m\u001b[1;33m(\u001b[0m\u001b[1;36m5\u001b[0m\u001b[1;33m)\u001b[0m \u001b[1;31m# Let the user actually see something!\u001b[0m\u001b[1;33m\u001b[0m\u001b[1;33m\u001b[0m\u001b[0m\n\u001b[1;32m---> 21\u001b[1;33m \u001b[0melement\u001b[0m\u001b[1;33m.\u001b[0m\u001b[0mset_window_size\u001b[0m\u001b[1;33m(\u001b[0m\u001b[1;36m1115\u001b[0m\u001b[1;33m,\u001b[0m \u001b[1;36m701\u001b[0m\u001b[1;33m)\u001b[0m\u001b[1;33m\u001b[0m\u001b[1;33m\u001b[0m\u001b[0m\n\u001b[0m\u001b[0;32m     22\u001b[0m \u001b[0melement\u001b[0m\u001b[1;33m.\u001b[0m\u001b[0mfind_element\u001b[0m\u001b[1;33m(\u001b[0m\u001b[0mBy\u001b[0m\u001b[1;33m.\u001b[0m\u001b[0mXPATH\u001b[0m\u001b[1;33m,\u001b[0m \u001b[1;34m\"//div[3]/span/div/i\"\u001b[0m\u001b[1;33m)\u001b[0m\u001b[1;33m.\u001b[0m\u001b[0mclick\u001b[0m\u001b[1;33m(\u001b[0m\u001b[1;33m)\u001b[0m\u001b[1;33m\u001b[0m\u001b[1;33m\u001b[0m\u001b[0m\n\u001b[0;32m     23\u001b[0m \u001b[0melement\u001b[0m\u001b[1;33m.\u001b[0m\u001b[0mfind_element\u001b[0m\u001b[1;33m(\u001b[0m\u001b[0mBy\u001b[0m\u001b[1;33m.\u001b[0m\u001b[0mXPATH\u001b[0m\u001b[1;33m,\u001b[0m \u001b[1;34m\"//div[2]/div/div/div/div/span\"\u001b[0m\u001b[1;33m)\u001b[0m\u001b[1;33m.\u001b[0m\u001b[0mclick\u001b[0m\u001b[1;33m(\u001b[0m\u001b[1;33m)\u001b[0m\u001b[1;33m\u001b[0m\u001b[1;33m\u001b[0m\u001b[0m\n",
      "\u001b[1;31mAttributeError\u001b[0m: 'WebElement' object has no attribute 'set_window_size'"
     ]
    }
   ],
   "source": [
    "from selenium import webdriver\n",
    "\n",
    "from selenium.webdriver.chrome.service import Service\n",
    "\n",
    "#Iniciamos Selenium con el navegador Google Chrome\n",
    "\n",
    "from selenium.webdriver.common.keys import Keys\n",
    "\n",
    "driver = webdriver.Firefox()\n",
    "#driver = webdriver.Remote(service.service_url)\n",
    "user_name = \"edisonezequiel1995@gmail.com\"\n",
    "password = \"EMPFiitb5404\"\n",
    "\n",
    "driver.get(\"https://www.facebook.com\")\n",
    "element = driver.find_element_by_id(\"email\")\n",
    "element.send_keys(user_name)\n",
    "element = driver.find_element_by_id(\"pass\")\n",
    "element.send_keys(password)\n",
    "element.send_keys(Keys.RETURN)\n",
    "time.sleep(5) # Let the user actually see something!\n",
    "\n",
    "element.find_element(By.XPATH, \"//div[3]/span/div/i\").click()\n",
    "element.find_element(By.XPATH, \"//div[2]/div/div/div/div/span\").click()\n",
    "element.find_element(By.XPATH, \"//div[2]/div/div/span/div/div/div/div/div/i\").click()\n",
    "\n",
    "#driver.find_element(By.XPATH, \"//div[3]/span/div/i\").click()\n",
    "#driver.find_element(By.XPATH, \"//div[2]/div/div/div/div/span\").click()\n",
    "#driver.find_element(By.XPATH, \"//div[2]/div/div/span/div/div/div/div/div/i\").click()\n",
    "#driver.find_element(By.XPATH, \"//div[3]/div/div[2]/div/div/input\").send_keys(\"avaa\")\n",
    "#driver.find_element(By.XPATH, \"//html[@id=\\'facebook\\']/body/div[10]/div/div/div[2]/div/div/div/form/div/div/div/div/div[3]/div[2]/div/div\").click()\n",
    "  \n",
    "\n",
    "#driver.quit()"
   ]
  },
  {
   "cell_type": "code",
   "execution_count": 7,
   "metadata": {},
   "outputs": [],
   "source": [
    "from selenium import webdriver\n",
    "from selenium.webdriver.common.keys import Keys\n",
    "import time\n",
    "from selenium.webdriver.common.by import By\n",
    "from selenium.webdriver.chrome.service import Service\n",
    "\n",
    "service = Service('C:\\Program Files (x86)\\chromedriver.exe')\n",
    "service.start()\n",
    "driver = webdriver.Remote(service.service_url)\n",
    "driver.get('https://www.google.com')\n",
    "driver.find_element(By.NAME, \"q\").send_keys(\"google doc\" + Keys.ENTER)\n",
    "webdriver.ActionChains(driver).key_down(Keys.CONTROL).send_keys(\"a\").perform()\n",
    "# Abrimos una nueva pestaña\n",
    "#driver.execute_script(\"window.open('');\")\n",
    "\n",
    "time.sleep(5)\n",
    "#driver.switch_to.window(driver.window_handles[1])\n",
    "#user_name = \"edisonezequiel1995@gmail.com\"\n",
    "#password = \"EMPFiitb5404\"\n",
    "#driver.get(\"https://www.facebook.com\")\n",
    "#element = driver.find_element_by_id(\"email\")\n",
    "#element.send_keys(user_name)\n",
    "#element = driver.find_element_by_id(\"pass\")\n",
    "#element.send_keys(password)\n",
    "#element.send_keys(Keys.RETURN)\n",
    "#time.sleep(5)\n"
   ]
  },
  {
   "cell_type": "code",
   "execution_count": 22,
   "metadata": {
    "scrolled": true
   },
   "outputs": [
    {
     "data": {
      "text/plain": [
       "<__main__.TestDocumento at 0x20697cf5970>"
      ]
     },
     "execution_count": 22,
     "metadata": {},
     "output_type": "execute_result"
    }
   ],
   "source": [
    "import pytest\n",
    "import time\n",
    "import json\n",
    "from selenium import webdriver\n",
    "from selenium.webdriver.common.by import By\n",
    "from selenium.webdriver.common.action_chains import ActionChains\n",
    "from selenium.webdriver.support import expected_conditions\n",
    "from selenium.webdriver.support.wait import WebDriverWait\n",
    "from selenium.webdriver.common.keys import Keys\n",
    "from selenium.webdriver.common.desired_capabilities import DesiredCapabilities\n",
    "\n",
    "class TestDocumento():\n",
    "  def setup_method(self, method):\n",
    "    self.driver = webdriver.Chrome()\n",
    "    self.vars = {}\n",
    "  \n",
    "  def teardown_method(self, method):\n",
    "    self.driver.quit()\n",
    "  \n",
    "  def wait_for_window(self, timeout = 2):\n",
    "    time.sleep(round(timeout / 1000))\n",
    "    wh_now = self.driver.window_handles\n",
    "    wh_then = self.vars[\"window_handles\"]\n",
    "    if len(wh_now) > len(wh_then):\n",
    "      return set(wh_now).difference(set(wh_then)).pop()\n",
    "  \n",
    "  def test_documento(self):\n",
    "    self.driver.get(\"https://login.live.com/\")\n",
    "    self.driver.set_window_size(945, 995)\n",
    "    self.driver.find_element(By.ID, \"i0116\").click()\n",
    "    self.driver.find_element(By.ID, \"i0116\").click()\n",
    "    self.driver.find_element(By.ID, \"i0116\").send_keys(\"edisonezequiel1995@hotmail.com\")\n",
    "    self.driver.find_element(By.ID, \"idSIButton9\").click()\n",
    "    self.driver.find_element(By.ID, \"i0118\").click()\n",
    "    self.driver.find_element(By.ID, \"i0118\").send_keys(\"EMPFiitb5404\")\n",
    "    time.sleep(2)\n",
    "    self.driver.find_element(By.ID, \"idSIButton9\").click()\n",
    "    element = self.driver.find_element(By.LINK_TEXT, \"Tu informaciÃ³n\")\n",
    "    actions = ActionChains(self.driver)\n",
    "    actions.move_to_element(element).perform()\n",
    "    element = self.driver.find_element(By.CSS_SELECTOR, \"body\")\n",
    "    actions = ActionChains(self.driver)\n",
    "    actions.move_to_element(element, 0, 0).perform()\n",
    "    element = self.driver.find_element(By.CSS_SELECTOR, \".css-369\")\n",
    "    actions = ActionChains(self.driver)\n",
    "    actions.move_to_element(element).perform()\n",
    "    element = self.driver.find_element(By.CSS_SELECTOR, \"body\")\n",
    "    actions = ActionChains(self.driver)\n",
    "    actions.move_to_element(element, 0, 0).perform()\n",
    "    self.driver.find_element(By.CSS_SELECTOR, \".ms-Icon--WaffleOffice365\").click()\n",
    "    element = self.driver.find_element(By.CSS_SELECTOR, \".o365cs-base > .ms-Icon--WaffleOffice365\")\n",
    "    actions = ActionChains(self.driver)\n",
    "    actions.move_to_element(element).perform()\n",
    "    element = self.driver.find_element(By.CSS_SELECTOR, \"body\")\n",
    "    actions = ActionChains(self.driver)\n",
    "    actions.move_to_element(element, 0, 0).perform()\n",
    "    self.driver.find_element(By.CSS_SELECTOR, \".\\\\_1HJV45WSd5AgKYxKiK4-Fc > .x-hidden-focus\").click()\n",
    "    self.vars[\"window_handles\"] = self.driver.window_handles\n",
    "    self.driver.find_element(By.CSS_SELECTOR, \".list-item__text--large > .ng-tns-c7-11\").click()\n",
    "    self.vars[\"win4405\"] = self.wait_for_window(2000)\n",
    "    self.driver.switch_to.window(self.vars[\"win4405\"])\n",
    "    self.driver.switch_to.frame(0)\n",
    "    self.driver.find_element(By.CSS_SELECTOR, \".OutlineElement:nth-child(2) .Paragraph\").click()\n",
    "    element = self.driver.find_element(By.CSS_SELECTOR, \".root-236 svg\")\n",
    "    actions = ActionChains(self.driver)\n",
    "    actions.move_to_element(element).perform()\n",
    "    element = self.driver.find_element(By.CSS_SELECTOR, \"body\")\n",
    "    actions = ActionChains(self.driver)\n",
    "    actions.move_to_element(element, 0, 0).perform()\n",
    "    element = self.driver.find_element(By.ID, \"WACViewPanel_EditingElement\")\n",
    "    self.driver.execute_script(\"if(arguments[0].contentEditable === 'true') {arguments[0].innerText = '<p class=\\\"Paragraph\\\" xml:lang=\\\"ES-ES\\\" lang=\\\"ES-ES\\\" paraid=\\\"706512857\\\" paraeid=\\\"{74762416-6d6d-4f1b-a59c-8d7c9a671577}{10}\\\" style=\\\"font-weight: normal; font-style: normal; vertical-align: baseline; font-family: &quot;Segoe UI&quot;, Tahoma, Verdana, Sans-Serif; font-kerning: none; background-color: transparent; color: windowtext; text-align: left; margin-left: 0px; margin-right: 0px; padding-left: 0px; padding-right: 0px; text-indent: 0px; font-size: 6pt;\\\"><span data-contrast=\\\"auto\\\" xml:lang=\\\"ES-ES\\\" lang=\\\"ES-ES\\\" class=\\\"TextRun\\\" style=\\\"font-size: 11pt; line-height: 19.425px; font-family: WordVisi_MSFontService, Calibri, Calibri_EmbeddedFont, Calibri_MSFontService, sans-serif; font-weight: bold;\\\"><span class=\\\"NormalTextRun\\\" style=\\\"background-color: inherit;\\\">Incio:sss</span></span><span class=\\\"EOP\\\" data-ccp-props=\\\"{&quot;201341983&quot;:0,&quot;335551550&quot;:1,&quot;335551620&quot;:1,&quot;335559739&quot;:160,&quot;335559740&quot;:259}\\\" style=\\\"font-size: 11pt; line-height: 19.425px; font-family: WordVisiPilcrow_MSFontService, Calibri, Calibri_EmbeddedFont, Calibri_MSFontService, sans-serif;\\\">&nbsp;</span></p>'}\", element)\n",
    "TestDocumento()\n",
    "\n",
    "# Final del script de login"
   ]
  },
  {
   "cell_type": "code",
   "execution_count": 59,
   "metadata": {},
   "outputs": [
    {
     "ename": "StaleElementReferenceException",
     "evalue": "Message: stale element reference: element is not attached to the page document\n  (Session info: chrome=88.0.4324.146)\nStacktrace:\nBacktrace:\n\tGetHandleVerifier [0x008EB963+483]\n\tGetHandleVerifier [0x008EB941+449]\n\tGetHandleVerifier [0x00C93308+3832712]\n\tGetHandleVerifier [0x00C9585A+3842266]\n\tGetHandleVerifier [0x00C95752+3842002]\n\tGetHandleVerifier [0x00C95EA1+3843873]\n\tGetHandleVerifier [0x00CD794F+4112847]\n\tGetHandleVerifier [0x00CCB403+4062339]\n\tGetHandleVerifier [0x00CD7159+4110809]\n\tGetHandleVerifier [0x00CCB2EB+4062059]\n\tGetHandleVerifier [0x00CAED14+3945876]\n\tGetHandleVerifier [0x00CAFBCE+3949646]\n\tGetHandleVerifier [0x00CAFB59+3949529]\n\tOrdinal0 [0x008AB5CC+46540]\n\tOrdinal0 [0x008A9F53+40787]\n\tOrdinal0 [0x008A9B12+39698]\n\tGetHandleVerifier [0x00BB1468+2907368]\n\tGetHandleVerifier [0x009F71EE+1096302]\n\tGetHandleVerifier [0x009B3E8D+821005]\n\tGetHandleVerifier [0x009B396B+819691]\n\tGetHandleVerifier [0x009B3881+819457]\n\tGetHandleVerifier [0x009DF463+998627]\n\tBaseThreadInitThunk [0x7597FA29+25]\n\tRtlGetAppContainerNamedObjectPath [0x76F875F4+228]\n\tRtlGetAppContainerNamedObjectPath [0x76F875C4+180]\n",
     "output_type": "error",
     "traceback": [
      "\u001b[1;31m---------------------------------------------------------------------------\u001b[0m",
      "\u001b[1;31mStaleElementReferenceException\u001b[0m            Traceback (most recent call last)",
      "\u001b[1;32m<ipython-input-59-fd3f112db9da>\u001b[0m in \u001b[0;36m<module>\u001b[1;34m\u001b[0m\n\u001b[0;32m     33\u001b[0m \u001b[0mdriver\u001b[0m\u001b[1;33m.\u001b[0m\u001b[0mfind_element\u001b[0m\u001b[1;33m(\u001b[0m\u001b[0mBy\u001b[0m\u001b[1;33m.\u001b[0m\u001b[0mCSS_SELECTOR\u001b[0m\u001b[1;33m,\u001b[0m \u001b[1;34m\".OutlineElement:nth-child(7) .Paragraph\"\u001b[0m\u001b[1;33m)\u001b[0m\u001b[1;33m.\u001b[0m\u001b[0mclick\u001b[0m\u001b[1;33m(\u001b[0m\u001b[1;33m)\u001b[0m\u001b[1;33m\u001b[0m\u001b[1;33m\u001b[0m\u001b[0m\n\u001b[0;32m     34\u001b[0m \u001b[1;31m#element = driver.find_element(By.ID, \"WACViewPanel_EditingElement\")\u001b[0m\u001b[1;33m\u001b[0m\u001b[1;33m\u001b[0m\u001b[1;33m\u001b[0m\u001b[0m\n\u001b[1;32m---> 35\u001b[1;33m \u001b[0mdriver\u001b[0m\u001b[1;33m.\u001b[0m\u001b[0mexecute_script\u001b[0m\u001b[1;33m(\u001b[0m\u001b[1;34m\"if(arguments[0].contentEditable === 'true') {arguments[0].innerText = '123'}\"\u001b[0m\u001b[1;33m,\u001b[0m \u001b[0melement\u001b[0m\u001b[1;33m)\u001b[0m\u001b[1;33m\u001b[0m\u001b[1;33m\u001b[0m\u001b[0m\n\u001b[0m\u001b[0;32m     36\u001b[0m \u001b[1;31m##element = driver.find_element(By.ID, \"WACViewPanel_EditingElement\")\u001b[0m\u001b[1;33m\u001b[0m\u001b[1;33m\u001b[0m\u001b[1;33m\u001b[0m\u001b[0m\n\u001b[0;32m     37\u001b[0m \u001b[1;33m\u001b[0m\u001b[0m\n",
      "\u001b[1;32m~\\anaconda3\\lib\\site-packages\\selenium\\webdriver\\remote\\webdriver.py\u001b[0m in \u001b[0;36mexecute_script\u001b[1;34m(self, script, *args)\u001b[0m\n\u001b[0;32m    757\u001b[0m             \u001b[0mcommand\u001b[0m \u001b[1;33m=\u001b[0m \u001b[0mCommand\u001b[0m\u001b[1;33m.\u001b[0m\u001b[0mEXECUTE_SCRIPT\u001b[0m\u001b[1;33m\u001b[0m\u001b[1;33m\u001b[0m\u001b[0m\n\u001b[0;32m    758\u001b[0m \u001b[1;33m\u001b[0m\u001b[0m\n\u001b[1;32m--> 759\u001b[1;33m         return self.execute(command, {\n\u001b[0m\u001b[0;32m    760\u001b[0m             \u001b[1;34m'script'\u001b[0m\u001b[1;33m:\u001b[0m \u001b[0mscript\u001b[0m\u001b[1;33m,\u001b[0m\u001b[1;33m\u001b[0m\u001b[1;33m\u001b[0m\u001b[0m\n\u001b[0;32m    761\u001b[0m             'args': converted_args})['value']\n",
      "\u001b[1;32m~\\anaconda3\\lib\\site-packages\\selenium\\webdriver\\remote\\webdriver.py\u001b[0m in \u001b[0;36mexecute\u001b[1;34m(self, driver_command, params)\u001b[0m\n\u001b[0;32m    366\u001b[0m         \u001b[0mresponse\u001b[0m \u001b[1;33m=\u001b[0m \u001b[0mself\u001b[0m\u001b[1;33m.\u001b[0m\u001b[0mcommand_executor\u001b[0m\u001b[1;33m.\u001b[0m\u001b[0mexecute\u001b[0m\u001b[1;33m(\u001b[0m\u001b[0mdriver_command\u001b[0m\u001b[1;33m,\u001b[0m \u001b[0mparams\u001b[0m\u001b[1;33m)\u001b[0m\u001b[1;33m\u001b[0m\u001b[1;33m\u001b[0m\u001b[0m\n\u001b[0;32m    367\u001b[0m         \u001b[1;32mif\u001b[0m \u001b[0mresponse\u001b[0m\u001b[1;33m:\u001b[0m\u001b[1;33m\u001b[0m\u001b[1;33m\u001b[0m\u001b[0m\n\u001b[1;32m--> 368\u001b[1;33m             \u001b[0mself\u001b[0m\u001b[1;33m.\u001b[0m\u001b[0merror_handler\u001b[0m\u001b[1;33m.\u001b[0m\u001b[0mcheck_response\u001b[0m\u001b[1;33m(\u001b[0m\u001b[0mresponse\u001b[0m\u001b[1;33m)\u001b[0m\u001b[1;33m\u001b[0m\u001b[1;33m\u001b[0m\u001b[0m\n\u001b[0m\u001b[0;32m    369\u001b[0m             response['value'] = self._unwrap_value(\n\u001b[0;32m    370\u001b[0m                 response.get('value', None))\n",
      "\u001b[1;32m~\\anaconda3\\lib\\site-packages\\selenium\\webdriver\\remote\\errorhandler.py\u001b[0m in \u001b[0;36mcheck_response\u001b[1;34m(self, response)\u001b[0m\n\u001b[0;32m    238\u001b[0m                 \u001b[0malert_text\u001b[0m \u001b[1;33m=\u001b[0m \u001b[0mvalue\u001b[0m\u001b[1;33m[\u001b[0m\u001b[1;34m'alert'\u001b[0m\u001b[1;33m]\u001b[0m\u001b[1;33m.\u001b[0m\u001b[0mget\u001b[0m\u001b[1;33m(\u001b[0m\u001b[1;34m'text'\u001b[0m\u001b[1;33m)\u001b[0m\u001b[1;33m\u001b[0m\u001b[1;33m\u001b[0m\u001b[0m\n\u001b[0;32m    239\u001b[0m             \u001b[1;32mraise\u001b[0m \u001b[0mexception_class\u001b[0m\u001b[1;33m(\u001b[0m\u001b[0mmessage\u001b[0m\u001b[1;33m,\u001b[0m \u001b[0mscreen\u001b[0m\u001b[1;33m,\u001b[0m \u001b[0mstacktrace\u001b[0m\u001b[1;33m,\u001b[0m \u001b[0malert_text\u001b[0m\u001b[1;33m)\u001b[0m\u001b[1;33m\u001b[0m\u001b[1;33m\u001b[0m\u001b[0m\n\u001b[1;32m--> 240\u001b[1;33m         \u001b[1;32mraise\u001b[0m \u001b[0mexception_class\u001b[0m\u001b[1;33m(\u001b[0m\u001b[0mmessage\u001b[0m\u001b[1;33m,\u001b[0m \u001b[0mscreen\u001b[0m\u001b[1;33m,\u001b[0m \u001b[0mstacktrace\u001b[0m\u001b[1;33m)\u001b[0m\u001b[1;33m\u001b[0m\u001b[1;33m\u001b[0m\u001b[0m\n\u001b[0m\u001b[0;32m    241\u001b[0m \u001b[1;33m\u001b[0m\u001b[0m\n\u001b[0;32m    242\u001b[0m     \u001b[1;32mdef\u001b[0m \u001b[0m_value_or_default\u001b[0m\u001b[1;33m(\u001b[0m\u001b[0mself\u001b[0m\u001b[1;33m,\u001b[0m \u001b[0mobj\u001b[0m\u001b[1;33m,\u001b[0m \u001b[0mkey\u001b[0m\u001b[1;33m,\u001b[0m \u001b[0mdefault\u001b[0m\u001b[1;33m)\u001b[0m\u001b[1;33m:\u001b[0m\u001b[1;33m\u001b[0m\u001b[1;33m\u001b[0m\u001b[0m\n",
      "\u001b[1;31mStaleElementReferenceException\u001b[0m: Message: stale element reference: element is not attached to the page document\n  (Session info: chrome=88.0.4324.146)\nStacktrace:\nBacktrace:\n\tGetHandleVerifier [0x008EB963+483]\n\tGetHandleVerifier [0x008EB941+449]\n\tGetHandleVerifier [0x00C93308+3832712]\n\tGetHandleVerifier [0x00C9585A+3842266]\n\tGetHandleVerifier [0x00C95752+3842002]\n\tGetHandleVerifier [0x00C95EA1+3843873]\n\tGetHandleVerifier [0x00CD794F+4112847]\n\tGetHandleVerifier [0x00CCB403+4062339]\n\tGetHandleVerifier [0x00CD7159+4110809]\n\tGetHandleVerifier [0x00CCB2EB+4062059]\n\tGetHandleVerifier [0x00CAED14+3945876]\n\tGetHandleVerifier [0x00CAFBCE+3949646]\n\tGetHandleVerifier [0x00CAFB59+3949529]\n\tOrdinal0 [0x008AB5CC+46540]\n\tOrdinal0 [0x008A9F53+40787]\n\tOrdinal0 [0x008A9B12+39698]\n\tGetHandleVerifier [0x00BB1468+2907368]\n\tGetHandleVerifier [0x009F71EE+1096302]\n\tGetHandleVerifier [0x009B3E8D+821005]\n\tGetHandleVerifier [0x009B396B+819691]\n\tGetHandleVerifier [0x009B3881+819457]\n\tGetHandleVerifier [0x009DF463+998627]\n\tBaseThreadInitThunk [0x7597FA29+25]\n\tRtlGetAppContainerNamedObjectPath [0x76F875F4+228]\n\tRtlGetAppContainerNamedObjectPath [0x76F875C4+180]\n"
     ]
    }
   ],
   "source": [
    "import pytest\n",
    "import time\n",
    "import json\n",
    "from selenium import webdriver\n",
    "from selenium.webdriver.common.by import By\n",
    "from selenium.webdriver.common.action_chains import ActionChains\n",
    "from selenium.webdriver.support import expected_conditions\n",
    "from selenium.webdriver.support.wait import WebDriverWait\n",
    "from selenium.webdriver.common.keys import Keys\n",
    "from selenium.webdriver.common.desired_capabilities import DesiredCapabilities\n",
    "\n",
    "\n",
    "service = Service('C:\\Program Files (x86)\\chromedriver.exe')\n",
    "service.start()\n",
    "driver = webdriver.Remote(service.service_url)\n",
    "\n",
    "user_name = \"edisonezequiel1995@hotmail.com\"\n",
    "password = \"EMPFiitb5404\"\n",
    "\n",
    "driver.get('https://login.live.com')\n",
    "element = driver.find_element_by_id(\"i0116\")\n",
    "element.send_keys(user_name)\n",
    "element.send_keys(Keys.RETURN)\n",
    "time.sleep(2)\n",
    "element = driver.find_element_by_id(\"i0118\")\n",
    "element.send_keys(password)\n",
    "element.send_keys(Keys.RETURN)\n",
    "\n",
    "time.sleep(1)\n",
    "driver.get('https://onedrive.live.com/edit.aspx?resid=EFEF80B4F851DDC!106&cid=33955d6c-4f7e-41db-a6b2-2d63160fdf97&ithint=file%2cdocx&wdOrigin=OFFICECOM-WEB.START.MRU')\n",
    "driver.set_window_size(945, 1020)\n",
    "driver.switch_to.frame(0)\n",
    "driver.find_element(By.CSS_SELECTOR, \".OutlineElement:nth-child(7) .Paragraph\").click()\n",
    "element = driver.find_element(By.ID, \"WACViewPanel_EditingElement\")\n",
    "driver.execute_script(\"if(arguments[0].contentEditable === 'true') {arguments[0].innerText = '123'}\", element)\n",
    "\n",
    "##element = driver.find_element(By.ID, \"WACViewPanel_EditingElement\")\n",
    "   "
   ]
  },
  {
   "cell_type": "code",
   "execution_count": 21,
   "metadata": {},
   "outputs": [
    {
     "ename": "ElementClickInterceptedException",
     "evalue": "Message: element click intercepted: Element <canvas class=\"upper-canvas \" width=\"559\" height=\"559\" style=\"position: absolute; width: 559px; height: 559px; left: 0px; top: 0px; touch-action: none; user-select: none; border: 1px solid rgb(200, 200, 200) !important;\"></canvas> is not clickable at point (291, 474). Other element would receive the click: <span id=\"loadingText\" class=\"arialazulgrande\">...</span>\n  (Session info: chrome=88.0.4324.146)\nStacktrace:\nBacktrace:\n\tGetHandleVerifier [0x0023B963+483]\n\tGetHandleVerifier [0x0023B941+449]\n\tGetHandleVerifier [0x005E3308+3832712]\n\tGetHandleVerifier [0x00609FB1+3991601]\n\tGetHandleVerifier [0x00608D51+3986897]\n\tGetHandleVerifier [0x0060780B+3981451]\n\tGetHandleVerifier [0x00606E1C+3978908]\n\tGetHandleVerifier [0x00600199+3951129]\n\tGetHandleVerifier [0x0061B403+4062339]\n\tGetHandleVerifier [0x005FFFB6+3950646]\n\tGetHandleVerifier [0x0061B4CA+4062538]\n\tGetHandleVerifier [0x00627159+4110809]\n\tGetHandleVerifier [0x0061B2EB+4062059]\n\tGetHandleVerifier [0x005FED14+3945876]\n\tGetHandleVerifier [0x005FFBCE+3949646]\n\tGetHandleVerifier [0x005FFB59+3949529]\n\tOrdinal0 [0x001FB5CC+46540]\n\tOrdinal0 [0x001F9F53+40787]\n\tOrdinal0 [0x001F9B12+39698]\n\tGetHandleVerifier [0x00501468+2907368]\n\tGetHandleVerifier [0x003471EE+1096302]\n\tGetHandleVerifier [0x00303E8D+821005]\n\tGetHandleVerifier [0x0030396B+819691]\n\tGetHandleVerifier [0x00303881+819457]\n\tGetHandleVerifier [0x0032F463+998627]\n\tBaseThreadInitThunk [0x76AAFA29+25]\n\tRtlGetAppContainerNamedObjectPath [0x771075F4+228]\n\tRtlGetAppContainerNamedObjectPath [0x771075C4+180]\n",
     "output_type": "error",
     "traceback": [
      "\u001b[1;31m---------------------------------------------------------------------------\u001b[0m",
      "\u001b[1;31mElementClickInterceptedException\u001b[0m          Traceback (most recent call last)",
      "\u001b[1;32m<ipython-input-21-575ccd6e8e1b>\u001b[0m in \u001b[0;36m<module>\u001b[1;34m\u001b[0m\n\u001b[0;32m     76\u001b[0m \u001b[1;33m\u001b[0m\u001b[0m\n\u001b[0;32m     77\u001b[0m \u001b[1;33m\u001b[0m\u001b[0m\n\u001b[1;32m---> 78\u001b[1;33m \u001b[0mtest_prueva2\u001b[0m\u001b[1;33m(\u001b[0m\u001b[1;33m)\u001b[0m\u001b[1;33m\u001b[0m\u001b[1;33m\u001b[0m\u001b[0m\n\u001b[0m\u001b[0;32m     79\u001b[0m \u001b[1;33m\u001b[0m\u001b[0m\n",
      "\u001b[1;32m<ipython-input-21-575ccd6e8e1b>\u001b[0m in \u001b[0;36mtest_prueva2\u001b[1;34m()\u001b[0m\n\u001b[0;32m     23\u001b[0m         \u001b[0mdriver\u001b[0m\u001b[1;33m.\u001b[0m\u001b[0mset_window_size\u001b[0m\u001b[1;33m(\u001b[0m\u001b[1;36m1080\u001b[0m\u001b[1;33m,\u001b[0m \u001b[1;36m1020\u001b[0m\u001b[1;33m)\u001b[0m\u001b[1;33m\u001b[0m\u001b[1;33m\u001b[0m\u001b[0m\n\u001b[0;32m     24\u001b[0m         \u001b[0mdriver\u001b[0m\u001b[1;33m.\u001b[0m\u001b[0mexecute_script\u001b[0m\u001b[1;33m(\u001b[0m\u001b[1;34m\"window.scrollTo(0,0)\"\u001b[0m\u001b[1;33m)\u001b[0m\u001b[1;33m\u001b[0m\u001b[1;33m\u001b[0m\u001b[0m\n\u001b[1;32m---> 25\u001b[1;33m         \u001b[0mdriver\u001b[0m\u001b[1;33m.\u001b[0m\u001b[0mfind_element\u001b[0m\u001b[1;33m(\u001b[0m\u001b[0mBy\u001b[0m\u001b[1;33m.\u001b[0m\u001b[0mCSS_SELECTOR\u001b[0m\u001b[1;33m,\u001b[0m \u001b[1;34m\".upper-canvas\"\u001b[0m\u001b[1;33m)\u001b[0m\u001b[1;33m.\u001b[0m\u001b[0mclick\u001b[0m\u001b[1;33m(\u001b[0m\u001b[1;33m)\u001b[0m\u001b[1;33m\u001b[0m\u001b[1;33m\u001b[0m\u001b[0m\n\u001b[0m\u001b[0;32m     26\u001b[0m         \u001b[0mdriver\u001b[0m\u001b[1;33m.\u001b[0m\u001b[0mexecute_script\u001b[0m\u001b[1;33m(\u001b[0m\u001b[1;34m\"window.scrollTo(0,0)\"\u001b[0m\u001b[1;33m)\u001b[0m\u001b[1;33m\u001b[0m\u001b[1;33m\u001b[0m\u001b[0m\n\u001b[0;32m     27\u001b[0m         \u001b[0melement\u001b[0m \u001b[1;33m=\u001b[0m \u001b[0mdriver\u001b[0m\u001b[1;33m.\u001b[0m\u001b[0mfind_element\u001b[0m\u001b[1;33m(\u001b[0m\u001b[0mBy\u001b[0m\u001b[1;33m.\u001b[0m\u001b[0mCSS_SELECTOR\u001b[0m\u001b[1;33m,\u001b[0m \u001b[1;34m\".upper-canvas\"\u001b[0m\u001b[1;33m)\u001b[0m\u001b[1;33m\u001b[0m\u001b[1;33m\u001b[0m\u001b[0m\n",
      "\u001b[1;32m~\\anaconda3\\lib\\site-packages\\selenium\\webdriver\\remote\\webelement.py\u001b[0m in \u001b[0;36mclick\u001b[1;34m(self)\u001b[0m\n\u001b[0;32m     93\u001b[0m     \u001b[1;32mdef\u001b[0m \u001b[0mclick\u001b[0m\u001b[1;33m(\u001b[0m\u001b[0mself\u001b[0m\u001b[1;33m)\u001b[0m\u001b[1;33m:\u001b[0m\u001b[1;33m\u001b[0m\u001b[1;33m\u001b[0m\u001b[0m\n\u001b[0;32m     94\u001b[0m         \u001b[1;34m\"\"\"Clicks the element.\"\"\"\u001b[0m\u001b[1;33m\u001b[0m\u001b[1;33m\u001b[0m\u001b[0m\n\u001b[1;32m---> 95\u001b[1;33m         \u001b[0mself\u001b[0m\u001b[1;33m.\u001b[0m\u001b[0m_execute\u001b[0m\u001b[1;33m(\u001b[0m\u001b[0mCommand\u001b[0m\u001b[1;33m.\u001b[0m\u001b[0mCLICK_ELEMENT\u001b[0m\u001b[1;33m)\u001b[0m\u001b[1;33m\u001b[0m\u001b[1;33m\u001b[0m\u001b[0m\n\u001b[0m\u001b[0;32m     96\u001b[0m \u001b[1;33m\u001b[0m\u001b[0m\n\u001b[0;32m     97\u001b[0m     \u001b[1;32mdef\u001b[0m \u001b[0msubmit\u001b[0m\u001b[1;33m(\u001b[0m\u001b[0mself\u001b[0m\u001b[1;33m)\u001b[0m\u001b[1;33m:\u001b[0m\u001b[1;33m\u001b[0m\u001b[1;33m\u001b[0m\u001b[0m\n",
      "\u001b[1;32m~\\anaconda3\\lib\\site-packages\\selenium\\webdriver\\remote\\webelement.py\u001b[0m in \u001b[0;36m_execute\u001b[1;34m(self, command, params)\u001b[0m\n\u001b[0;32m    706\u001b[0m             \u001b[0mparams\u001b[0m \u001b[1;33m=\u001b[0m \u001b[1;33m{\u001b[0m\u001b[1;33m}\u001b[0m\u001b[1;33m\u001b[0m\u001b[1;33m\u001b[0m\u001b[0m\n\u001b[0;32m    707\u001b[0m         \u001b[0mparams\u001b[0m\u001b[1;33m[\u001b[0m\u001b[1;34m'id'\u001b[0m\u001b[1;33m]\u001b[0m \u001b[1;33m=\u001b[0m \u001b[0mself\u001b[0m\u001b[1;33m.\u001b[0m\u001b[0m_id\u001b[0m\u001b[1;33m\u001b[0m\u001b[1;33m\u001b[0m\u001b[0m\n\u001b[1;32m--> 708\u001b[1;33m         \u001b[1;32mreturn\u001b[0m \u001b[0mself\u001b[0m\u001b[1;33m.\u001b[0m\u001b[0m_parent\u001b[0m\u001b[1;33m.\u001b[0m\u001b[0mexecute\u001b[0m\u001b[1;33m(\u001b[0m\u001b[0mcommand\u001b[0m\u001b[1;33m,\u001b[0m \u001b[0mparams\u001b[0m\u001b[1;33m)\u001b[0m\u001b[1;33m\u001b[0m\u001b[1;33m\u001b[0m\u001b[0m\n\u001b[0m\u001b[0;32m    709\u001b[0m \u001b[1;33m\u001b[0m\u001b[0m\n\u001b[0;32m    710\u001b[0m     \u001b[1;32mdef\u001b[0m \u001b[0mfind_element\u001b[0m\u001b[1;33m(\u001b[0m\u001b[0mself\u001b[0m\u001b[1;33m,\u001b[0m \u001b[0mby\u001b[0m\u001b[1;33m=\u001b[0m\u001b[0mBy\u001b[0m\u001b[1;33m.\u001b[0m\u001b[0mID\u001b[0m\u001b[1;33m,\u001b[0m \u001b[0mvalue\u001b[0m\u001b[1;33m=\u001b[0m\u001b[1;32mNone\u001b[0m\u001b[1;33m)\u001b[0m\u001b[1;33m:\u001b[0m\u001b[1;33m\u001b[0m\u001b[1;33m\u001b[0m\u001b[0m\n",
      "\u001b[1;32m~\\anaconda3\\lib\\site-packages\\selenium\\webdriver\\remote\\webdriver.py\u001b[0m in \u001b[0;36mexecute\u001b[1;34m(self, driver_command, params)\u001b[0m\n\u001b[0;32m    366\u001b[0m         \u001b[0mresponse\u001b[0m \u001b[1;33m=\u001b[0m \u001b[0mself\u001b[0m\u001b[1;33m.\u001b[0m\u001b[0mcommand_executor\u001b[0m\u001b[1;33m.\u001b[0m\u001b[0mexecute\u001b[0m\u001b[1;33m(\u001b[0m\u001b[0mdriver_command\u001b[0m\u001b[1;33m,\u001b[0m \u001b[0mparams\u001b[0m\u001b[1;33m)\u001b[0m\u001b[1;33m\u001b[0m\u001b[1;33m\u001b[0m\u001b[0m\n\u001b[0;32m    367\u001b[0m         \u001b[1;32mif\u001b[0m \u001b[0mresponse\u001b[0m\u001b[1;33m:\u001b[0m\u001b[1;33m\u001b[0m\u001b[1;33m\u001b[0m\u001b[0m\n\u001b[1;32m--> 368\u001b[1;33m             \u001b[0mself\u001b[0m\u001b[1;33m.\u001b[0m\u001b[0merror_handler\u001b[0m\u001b[1;33m.\u001b[0m\u001b[0mcheck_response\u001b[0m\u001b[1;33m(\u001b[0m\u001b[0mresponse\u001b[0m\u001b[1;33m)\u001b[0m\u001b[1;33m\u001b[0m\u001b[1;33m\u001b[0m\u001b[0m\n\u001b[0m\u001b[0;32m    369\u001b[0m             response['value'] = self._unwrap_value(\n\u001b[0;32m    370\u001b[0m                 response.get('value', None))\n",
      "\u001b[1;32m~\\anaconda3\\lib\\site-packages\\selenium\\webdriver\\remote\\errorhandler.py\u001b[0m in \u001b[0;36mcheck_response\u001b[1;34m(self, response)\u001b[0m\n\u001b[0;32m    238\u001b[0m                 \u001b[0malert_text\u001b[0m \u001b[1;33m=\u001b[0m \u001b[0mvalue\u001b[0m\u001b[1;33m[\u001b[0m\u001b[1;34m'alert'\u001b[0m\u001b[1;33m]\u001b[0m\u001b[1;33m.\u001b[0m\u001b[0mget\u001b[0m\u001b[1;33m(\u001b[0m\u001b[1;34m'text'\u001b[0m\u001b[1;33m)\u001b[0m\u001b[1;33m\u001b[0m\u001b[1;33m\u001b[0m\u001b[0m\n\u001b[0;32m    239\u001b[0m             \u001b[1;32mraise\u001b[0m \u001b[0mexception_class\u001b[0m\u001b[1;33m(\u001b[0m\u001b[0mmessage\u001b[0m\u001b[1;33m,\u001b[0m \u001b[0mscreen\u001b[0m\u001b[1;33m,\u001b[0m \u001b[0mstacktrace\u001b[0m\u001b[1;33m,\u001b[0m \u001b[0malert_text\u001b[0m\u001b[1;33m)\u001b[0m\u001b[1;33m\u001b[0m\u001b[1;33m\u001b[0m\u001b[0m\n\u001b[1;32m--> 240\u001b[1;33m         \u001b[1;32mraise\u001b[0m \u001b[0mexception_class\u001b[0m\u001b[1;33m(\u001b[0m\u001b[0mmessage\u001b[0m\u001b[1;33m,\u001b[0m \u001b[0mscreen\u001b[0m\u001b[1;33m,\u001b[0m \u001b[0mstacktrace\u001b[0m\u001b[1;33m)\u001b[0m\u001b[1;33m\u001b[0m\u001b[1;33m\u001b[0m\u001b[0m\n\u001b[0m\u001b[0;32m    241\u001b[0m \u001b[1;33m\u001b[0m\u001b[0m\n\u001b[0;32m    242\u001b[0m     \u001b[1;32mdef\u001b[0m \u001b[0m_value_or_default\u001b[0m\u001b[1;33m(\u001b[0m\u001b[0mself\u001b[0m\u001b[1;33m,\u001b[0m \u001b[0mobj\u001b[0m\u001b[1;33m,\u001b[0m \u001b[0mkey\u001b[0m\u001b[1;33m,\u001b[0m \u001b[0mdefault\u001b[0m\u001b[1;33m)\u001b[0m\u001b[1;33m:\u001b[0m\u001b[1;33m\u001b[0m\u001b[1;33m\u001b[0m\u001b[0m\n",
      "\u001b[1;31mElementClickInterceptedException\u001b[0m: Message: element click intercepted: Element <canvas class=\"upper-canvas \" width=\"559\" height=\"559\" style=\"position: absolute; width: 559px; height: 559px; left: 0px; top: 0px; touch-action: none; user-select: none; border: 1px solid rgb(200, 200, 200) !important;\"></canvas> is not clickable at point (291, 474). Other element would receive the click: <span id=\"loadingText\" class=\"arialazulgrande\">...</span>\n  (Session info: chrome=88.0.4324.146)\nStacktrace:\nBacktrace:\n\tGetHandleVerifier [0x0023B963+483]\n\tGetHandleVerifier [0x0023B941+449]\n\tGetHandleVerifier [0x005E3308+3832712]\n\tGetHandleVerifier [0x00609FB1+3991601]\n\tGetHandleVerifier [0x00608D51+3986897]\n\tGetHandleVerifier [0x0060780B+3981451]\n\tGetHandleVerifier [0x00606E1C+3978908]\n\tGetHandleVerifier [0x00600199+3951129]\n\tGetHandleVerifier [0x0061B403+4062339]\n\tGetHandleVerifier [0x005FFFB6+3950646]\n\tGetHandleVerifier [0x0061B4CA+4062538]\n\tGetHandleVerifier [0x00627159+4110809]\n\tGetHandleVerifier [0x0061B2EB+4062059]\n\tGetHandleVerifier [0x005FED14+3945876]\n\tGetHandleVerifier [0x005FFBCE+3949646]\n\tGetHandleVerifier [0x005FFB59+3949529]\n\tOrdinal0 [0x001FB5CC+46540]\n\tOrdinal0 [0x001F9F53+40787]\n\tOrdinal0 [0x001F9B12+39698]\n\tGetHandleVerifier [0x00501468+2907368]\n\tGetHandleVerifier [0x003471EE+1096302]\n\tGetHandleVerifier [0x00303E8D+821005]\n\tGetHandleVerifier [0x0030396B+819691]\n\tGetHandleVerifier [0x00303881+819457]\n\tGetHandleVerifier [0x0032F463+998627]\n\tBaseThreadInitThunk [0x76AAFA29+25]\n\tRtlGetAppContainerNamedObjectPath [0x771075F4+228]\n\tRtlGetAppContainerNamedObjectPath [0x771075C4+180]\n"
     ]
    }
   ],
   "source": [
    "import pytest\n",
    "import time\n",
    "import json\n",
    "from selenium import webdriver\n",
    "from selenium.webdriver.common.by import By\n",
    "from selenium.webdriver.common.action_chains import ActionChains\n",
    "from selenium.webdriver.support import expected_conditions\n",
    "from selenium.webdriver.support.wait import WebDriverWait\n",
    "from selenium.webdriver.common.keys import Keys\n",
    "from selenium.webdriver.common.desired_capabilities import DesiredCapabilities\n",
    "from selenium.webdriver.chrome.service import Service\n",
    "\n",
    "def setup_method(method):\n",
    "        driver = webdriver.Chrome()\n",
    "        vars = {}\n",
    "def teardown_method( method):\n",
    "        driver.quit()\n",
    "def test_prueva2():\n",
    "        service = Service('C:\\Program Files (x86)\\chromedriver.exe')\n",
    "        service.start()\n",
    "        driver = webdriver.Remote(service.service_url)\n",
    "        driver.get(\"https://edit.org/edit/all/1fhxrl3ag\")\n",
    "        driver.set_window_size(1080, 1020)\n",
    "        driver.execute_script(\"window.scrollTo(0,0)\")\n",
    "        driver.find_element(By.CSS_SELECTOR, \".upper-canvas\").click()\n",
    "        driver.execute_script(\"window.scrollTo(0,0)\")\n",
    "        element = driver.find_element(By.CSS_SELECTOR, \".upper-canvas\")\n",
    "        actions = ActionChains(driver)\n",
    "        actions.double_click(element).perform()\n",
    "        driver.find_element(By.CSS_SELECTOR, \"body\").click()\n",
    "        driver.find_element(By.XPATH, \"//div[@id=\\'exampleModal\\']/div/textarea\").send_keys(\"vota por \")\n",
    "        driver.find_element(By.CSS_SELECTOR, \".btn:nth-child(3) > font > font\").click()\n",
    "        driver.find_element(By.CSS_SELECTOR, \".upper-canvas\").click()\n",
    "        element = driver.find_element(By.CSS_SELECTOR, \".upper-canvas\")\n",
    "        actions = ActionChains(driver)\n",
    "        actions.double_click(element).perform()\n",
    "        driver.execute_script(\"window.scrollTo(0,0)\")\n",
    "        driver.find_element(By.CSS_SELECTOR, \"body\").click()\n",
    "        driver.find_element(By.ID, \"currentSelectedText\").send_keys(\"lazo\")\n",
    "        driver.find_element(By.CSS_SELECTOR, \".btn:nth-child(3)\").click()\n",
    "        driver.find_element(By.CSS_SELECTOR, \".upper-canvas\").click()\n",
    "        driver.find_element(By.CSS_SELECTOR, \".upper-canvas\").click()\n",
    "        driver.execute_script(\"window.scrollTo(0,0)\")\n",
    "        driver.find_element(By.CSS_SELECTOR, \".upper-canvas\").click()\n",
    "        element = self.driver.find_element(By.CSS_SELECTOR, \".upper-canvas\")\n",
    "        actions = ActionChains(self.driver)\n",
    "        actions.double_click(element).perform()\n",
    "        driver.find_element(By.ID, \"currentSelectedText\").click()\n",
    "        driver.find_element(By.ID, \"currentSelectedText\").send_keys(\"Te ayudaré a askdcorrecto\")\n",
    "        driver.find_element(By.CSS_SELECTOR, \".btn:nth-child(3) > font > font\").click()\n",
    "        driver.find_element(By.CSS_SELECTOR, \".upper-canvas\").click()\n",
    "        driver.find_element(By.CSS_SELECTOR, \".upper-canvas\").click()\n",
    "        driver.find_element(By.CSS_SELECTOR, \".upper-canvas\").click()\n",
    "        element = driver.find_element(By.CSS_SELECTOR, \".upper-canvas\")\n",
    "        actions = ActionChains(self.driver)\n",
    "        actions.double_click(element).perform()\n",
    "        driver.execute_script(\"window.scrollTo(0,0)\")\n",
    "        driver.find_element(By.ID, \"currentSelectedText\").click()\n",
    "        driver.find_element(By.ID, \"currentSelectedText\").send_keys(\"fecha 101010\")\n",
    "        driver.find_element(By.CSS_SELECTOR, \".btn:nth-child(3) > font > font\").click()\n",
    "        driver.find_element(By.CSS_SELECTOR, \".upper-canvas\").click()\n",
    "        driver.find_element(By.CSS_SELECTOR, \".upper-canvas\").click()\n",
    "        element = driver.find_element(By.CSS_SELECTOR, \".upper-canvas\")\n",
    "        actions = ActionChains(self.driver)\n",
    "        actions.double_click(element).perform()\n",
    "        driver.execute_script(\"window.scrollTo(0,0)\")\n",
    "        driver.find_element(By.ID, \"currentSelectedText\").click()\n",
    "        driver.find_element(By.ID, \"currentSelectedText\").send_keys(\"Teléfono: 666 555 444 | 666 666 555\\\\nesdiif@jdjf\")\n",
    "        driver.find_element(By.CSS_SELECTOR, \".btn:nth-child(3) > font > font\").click()\n",
    "        driver.find_element(By.CSS_SELECTOR, \"#botonFinalizar > font > font\").click()\n",
    "        driver.find_element(By.CSS_SELECTOR, \".btn-square\").click()\n",
    "        assert driver.switch_to.alert.text == \"Activa tu suscripción Premium para descargar en alta resolución, multiplicar el espacio x50 y muchas más ventajas. Se descargará la imagen en resolución baja.\"\n",
    "        driver.execute_script(\"window.scrollTo(0,0)\")\n",
    "        driver.find_element(By.CSS_SELECTOR, \".col:nth-child(2)\").click()\n",
    "        driver.find_element(By.CSS_SELECTOR, \".col > .closeX\").click()\n",
    "\n",
    "\n",
    "test_prueva2()\n",
    "\n"
   ]
  },
  {
   "cell_type": "code",
   "execution_count": 25,
   "metadata": {},
   "outputs": [
    {
     "name": "stdout",
     "output_type": "stream",
     "text": [
      "Requirement already up-to-date: selenium in c:\\users\\edison\\anaconda3\\lib\\site-packages (4.0.0a7)\n",
      "Requirement already satisfied, skipping upgrade: trio-websocket in c:\\users\\edison\\anaconda3\\lib\\site-packages (from selenium) (0.9.1)\n",
      "Requirement already satisfied, skipping upgrade: trio in c:\\users\\edison\\anaconda3\\lib\\site-packages (from selenium) (0.18.0)\n",
      "Requirement already satisfied, skipping upgrade: urllib3[secure] in c:\\users\\edison\\anaconda3\\lib\\site-packages (from selenium) (1.25.11)\n",
      "Requirement already satisfied, skipping upgrade: async-generator>=1.10 in c:\\users\\edison\\anaconda3\\lib\\site-packages (from trio-websocket->selenium) (1.10)\n",
      "Requirement already satisfied, skipping upgrade: wsproto>=0.14 in c:\\users\\edison\\anaconda3\\lib\\site-packages (from trio-websocket->selenium) (1.0.0)\n",
      "Requirement already satisfied, skipping upgrade: sortedcontainers in c:\\users\\edison\\anaconda3\\lib\\site-packages (from trio->selenium) (2.2.2)\n",
      "Requirement already satisfied, skipping upgrade: attrs>=19.2.0 in c:\\users\\edison\\anaconda3\\lib\\site-packages (from trio->selenium) (20.3.0)\n",
      "Requirement already satisfied, skipping upgrade: outcome in c:\\users\\edison\\anaconda3\\lib\\site-packages (from trio->selenium) (1.1.0)\n",
      "Requirement already satisfied, skipping upgrade: idna in c:\\users\\edison\\anaconda3\\lib\\site-packages (from trio->selenium) (2.10)\n",
      "Requirement already satisfied, skipping upgrade: sniffio in c:\\users\\edison\\anaconda3\\lib\\site-packages (from trio->selenium) (1.2.0)\n",
      "Requirement already satisfied, skipping upgrade: cffi>=1.14; os_name == \"nt\" and implementation_name != \"pypy\" in c:\\users\\edison\\anaconda3\\lib\\site-packages (from trio->selenium) (1.14.3)\n",
      "Requirement already satisfied, skipping upgrade: cryptography>=1.3.4; extra == \"secure\" in c:\\users\\edison\\anaconda3\\lib\\site-packages (from urllib3[secure]->selenium) (3.1.1)\n",
      "Requirement already satisfied, skipping upgrade: pyOpenSSL>=0.14; extra == \"secure\" in c:\\users\\edison\\anaconda3\\lib\\site-packages (from urllib3[secure]->selenium) (19.1.0)\n",
      "Requirement already satisfied, skipping upgrade: certifi; extra == \"secure\" in c:\\users\\edison\\anaconda3\\lib\\site-packages (from urllib3[secure]->selenium) (2020.6.20)\n",
      "Requirement already satisfied, skipping upgrade: h11<1,>=0.9.0 in c:\\users\\edison\\anaconda3\\lib\\site-packages (from wsproto>=0.14->trio-websocket->selenium) (0.12.0)\n",
      "Requirement already satisfied, skipping upgrade: pycparser in c:\\users\\edison\\anaconda3\\lib\\site-packages (from cffi>=1.14; os_name == \"nt\" and implementation_name != \"pypy\"->trio->selenium) (2.20)\n",
      "Requirement already satisfied, skipping upgrade: six>=1.4.1 in c:\\users\\edison\\anaconda3\\lib\\site-packages (from cryptography>=1.3.4; extra == \"secure\"->urllib3[secure]->selenium) (1.15.0)\n",
      "Note: you may need to restart the kernel to use updated packages.\n"
     ]
    }
   ],
   "source": [
    "pip install -U selenium"
   ]
  },
  {
   "cell_type": "code",
   "execution_count": 14,
   "metadata": {},
   "outputs": [
    {
     "name": "stderr",
     "output_type": "stream",
     "text": [
      "[WDM] - ====== WebDriver manager ======\n",
      "[WDM] - Current google-chrome version is 88.0.4324\n",
      "[WDM] - Get LATEST driver version for 88.0.4324\n"
     ]
    },
    {
     "name": "stdout",
     "output_type": "stream",
     "text": [
      "\n",
      "\n"
     ]
    },
    {
     "name": "stderr",
     "output_type": "stream",
     "text": [
      "[WDM] - Get LATEST driver version for 88.0.4324\n",
      "[WDM] - Trying to download new driver from https://chromedriver.storage.googleapis.com/88.0.4324.96/chromedriver_win32.zip\n",
      "[WDM] - Driver has been saved in cache [C:\\Users\\edison\\.wdm\\drivers\\chromedriver\\win32\\88.0.4324.96]\n",
      "<ipython-input-14-9d63c39cee0e>:3: DeprecationWarning: executable_path has been deprecated, please pass in a Service object\n",
      "  driver = webdriver.Chrome(ChromeDriverManager().install())\n"
     ]
    }
   ],
   "source": [
    "from selenium import webdriver\n",
    "from webdriver_manager.chrome import ChromeDriverManager\n",
    "driver = webdriver.Chrome(ChromeDriverManager().install())"
   ]
  },
  {
   "cell_type": "code",
   "execution_count": null,
   "metadata": {},
   "outputs": [],
   "source": [
    "https://github.com/wrodasp/Simulacion/blob/master/ExamenFinal/ExamenFinal.ipynb"
   ]
  }
 ],
 "metadata": {
  "kernelspec": {
   "display_name": "Python 3",
   "language": "python",
   "name": "python3"
  },
  "language_info": {
   "codemirror_mode": {
    "name": "ipython",
    "version": 3
   },
   "file_extension": ".py",
   "mimetype": "text/x-python",
   "name": "python",
   "nbconvert_exporter": "python",
   "pygments_lexer": "ipython3",
   "version": "3.8.5"
  }
 },
 "nbformat": 4,
 "nbformat_minor": 4
}
