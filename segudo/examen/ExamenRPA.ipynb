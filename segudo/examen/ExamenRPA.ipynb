{
 "cells": [
  {
   "cell_type": "code",
   "execution_count": 7,
   "metadata": {},
   "outputs": [
    {
     "ename": "SyntaxError",
     "evalue": "invalid syntax (<ipython-input-7-ce48075e8c16>, line 1)",
     "output_type": "error",
     "traceback": [
      "\u001b[1;36m  File \u001b[1;32m\"<ipython-input-7-ce48075e8c16>\"\u001b[1;36m, line \u001b[1;32m1\u001b[0m\n\u001b[1;33m    jupyter notebook --generate-config\u001b[0m\n\u001b[1;37m            ^\u001b[0m\n\u001b[1;31mSyntaxError\u001b[0m\u001b[1;31m:\u001b[0m invalid syntax\n"
     ]
    }
   ],
   "source": [
    "pip install selenium==4.0.0.a7"
   ]
  },
  {
   "cell_type": "code",
   "execution_count": 7,
   "metadata": {},
   "outputs": [],
   "source": [
    "import time\n",
    "\n",
    "from selenium import webdriver\n",
    "from selenium.webdriver.chrome.service import Service\n",
    "\n",
    "service = Service('C:\\Program Files (x86)/chromedriver.exe')\n",
    "service.start()\n",
    "driver = webdriver.Remote(service.service_url)\n",
    "driver.get('http://www.google.com/');\n",
    "time.sleep(5) # Let the user actually see something!\n",
    "driver.quit()"
   ]
  },
  {
   "cell_type": "code",
   "execution_count": 11,
   "metadata": {},
   "outputs": [],
   "source": [
    "from selenium import webdriver\n",
    "from selenium.webdriver.common.keys import Keys\n",
    "service = Service('C:\\Program Files (x86)/chromedriver.exe')\n",
    "service.start()\n",
    "driver = webdriver.Remote(service.service_url)\n",
    "user_name = \"edisonezequiel1995@gmail.com\"\n",
    "password = \"EMPFiitb5404\"\n",
    "\n",
    "driver.get(\"https://www.facebook.com\")\n",
    "element = driver.find_element_by_id(\"email\")\n",
    "element.send_keys(user_name)\n",
    "element = driver.find_element_by_id(\"pass\")\n",
    "\n",
    "element = driver.find_element_by_name(\"q\")\n",
    "element.send_keys(\"BrowserStack\")\n",
    "element.send_keys(password)\n",
    "element.send_keys(Keys.RETURN)\n",
    "time.sleep(5) # Let the user actually see something!\n",
    "##driver.quit()"
   ]
  },
  {
   "cell_type": "code",
   "execution_count": null,
   "metadata": {},
   "outputs": [],
   "source": [
    "from selenium import webdriver\n",
    "from selenium.webdriver.common.keys import Keys\n",
    "from selenium.webdriver.common.by import By\n",
    "from selenium.webdriver.support.ui import WebDriverWait\n",
    "from selenium.webdriver.support import expected_conditions as EC\n",
    "from selenium.webdriver.chrome.options import Options\n",
    "import time\n",
    "from selenium.webdriver.common.action_chains import ActionChains\n",
    "PATH = 'chromedriver.exe'\n",
    "\n",
    "##### Handling of Allow Pop Up In Facebook\n",
    "option = Options()\n",
    "option.add_argument(\"--disable-infobars\")\n",
    "option.add_argument(\"start-maximized\")\n",
    "option.add_argument(\"--disable-extensions\")\n",
    "\n",
    "# Pass the argument 1 to allow and 2 to block\n",
    "option.add_experimental_option(\"prefs\", { \n",
    "    \"profile.default_content_setting_values.notifications\": 2 \n",
    "})\n",
    "\n",
    "driver = webdriver.Chrome(chrome_options=option, executable_path=PATH)\n",
    "driver.maximize_window()\n",
    "driver.get(\"https://www.facebook.com/\")\n",
    "###Login To The Account\n",
    "def login(id,password):\n",
    "  email = driver.find_element_by_id(\"email\")\n",
    "  email.send_keys(id)\n",
    "  Password = driver.find_element_by_id(\"pass\")\n",
    "  Password.send_keys(password)\n",
    "  button = driver.find_element_by_id(\"u_0_b\").click()\n",
    "  pass\n",
    "#### Post Content On FaceBook\n",
    "def post_content(post):\n",
    "  button = driver.find_element_by_class_name(\"sx_0b6f88\").click()\n",
    "  time.sleep(3) ## A 3 second break in the program so that everythin loads perfectly\n",
    "  actions= ActionChains(driver) ##Action Chains\n",
    "  actions.send_keys(Keys.TAB)  ##Press TAB\n",
    "  actions.send_keys(Keys.ENTER) ##Press ENTER\n",
    "  actions.send_keys(post)\n",
    "  actions.send_keys(Keys.TAB * 10)  ### Press TAB 10 Times to reach POST button\n",
    "  actions.send_keys(Keys.ENTER) ### Press ENTER to post the content on facebook\n",
    "  actions.perform()  ## To perfrom all the operations in the action chains\n",
    "  pass\n",
    "  \n",
    "login(\"YOUR_FACEBOOK_ID\",\"YOUR_FACEBOOK_PASSWORD\") \n",
    "time.sleep(5)\t\n",
    "content = \"I am a Bot Posting On Facebook\"  ## Demo Content\n",
    "post_content(content)"
   ]
  },
  {
   "cell_type": "code",
   "execution_count": null,
   "metadata": {},
   "outputs": [],
   "source": []
  }
 ],
 "metadata": {
  "kernelspec": {
   "display_name": "Python 3",
   "language": "python",
   "name": "python3"
  },
  "language_info": {
   "codemirror_mode": {
    "name": "ipython",
    "version": 3
   },
   "file_extension": ".py",
   "mimetype": "text/x-python",
   "name": "python",
   "nbconvert_exporter": "python",
   "pygments_lexer": "ipython3",
   "version": "3.8.5"
  }
 },
 "nbformat": 4,
 "nbformat_minor": 4
}
