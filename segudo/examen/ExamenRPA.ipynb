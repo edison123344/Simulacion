{
 "cells": [
  {
   "cell_type": "code",
   "execution_count": 35,
   "metadata": {},
   "outputs": [],
   "source": [
    "import os\n",
    "import csv\n",
    "import time\n",
    "import wget\n",
    "import pandas as pd\n",
    "from selenium import webdriver\n",
    "from selenium.webdriver.common.by import By\n",
    "from selenium.webdriver.common.action_chains import ActionChains\n",
    "from selenium.webdriver.support.wait import WebDriverWait\n",
    "from selenium.webdriver.support import expected_conditions as EC\n",
    "from selenium.webdriver.common.keys import Keys\n",
    "from selenium.webdriver.common.desired_capabilities import DesiredCapabilities"
   ]
  },
  {
   "cell_type": "code",
   "execution_count": 7,
   "metadata": {},
   "outputs": [],
   "source": [
    "import time\n",
    "\n",
    "from selenium import webdriver\n",
    "from selenium.webdriver.chrome.service import Service\n",
    "\n",
    "service = Service('C:\\Program Files (x86)/chromedriver.exe')\n",
    "service.start()\n",
    "driver = webdriver.Remote(service.service_url)\n",
    "driver.get('http://www.google.com/');\n",
    "time.sleep(5) # Let the user actually see something!\n",
    "driver.quit()"
   ]
  },
  {
   "cell_type": "code",
   "execution_count": 39,
   "metadata": {
    "scrolled": true
   },
   "outputs": [
    {
     "ename": "JavascriptException",
     "evalue": "Message: javascript error: Failed to execute 'elementsFromPoint' on 'Document': The provided double value is non-finite.\n  (Session info: chrome=88.0.4324.150)\nStacktrace:\nBacktrace:\n\tGetHandleVerifier [0x0035B963+483]\n\tGetHandleVerifier [0x0035B941+449]\n\tGetHandleVerifier [0x00703308+3832712]\n\tGetHandleVerifier [0x0070585A+3842266]\n\tGetHandleVerifier [0x00705752+3842002]\n\tGetHandleVerifier [0x00705940+3842496]\n\tGetHandleVerifier [0x007298D6+3989846]\n\tGetHandleVerifier [0x00729314+3988372]\n\tGetHandleVerifier [0x0074CB2C+4133804]\n\tGetHandleVerifier [0x0073B403+4062339]\n\tGetHandleVerifier [0x00747159+4110809]\n\tGetHandleVerifier [0x0073B2EB+4062059]\n\tGetHandleVerifier [0x0071ED14+3945876]\n\tGetHandleVerifier [0x0071FBCE+3949646]\n\tGetHandleVerifier [0x0071FB59+3949529]\n\tOrdinal0 [0x0031B5CC+46540]\n\tOrdinal0 [0x00319F53+40787]\n\tOrdinal0 [0x00319B12+39698]\n\tGetHandleVerifier [0x00621468+2907368]\n\tGetHandleVerifier [0x004671EE+1096302]\n\tGetHandleVerifier [0x00423E8D+821005]\n\tGetHandleVerifier [0x0042396B+819691]\n\tGetHandleVerifier [0x00423881+819457]\n\tGetHandleVerifier [0x0044F463+998627]\n\tBaseThreadInitThunk [0x76AAFA29+25]\n\tRtlGetAppContainerNamedObjectPath [0x771075F4+228]\n\tRtlGetAppContainerNamedObjectPath [0x771075C4+180]\n",
     "output_type": "error",
     "traceback": [
      "\u001b[1;31m---------------------------------------------------------------------------\u001b[0m",
      "\u001b[1;31mJavascriptException\u001b[0m                       Traceback (most recent call last)",
      "\u001b[1;32m<ipython-input-39-f4291ac8673b>\u001b[0m in \u001b[0;36m<module>\u001b[1;34m\u001b[0m\n\u001b[0;32m     37\u001b[0m \u001b[0mactions\u001b[0m \u001b[1;33m=\u001b[0m \u001b[0mActionChains\u001b[0m\u001b[1;33m(\u001b[0m\u001b[0mdriver\u001b[0m\u001b[1;33m)\u001b[0m\u001b[1;33m\u001b[0m\u001b[1;33m\u001b[0m\u001b[0m\n\u001b[0;32m     38\u001b[0m \u001b[0mtime\u001b[0m\u001b[1;33m.\u001b[0m\u001b[0msleep\u001b[0m\u001b[1;33m(\u001b[0m\u001b[1;36m15\u001b[0m\u001b[1;33m)\u001b[0m\u001b[1;33m\u001b[0m\u001b[1;33m\u001b[0m\u001b[0m\n\u001b[1;32m---> 39\u001b[1;33m \u001b[0mactions\u001b[0m\u001b[1;33m.\u001b[0m\u001b[0mmove_to_element\u001b[0m\u001b[1;33m(\u001b[0m\u001b[0melement\u001b[0m\u001b[1;33m)\u001b[0m\u001b[1;33m.\u001b[0m\u001b[0mperform\u001b[0m\u001b[1;33m(\u001b[0m\u001b[1;33m)\u001b[0m\u001b[1;33m\u001b[0m\u001b[1;33m\u001b[0m\u001b[0m\n\u001b[0m\u001b[0;32m     40\u001b[0m \u001b[0mtime\u001b[0m\u001b[1;33m.\u001b[0m\u001b[0msleep\u001b[0m\u001b[1;33m(\u001b[0m\u001b[1;36m15\u001b[0m\u001b[1;33m)\u001b[0m\u001b[1;33m\u001b[0m\u001b[1;33m\u001b[0m\u001b[0m\n\u001b[0;32m     41\u001b[0m \u001b[1;31m#driver.find_element(By.XPATH, \"//div[2]/div/div/span/div/div/div/div/div/i\").click()\u001b[0m\u001b[1;33m\u001b[0m\u001b[1;33m\u001b[0m\u001b[1;33m\u001b[0m\u001b[0m\n",
      "\u001b[1;32m~\\anaconda3\\lib\\site-packages\\selenium\\webdriver\\common\\action_chains.py\u001b[0m in \u001b[0;36mperform\u001b[1;34m(self)\u001b[0m\n\u001b[0;32m     78\u001b[0m         \"\"\"\n\u001b[0;32m     79\u001b[0m         \u001b[1;32mif\u001b[0m \u001b[0mself\u001b[0m\u001b[1;33m.\u001b[0m\u001b[0m_driver\u001b[0m\u001b[1;33m.\u001b[0m\u001b[0mw3c\u001b[0m\u001b[1;33m:\u001b[0m\u001b[1;33m\u001b[0m\u001b[1;33m\u001b[0m\u001b[0m\n\u001b[1;32m---> 80\u001b[1;33m             \u001b[0mself\u001b[0m\u001b[1;33m.\u001b[0m\u001b[0mw3c_actions\u001b[0m\u001b[1;33m.\u001b[0m\u001b[0mperform\u001b[0m\u001b[1;33m(\u001b[0m\u001b[1;33m)\u001b[0m\u001b[1;33m\u001b[0m\u001b[1;33m\u001b[0m\u001b[0m\n\u001b[0m\u001b[0;32m     81\u001b[0m         \u001b[1;32melse\u001b[0m\u001b[1;33m:\u001b[0m\u001b[1;33m\u001b[0m\u001b[1;33m\u001b[0m\u001b[0m\n\u001b[0;32m     82\u001b[0m             \u001b[1;32mfor\u001b[0m \u001b[0maction\u001b[0m \u001b[1;32min\u001b[0m \u001b[0mself\u001b[0m\u001b[1;33m.\u001b[0m\u001b[0m_actions\u001b[0m\u001b[1;33m:\u001b[0m\u001b[1;33m\u001b[0m\u001b[1;33m\u001b[0m\u001b[0m\n",
      "\u001b[1;32m~\\anaconda3\\lib\\site-packages\\selenium\\webdriver\\common\\actions\\action_builder.py\u001b[0m in \u001b[0;36mperform\u001b[1;34m(self)\u001b[0m\n\u001b[0;32m     75\u001b[0m                 \u001b[0menc\u001b[0m\u001b[1;33m[\u001b[0m\u001b[1;34m\"actions\"\u001b[0m\u001b[1;33m]\u001b[0m\u001b[1;33m.\u001b[0m\u001b[0mappend\u001b[0m\u001b[1;33m(\u001b[0m\u001b[0mencoded\u001b[0m\u001b[1;33m)\u001b[0m\u001b[1;33m\u001b[0m\u001b[1;33m\u001b[0m\u001b[0m\n\u001b[0;32m     76\u001b[0m                 \u001b[0mdevice\u001b[0m\u001b[1;33m.\u001b[0m\u001b[0mactions\u001b[0m \u001b[1;33m=\u001b[0m \u001b[1;33m[\u001b[0m\u001b[1;33m]\u001b[0m\u001b[1;33m\u001b[0m\u001b[1;33m\u001b[0m\u001b[0m\n\u001b[1;32m---> 77\u001b[1;33m         \u001b[0mself\u001b[0m\u001b[1;33m.\u001b[0m\u001b[0mdriver\u001b[0m\u001b[1;33m.\u001b[0m\u001b[0mexecute\u001b[0m\u001b[1;33m(\u001b[0m\u001b[0mCommand\u001b[0m\u001b[1;33m.\u001b[0m\u001b[0mW3C_ACTIONS\u001b[0m\u001b[1;33m,\u001b[0m \u001b[0menc\u001b[0m\u001b[1;33m)\u001b[0m\u001b[1;33m\u001b[0m\u001b[1;33m\u001b[0m\u001b[0m\n\u001b[0m\u001b[0;32m     78\u001b[0m \u001b[1;33m\u001b[0m\u001b[0m\n\u001b[0;32m     79\u001b[0m     \u001b[1;32mdef\u001b[0m \u001b[0mclear_actions\u001b[0m\u001b[1;33m(\u001b[0m\u001b[0mself\u001b[0m\u001b[1;33m)\u001b[0m\u001b[1;33m:\u001b[0m\u001b[1;33m\u001b[0m\u001b[1;33m\u001b[0m\u001b[0m\n",
      "\u001b[1;32m~\\anaconda3\\lib\\site-packages\\selenium\\webdriver\\remote\\webdriver.py\u001b[0m in \u001b[0;36mexecute\u001b[1;34m(self, driver_command, params)\u001b[0m\n\u001b[0;32m    366\u001b[0m         \u001b[0mresponse\u001b[0m \u001b[1;33m=\u001b[0m \u001b[0mself\u001b[0m\u001b[1;33m.\u001b[0m\u001b[0mcommand_executor\u001b[0m\u001b[1;33m.\u001b[0m\u001b[0mexecute\u001b[0m\u001b[1;33m(\u001b[0m\u001b[0mdriver_command\u001b[0m\u001b[1;33m,\u001b[0m \u001b[0mparams\u001b[0m\u001b[1;33m)\u001b[0m\u001b[1;33m\u001b[0m\u001b[1;33m\u001b[0m\u001b[0m\n\u001b[0;32m    367\u001b[0m         \u001b[1;32mif\u001b[0m \u001b[0mresponse\u001b[0m\u001b[1;33m:\u001b[0m\u001b[1;33m\u001b[0m\u001b[1;33m\u001b[0m\u001b[0m\n\u001b[1;32m--> 368\u001b[1;33m             \u001b[0mself\u001b[0m\u001b[1;33m.\u001b[0m\u001b[0merror_handler\u001b[0m\u001b[1;33m.\u001b[0m\u001b[0mcheck_response\u001b[0m\u001b[1;33m(\u001b[0m\u001b[0mresponse\u001b[0m\u001b[1;33m)\u001b[0m\u001b[1;33m\u001b[0m\u001b[1;33m\u001b[0m\u001b[0m\n\u001b[0m\u001b[0;32m    369\u001b[0m             response['value'] = self._unwrap_value(\n\u001b[0;32m    370\u001b[0m                 response.get('value', None))\n",
      "\u001b[1;32m~\\anaconda3\\lib\\site-packages\\selenium\\webdriver\\remote\\errorhandler.py\u001b[0m in \u001b[0;36mcheck_response\u001b[1;34m(self, response)\u001b[0m\n\u001b[0;32m    238\u001b[0m                 \u001b[0malert_text\u001b[0m \u001b[1;33m=\u001b[0m \u001b[0mvalue\u001b[0m\u001b[1;33m[\u001b[0m\u001b[1;34m'alert'\u001b[0m\u001b[1;33m]\u001b[0m\u001b[1;33m.\u001b[0m\u001b[0mget\u001b[0m\u001b[1;33m(\u001b[0m\u001b[1;34m'text'\u001b[0m\u001b[1;33m)\u001b[0m\u001b[1;33m\u001b[0m\u001b[1;33m\u001b[0m\u001b[0m\n\u001b[0;32m    239\u001b[0m             \u001b[1;32mraise\u001b[0m \u001b[0mexception_class\u001b[0m\u001b[1;33m(\u001b[0m\u001b[0mmessage\u001b[0m\u001b[1;33m,\u001b[0m \u001b[0mscreen\u001b[0m\u001b[1;33m,\u001b[0m \u001b[0mstacktrace\u001b[0m\u001b[1;33m,\u001b[0m \u001b[0malert_text\u001b[0m\u001b[1;33m)\u001b[0m\u001b[1;33m\u001b[0m\u001b[1;33m\u001b[0m\u001b[0m\n\u001b[1;32m--> 240\u001b[1;33m         \u001b[1;32mraise\u001b[0m \u001b[0mexception_class\u001b[0m\u001b[1;33m(\u001b[0m\u001b[0mmessage\u001b[0m\u001b[1;33m,\u001b[0m \u001b[0mscreen\u001b[0m\u001b[1;33m,\u001b[0m \u001b[0mstacktrace\u001b[0m\u001b[1;33m)\u001b[0m\u001b[1;33m\u001b[0m\u001b[1;33m\u001b[0m\u001b[0m\n\u001b[0m\u001b[0;32m    241\u001b[0m \u001b[1;33m\u001b[0m\u001b[0m\n\u001b[0;32m    242\u001b[0m     \u001b[1;32mdef\u001b[0m \u001b[0m_value_or_default\u001b[0m\u001b[1;33m(\u001b[0m\u001b[0mself\u001b[0m\u001b[1;33m,\u001b[0m \u001b[0mobj\u001b[0m\u001b[1;33m,\u001b[0m \u001b[0mkey\u001b[0m\u001b[1;33m,\u001b[0m \u001b[0mdefault\u001b[0m\u001b[1;33m)\u001b[0m\u001b[1;33m:\u001b[0m\u001b[1;33m\u001b[0m\u001b[1;33m\u001b[0m\u001b[0m\n",
      "\u001b[1;31mJavascriptException\u001b[0m: Message: javascript error: Failed to execute 'elementsFromPoint' on 'Document': The provided double value is non-finite.\n  (Session info: chrome=88.0.4324.150)\nStacktrace:\nBacktrace:\n\tGetHandleVerifier [0x0035B963+483]\n\tGetHandleVerifier [0x0035B941+449]\n\tGetHandleVerifier [0x00703308+3832712]\n\tGetHandleVerifier [0x0070585A+3842266]\n\tGetHandleVerifier [0x00705752+3842002]\n\tGetHandleVerifier [0x00705940+3842496]\n\tGetHandleVerifier [0x007298D6+3989846]\n\tGetHandleVerifier [0x00729314+3988372]\n\tGetHandleVerifier [0x0074CB2C+4133804]\n\tGetHandleVerifier [0x0073B403+4062339]\n\tGetHandleVerifier [0x00747159+4110809]\n\tGetHandleVerifier [0x0073B2EB+4062059]\n\tGetHandleVerifier [0x0071ED14+3945876]\n\tGetHandleVerifier [0x0071FBCE+3949646]\n\tGetHandleVerifier [0x0071FB59+3949529]\n\tOrdinal0 [0x0031B5CC+46540]\n\tOrdinal0 [0x00319F53+40787]\n\tOrdinal0 [0x00319B12+39698]\n\tGetHandleVerifier [0x00621468+2907368]\n\tGetHandleVerifier [0x004671EE+1096302]\n\tGetHandleVerifier [0x00423E8D+821005]\n\tGetHandleVerifier [0x0042396B+819691]\n\tGetHandleVerifier [0x00423881+819457]\n\tGetHandleVerifier [0x0044F463+998627]\n\tBaseThreadInitThunk [0x76AAFA29+25]\n\tRtlGetAppContainerNamedObjectPath [0x771075F4+228]\n\tRtlGetAppContainerNamedObjectPath [0x771075C4+180]\n"
     ]
    }
   ],
   "source": [
    "from selenium import webdriver\n",
    "\n",
    "from selenium.webdriver.chrome.service import Service\n",
    "\n",
    "#Iniciamos Selenium con el navegador Google Chrome\n",
    "\n",
    "from selenium.webdriver.common.keys import Keys\n",
    "\n",
    "\n",
    "service = Service('C:\\Program Files (x86)\\chromedriver.exe')\n",
    "service.start()\n",
    "driver = webdriver.Remote(service.service_url)\n",
    "#driver = webdriver.Remote(service.service_url)\n",
    "user_name = \"edisonezequiel1995@gmail.com\"\n",
    "password = \"EMPFiitb5404\"\n",
    "\n",
    "driver.get(\"https://www.facebook.com\")\n",
    "element = driver.find_element_by_id(\"email\")\n",
    "element.send_keys(user_name)\n",
    "element = driver.find_element_by_id(\"pass\")\n",
    "element.send_keys(password)\n",
    "element.send_keys(Keys.RETURN)\n",
    "time.sleep(15)\n",
    "\n",
    "element = driver.find_element(By.XPATH, \"//div/div/a/div/div[2]/div/div/div\")\n",
    "time.sleep(15)\n",
    "actions = ActionChains(driver)\n",
    "time.sleep(15)\n",
    "actions.move_to_element(element).perform()\n",
    "time.sleep(15)\n",
    "driver.find_element(By.XPATH, \"//div[3]/span/div\").click()\n",
    "time.sleep(15)\n",
    "driver.find_element(By.XPATH, \"//div[2]/div/div/div/div/span\").click()\n",
    "time.sleep(15)\n",
    "element = driver.find_element(By.XPATH, \"//a/div/div/img\")\n",
    "time.sleep(15)\n",
    "actions = ActionChains(driver)\n",
    "time.sleep(15)\n",
    "actions.move_to_element(element).perform()\n",
    "time.sleep(15)\n",
    "#driver.find_element(By.XPATH, \"//div[2]/div/div/span/div/div/div/div/div/i\").click()\n",
    "#time.sleep(15)\n",
    "#driver.find_element(By.XPATH, \"//div[3]/div/div[2]/div/div/input\").send_keys(\"C:/Users/edison/Desktop/captura.png\")\n",
    "element = driver.find_element(By.XPATH, \"//div[2]/div/div/span/div/div/div/div/div/i\")\n",
    "element.send_keys(\"/home/edison/Desktop/captura.png\")\n",
    "##WebDriverWait(driver, 10).until(\n",
    "       ## EC.presence_of_element_located((\n",
    "          #  By.CSS_SELECTOR, \n",
    "        #    \"#ReadingPaneContainerId > div > div > div > div._29NreFcQ3QoBPNO3rKXKB0 > div._1vGTUqFfb2m4yyZJJPHFDg._1PGX4GmfSf_CaaQSnoiB4l > input:nth-child(4)\"\n",
    "    #))).send_keys(\"/Users/edison/Downloads/d1.png\")\n",
    "    \n",
    "    \n",
    "#time.sleep(15)\n",
    "#driver.find_element(By.XPATH, \"//form/div/div/div/div/div[2]/div/div/div/div/div/div/div/div[2]/div/div/div/div\").click()\n",
    "#time.sleep(15)\n",
    "#driver.find_element(By.XPATH, \"//form/div/div/div/div/div[2]/div/div/div/div/div/div/div/div/div/div/div/div\").click()\n",
    "#time.sleep(15)\n",
    "#element = driver.find_element(By.XPATH, \"//form/div/div/div/div/div[2]/div/div/div/div/div/div/div/div/div\")\n",
    "#time.sleep(15)\n",
    "#driver.execute_script(\"if(arguments[0].contentEditable === 'true') {arguments[0].innerText = '<div data-contents=\\\"true\\\"><div class=\\\"\\\" data-block=\\\"true\\\" data-editor=\\\"b7p5f\\\" data-offset-key=\\\"da7su-0-0\\\"><div data-offset-key=\\\"da7su-0-0\\\" class=\\\"_1mf _1mj\\\"><span data-offset-key=\\\"da7su-0-0\\\"><span data-text=\\\"true\\\">prueva seleniun</span></span></div></div></div>'}\", element)\n",
    "#time.sleep(15)\n",
    "#driver.find_element(By.XPATH, \"//form/div/div/div/div/div[3]/div[2]\").click()\n",
    "#time.sleep(15)\n",
    "#driver.find_element(By.XPATH, \"//div[3]/div[2]/div/div\").click()\n",
    "#time.sleep(15)\n",
    "#driver.execute_script(\"window.scrollTo(0,98)\")\n",
    "#time.sleep(15)\n",
    "#driver.execute_script(\"window.scrollTo(0,697)\")\n",
    "#driver.quit()"
   ]
  },
  {
   "cell_type": "code",
   "execution_count": 7,
   "metadata": {},
   "outputs": [],
   "source": [
    "from selenium import webdriver\n",
    "from selenium.webdriver.common.keys import Keys\n",
    "import time\n",
    "from selenium.webdriver.common.by import By\n",
    "from selenium.webdriver.chrome.service import Service\n",
    "\n",
    "service = Service('C:\\Program Files (x86)\\chromedriver.exe')\n",
    "service.start()\n",
    "driver = webdriver.Remote(service.service_url)\n",
    "driver.get('https://www.google.com')\n",
    "driver.find_element(By.NAME, \"q\").send_keys(\"google doc\" + Keys.ENTER)\n",
    "webdriver.ActionChains(driver).key_down(Keys.CONTROL).send_keys(\"a\").perform()\n",
    "# Abrimos una nueva pestaña\n",
    "#driver.execute_script(\"window.open('');\")\n",
    "\n",
    "time.sleep(5)\n",
    "#driver.switch_to.window(driver.window_handles[1])\n",
    "#user_name = \"edisonezequiel1995@gmail.com\"\n",
    "#password = \"EMPFiitb5404\"\n",
    "#driver.get(\"https://www.facebook.com\")\n",
    "#element = driver.find_element_by_id(\"email\")\n",
    "#element.send_keys(user_name)\n",
    "#element = driver.find_element_by_id(\"pass\")\n",
    "#element.send_keys(password)\n",
    "#element.send_keys(Keys.RETURN)\n",
    "#time.sleep(5)\n"
   ]
  },
  {
   "cell_type": "code",
   "execution_count": 22,
   "metadata": {
    "scrolled": true
   },
   "outputs": [
    {
     "data": {
      "text/plain": [
       "<__main__.TestDocumento at 0x20697cf5970>"
      ]
     },
     "execution_count": 22,
     "metadata": {},
     "output_type": "execute_result"
    }
   ],
   "source": [
    "import pytest\n",
    "import time\n",
    "import json\n",
    "from selenium import webdriver\n",
    "from selenium.webdriver.common.by import By\n",
    "from selenium.webdriver.common.action_chains import ActionChains\n",
    "from selenium.webdriver.support import expected_conditions\n",
    "from selenium.webdriver.support.wait import WebDriverWait\n",
    "from selenium.webdriver.common.keys import Keys\n",
    "from selenium.webdriver.common.desired_capabilities import DesiredCapabilities\n",
    "\n",
    "class TestDocumento():\n",
    "  def setup_method(self, method):\n",
    "    self.driver = webdriver.Chrome()\n",
    "    self.vars = {}\n",
    "  \n",
    "  def teardown_method(self, method):\n",
    "    self.driver.quit()\n",
    "  \n",
    "  def wait_for_window(self, timeout = 2):\n",
    "    time.sleep(round(timeout / 1000))\n",
    "    wh_now = self.driver.window_handles\n",
    "    wh_then = self.vars[\"window_handles\"]\n",
    "    if len(wh_now) > len(wh_then):\n",
    "      return set(wh_now).difference(set(wh_then)).pop()\n",
    "  \n",
    "  def test_documento(self):\n",
    "    self.driver.get(\"https://login.live.com/\")\n",
    "    self.driver.set_window_size(945, 995)\n",
    "    self.driver.find_element(By.ID, \"i0116\").click()\n",
    "    self.driver.find_element(By.ID, \"i0116\").click()\n",
    "    self.driver.find_element(By.ID, \"i0116\").send_keys(\"edisonezequiel1995@hotmail.com\")\n",
    "    self.driver.find_element(By.ID, \"idSIButton9\").click()\n",
    "    self.driver.find_element(By.ID, \"i0118\").click()\n",
    "    self.driver.find_element(By.ID, \"i0118\").send_keys(\"EMPFiitb5404\")\n",
    "    time.sleep(2)\n",
    "    self.driver.find_element(By.ID, \"idSIButton9\").click()\n",
    "    element = self.driver.find_element(By.LINK_TEXT, \"Tu informaciÃ³n\")\n",
    "    actions = ActionChains(self.driver)\n",
    "    actions.move_to_element(element).perform()\n",
    "    element = self.driver.find_element(By.CSS_SELECTOR, \"body\")\n",
    "    actions = ActionChains(self.driver)\n",
    "    actions.move_to_element(element, 0, 0).perform()\n",
    "    element = self.driver.find_element(By.CSS_SELECTOR, \".css-369\")\n",
    "    actions = ActionChains(self.driver)\n",
    "    actions.move_to_element(element).perform()\n",
    "    element = self.driver.find_element(By.CSS_SELECTOR, \"body\")\n",
    "    actions = ActionChains(self.driver)\n",
    "    actions.move_to_element(element, 0, 0).perform()\n",
    "    self.driver.find_element(By.CSS_SELECTOR, \".ms-Icon--WaffleOffice365\").click()\n",
    "    element = self.driver.find_element(By.CSS_SELECTOR, \".o365cs-base > .ms-Icon--WaffleOffice365\")\n",
    "    actions = ActionChains(self.driver)\n",
    "    actions.move_to_element(element).perform()\n",
    "    element = self.driver.find_element(By.CSS_SELECTOR, \"body\")\n",
    "    actions = ActionChains(self.driver)\n",
    "    actions.move_to_element(element, 0, 0).perform()\n",
    "    self.driver.find_element(By.CSS_SELECTOR, \".\\\\_1HJV45WSd5AgKYxKiK4-Fc > .x-hidden-focus\").click()\n",
    "    self.vars[\"window_handles\"] = self.driver.window_handles\n",
    "    self.driver.find_element(By.CSS_SELECTOR, \".list-item__text--large > .ng-tns-c7-11\").click()\n",
    "    self.vars[\"win4405\"] = self.wait_for_window(2000)\n",
    "    self.driver.switch_to.window(self.vars[\"win4405\"])\n",
    "    self.driver.switch_to.frame(0)\n",
    "    self.driver.find_element(By.CSS_SELECTOR, \".OutlineElement:nth-child(2) .Paragraph\").click()\n",
    "    element = self.driver.find_element(By.CSS_SELECTOR, \".root-236 svg\")\n",
    "    actions = ActionChains(self.driver)\n",
    "    actions.move_to_element(element).perform()\n",
    "    element = self.driver.find_element(By.CSS_SELECTOR, \"body\")\n",
    "    actions = ActionChains(self.driver)\n",
    "    actions.move_to_element(element, 0, 0).perform()\n",
    "    element = self.driver.find_element(By.ID, \"WACViewPanel_EditingElement\")\n",
    "    self.driver.execute_script(\"if(arguments[0].contentEditable === 'true') {arguments[0].innerText = '<p class=\\\"Paragraph\\\" xml:lang=\\\"ES-ES\\\" lang=\\\"ES-ES\\\" paraid=\\\"706512857\\\" paraeid=\\\"{74762416-6d6d-4f1b-a59c-8d7c9a671577}{10}\\\" style=\\\"font-weight: normal; font-style: normal; vertical-align: baseline; font-family: &quot;Segoe UI&quot;, Tahoma, Verdana, Sans-Serif; font-kerning: none; background-color: transparent; color: windowtext; text-align: left; margin-left: 0px; margin-right: 0px; padding-left: 0px; padding-right: 0px; text-indent: 0px; font-size: 6pt;\\\"><span data-contrast=\\\"auto\\\" xml:lang=\\\"ES-ES\\\" lang=\\\"ES-ES\\\" class=\\\"TextRun\\\" style=\\\"font-size: 11pt; line-height: 19.425px; font-family: WordVisi_MSFontService, Calibri, Calibri_EmbeddedFont, Calibri_MSFontService, sans-serif; font-weight: bold;\\\"><span class=\\\"NormalTextRun\\\" style=\\\"background-color: inherit;\\\">Incio:sss</span></span><span class=\\\"EOP\\\" data-ccp-props=\\\"{&quot;201341983&quot;:0,&quot;335551550&quot;:1,&quot;335551620&quot;:1,&quot;335559739&quot;:160,&quot;335559740&quot;:259}\\\" style=\\\"font-size: 11pt; line-height: 19.425px; font-family: WordVisiPilcrow_MSFontService, Calibri, Calibri_EmbeddedFont, Calibri_MSFontService, sans-serif;\\\">&nbsp;</span></p>'}\", element)\n",
    "TestDocumento()\n",
    "\n",
    "# Final del script de login"
   ]
  },
  {
   "cell_type": "code",
   "execution_count": 59,
   "metadata": {},
   "outputs": [
    {
     "ename": "StaleElementReferenceException",
     "evalue": "Message: stale element reference: element is not attached to the page document\n  (Session info: chrome=88.0.4324.146)\nStacktrace:\nBacktrace:\n\tGetHandleVerifier [0x008EB963+483]\n\tGetHandleVerifier [0x008EB941+449]\n\tGetHandleVerifier [0x00C93308+3832712]\n\tGetHandleVerifier [0x00C9585A+3842266]\n\tGetHandleVerifier [0x00C95752+3842002]\n\tGetHandleVerifier [0x00C95EA1+3843873]\n\tGetHandleVerifier [0x00CD794F+4112847]\n\tGetHandleVerifier [0x00CCB403+4062339]\n\tGetHandleVerifier [0x00CD7159+4110809]\n\tGetHandleVerifier [0x00CCB2EB+4062059]\n\tGetHandleVerifier [0x00CAED14+3945876]\n\tGetHandleVerifier [0x00CAFBCE+3949646]\n\tGetHandleVerifier [0x00CAFB59+3949529]\n\tOrdinal0 [0x008AB5CC+46540]\n\tOrdinal0 [0x008A9F53+40787]\n\tOrdinal0 [0x008A9B12+39698]\n\tGetHandleVerifier [0x00BB1468+2907368]\n\tGetHandleVerifier [0x009F71EE+1096302]\n\tGetHandleVerifier [0x009B3E8D+821005]\n\tGetHandleVerifier [0x009B396B+819691]\n\tGetHandleVerifier [0x009B3881+819457]\n\tGetHandleVerifier [0x009DF463+998627]\n\tBaseThreadInitThunk [0x7597FA29+25]\n\tRtlGetAppContainerNamedObjectPath [0x76F875F4+228]\n\tRtlGetAppContainerNamedObjectPath [0x76F875C4+180]\n",
     "output_type": "error",
     "traceback": [
      "\u001b[1;31m---------------------------------------------------------------------------\u001b[0m",
      "\u001b[1;31mStaleElementReferenceException\u001b[0m            Traceback (most recent call last)",
      "\u001b[1;32m<ipython-input-59-fd3f112db9da>\u001b[0m in \u001b[0;36m<module>\u001b[1;34m\u001b[0m\n\u001b[0;32m     33\u001b[0m \u001b[0mdriver\u001b[0m\u001b[1;33m.\u001b[0m\u001b[0mfind_element\u001b[0m\u001b[1;33m(\u001b[0m\u001b[0mBy\u001b[0m\u001b[1;33m.\u001b[0m\u001b[0mCSS_SELECTOR\u001b[0m\u001b[1;33m,\u001b[0m \u001b[1;34m\".OutlineElement:nth-child(7) .Paragraph\"\u001b[0m\u001b[1;33m)\u001b[0m\u001b[1;33m.\u001b[0m\u001b[0mclick\u001b[0m\u001b[1;33m(\u001b[0m\u001b[1;33m)\u001b[0m\u001b[1;33m\u001b[0m\u001b[1;33m\u001b[0m\u001b[0m\n\u001b[0;32m     34\u001b[0m \u001b[1;31m#element = driver.find_element(By.ID, \"WACViewPanel_EditingElement\")\u001b[0m\u001b[1;33m\u001b[0m\u001b[1;33m\u001b[0m\u001b[1;33m\u001b[0m\u001b[0m\n\u001b[1;32m---> 35\u001b[1;33m \u001b[0mdriver\u001b[0m\u001b[1;33m.\u001b[0m\u001b[0mexecute_script\u001b[0m\u001b[1;33m(\u001b[0m\u001b[1;34m\"if(arguments[0].contentEditable === 'true') {arguments[0].innerText = '123'}\"\u001b[0m\u001b[1;33m,\u001b[0m \u001b[0melement\u001b[0m\u001b[1;33m)\u001b[0m\u001b[1;33m\u001b[0m\u001b[1;33m\u001b[0m\u001b[0m\n\u001b[0m\u001b[0;32m     36\u001b[0m \u001b[1;31m##element = driver.find_element(By.ID, \"WACViewPanel_EditingElement\")\u001b[0m\u001b[1;33m\u001b[0m\u001b[1;33m\u001b[0m\u001b[1;33m\u001b[0m\u001b[0m\n\u001b[0;32m     37\u001b[0m \u001b[1;33m\u001b[0m\u001b[0m\n",
      "\u001b[1;32m~\\anaconda3\\lib\\site-packages\\selenium\\webdriver\\remote\\webdriver.py\u001b[0m in \u001b[0;36mexecute_script\u001b[1;34m(self, script, *args)\u001b[0m\n\u001b[0;32m    757\u001b[0m             \u001b[0mcommand\u001b[0m \u001b[1;33m=\u001b[0m \u001b[0mCommand\u001b[0m\u001b[1;33m.\u001b[0m\u001b[0mEXECUTE_SCRIPT\u001b[0m\u001b[1;33m\u001b[0m\u001b[1;33m\u001b[0m\u001b[0m\n\u001b[0;32m    758\u001b[0m \u001b[1;33m\u001b[0m\u001b[0m\n\u001b[1;32m--> 759\u001b[1;33m         return self.execute(command, {\n\u001b[0m\u001b[0;32m    760\u001b[0m             \u001b[1;34m'script'\u001b[0m\u001b[1;33m:\u001b[0m \u001b[0mscript\u001b[0m\u001b[1;33m,\u001b[0m\u001b[1;33m\u001b[0m\u001b[1;33m\u001b[0m\u001b[0m\n\u001b[0;32m    761\u001b[0m             'args': converted_args})['value']\n",
      "\u001b[1;32m~\\anaconda3\\lib\\site-packages\\selenium\\webdriver\\remote\\webdriver.py\u001b[0m in \u001b[0;36mexecute\u001b[1;34m(self, driver_command, params)\u001b[0m\n\u001b[0;32m    366\u001b[0m         \u001b[0mresponse\u001b[0m \u001b[1;33m=\u001b[0m \u001b[0mself\u001b[0m\u001b[1;33m.\u001b[0m\u001b[0mcommand_executor\u001b[0m\u001b[1;33m.\u001b[0m\u001b[0mexecute\u001b[0m\u001b[1;33m(\u001b[0m\u001b[0mdriver_command\u001b[0m\u001b[1;33m,\u001b[0m \u001b[0mparams\u001b[0m\u001b[1;33m)\u001b[0m\u001b[1;33m\u001b[0m\u001b[1;33m\u001b[0m\u001b[0m\n\u001b[0;32m    367\u001b[0m         \u001b[1;32mif\u001b[0m \u001b[0mresponse\u001b[0m\u001b[1;33m:\u001b[0m\u001b[1;33m\u001b[0m\u001b[1;33m\u001b[0m\u001b[0m\n\u001b[1;32m--> 368\u001b[1;33m             \u001b[0mself\u001b[0m\u001b[1;33m.\u001b[0m\u001b[0merror_handler\u001b[0m\u001b[1;33m.\u001b[0m\u001b[0mcheck_response\u001b[0m\u001b[1;33m(\u001b[0m\u001b[0mresponse\u001b[0m\u001b[1;33m)\u001b[0m\u001b[1;33m\u001b[0m\u001b[1;33m\u001b[0m\u001b[0m\n\u001b[0m\u001b[0;32m    369\u001b[0m             response['value'] = self._unwrap_value(\n\u001b[0;32m    370\u001b[0m                 response.get('value', None))\n",
      "\u001b[1;32m~\\anaconda3\\lib\\site-packages\\selenium\\webdriver\\remote\\errorhandler.py\u001b[0m in \u001b[0;36mcheck_response\u001b[1;34m(self, response)\u001b[0m\n\u001b[0;32m    238\u001b[0m                 \u001b[0malert_text\u001b[0m \u001b[1;33m=\u001b[0m \u001b[0mvalue\u001b[0m\u001b[1;33m[\u001b[0m\u001b[1;34m'alert'\u001b[0m\u001b[1;33m]\u001b[0m\u001b[1;33m.\u001b[0m\u001b[0mget\u001b[0m\u001b[1;33m(\u001b[0m\u001b[1;34m'text'\u001b[0m\u001b[1;33m)\u001b[0m\u001b[1;33m\u001b[0m\u001b[1;33m\u001b[0m\u001b[0m\n\u001b[0;32m    239\u001b[0m             \u001b[1;32mraise\u001b[0m \u001b[0mexception_class\u001b[0m\u001b[1;33m(\u001b[0m\u001b[0mmessage\u001b[0m\u001b[1;33m,\u001b[0m \u001b[0mscreen\u001b[0m\u001b[1;33m,\u001b[0m \u001b[0mstacktrace\u001b[0m\u001b[1;33m,\u001b[0m \u001b[0malert_text\u001b[0m\u001b[1;33m)\u001b[0m\u001b[1;33m\u001b[0m\u001b[1;33m\u001b[0m\u001b[0m\n\u001b[1;32m--> 240\u001b[1;33m         \u001b[1;32mraise\u001b[0m \u001b[0mexception_class\u001b[0m\u001b[1;33m(\u001b[0m\u001b[0mmessage\u001b[0m\u001b[1;33m,\u001b[0m \u001b[0mscreen\u001b[0m\u001b[1;33m,\u001b[0m \u001b[0mstacktrace\u001b[0m\u001b[1;33m)\u001b[0m\u001b[1;33m\u001b[0m\u001b[1;33m\u001b[0m\u001b[0m\n\u001b[0m\u001b[0;32m    241\u001b[0m \u001b[1;33m\u001b[0m\u001b[0m\n\u001b[0;32m    242\u001b[0m     \u001b[1;32mdef\u001b[0m \u001b[0m_value_or_default\u001b[0m\u001b[1;33m(\u001b[0m\u001b[0mself\u001b[0m\u001b[1;33m,\u001b[0m \u001b[0mobj\u001b[0m\u001b[1;33m,\u001b[0m \u001b[0mkey\u001b[0m\u001b[1;33m,\u001b[0m \u001b[0mdefault\u001b[0m\u001b[1;33m)\u001b[0m\u001b[1;33m:\u001b[0m\u001b[1;33m\u001b[0m\u001b[1;33m\u001b[0m\u001b[0m\n",
      "\u001b[1;31mStaleElementReferenceException\u001b[0m: Message: stale element reference: element is not attached to the page document\n  (Session info: chrome=88.0.4324.146)\nStacktrace:\nBacktrace:\n\tGetHandleVerifier [0x008EB963+483]\n\tGetHandleVerifier [0x008EB941+449]\n\tGetHandleVerifier [0x00C93308+3832712]\n\tGetHandleVerifier [0x00C9585A+3842266]\n\tGetHandleVerifier [0x00C95752+3842002]\n\tGetHandleVerifier [0x00C95EA1+3843873]\n\tGetHandleVerifier [0x00CD794F+4112847]\n\tGetHandleVerifier [0x00CCB403+4062339]\n\tGetHandleVerifier [0x00CD7159+4110809]\n\tGetHandleVerifier [0x00CCB2EB+4062059]\n\tGetHandleVerifier [0x00CAED14+3945876]\n\tGetHandleVerifier [0x00CAFBCE+3949646]\n\tGetHandleVerifier [0x00CAFB59+3949529]\n\tOrdinal0 [0x008AB5CC+46540]\n\tOrdinal0 [0x008A9F53+40787]\n\tOrdinal0 [0x008A9B12+39698]\n\tGetHandleVerifier [0x00BB1468+2907368]\n\tGetHandleVerifier [0x009F71EE+1096302]\n\tGetHandleVerifier [0x009B3E8D+821005]\n\tGetHandleVerifier [0x009B396B+819691]\n\tGetHandleVerifier [0x009B3881+819457]\n\tGetHandleVerifier [0x009DF463+998627]\n\tBaseThreadInitThunk [0x7597FA29+25]\n\tRtlGetAppContainerNamedObjectPath [0x76F875F4+228]\n\tRtlGetAppContainerNamedObjectPath [0x76F875C4+180]\n"
     ]
    }
   ],
   "source": [
    "import pytest\n",
    "import time\n",
    "import json\n",
    "from selenium import webdriver\n",
    "from selenium.webdriver.common.by import By\n",
    "from selenium.webdriver.common.action_chains import ActionChains\n",
    "from selenium.webdriver.support import expected_conditions\n",
    "from selenium.webdriver.support.wait import WebDriverWait\n",
    "from selenium.webdriver.common.keys import Keys\n",
    "from selenium.webdriver.common.desired_capabilities import DesiredCapabilities\n",
    "\n",
    "\n",
    "service = Service('C:\\Program Files (x86)\\chromedriver.exe')\n",
    "service.start()\n",
    "driver = webdriver.Remote(service.service_url)\n",
    "\n",
    "user_name = \"edisonezequiel1995@hotmail.com\"\n",
    "password = \"EMPFiitb5404\"\n",
    "\n",
    "driver.get('https://login.live.com')\n",
    "element = driver.find_element_by_id(\"i0116\")\n",
    "element.send_keys(user_name)\n",
    "element.send_keys(Keys.RETURN)\n",
    "time.sleep(2)\n",
    "element = driver.find_element_by_id(\"i0118\")\n",
    "element.send_keys(password)\n",
    "element.send_keys(Keys.RETURN)\n",
    "\n",
    "time.sleep(1)\n",
    "driver.get('https://onedrive.live.com/edit.aspx?resid=EFEF80B4F851DDC!106&cid=33955d6c-4f7e-41db-a6b2-2d63160fdf97&ithint=file%2cdocx&wdOrigin=OFFICECOM-WEB.START.MRU')\n",
    "driver.set_window_size(945, 1020)\n",
    "driver = webdriver.Firefox()\n",
    "driver.find_element(By.CSS_SELECTOR, \".OutlineElement:nth-child(7) .Paragraph\").click()\n",
    "element = driver.find_element(By.ID, \"WACViewPanel_EditingElement\")\n",
    "driver.execute_script(\"if(arguments[0].contentEditable === 'true') {arguments[0].innerText = '123'}\", element)\n",
    "\n",
    "##element = driver.find_element(By.ID, \"WACViewPanel_EditingElement\")\n",
    "   "
   ]
  },
  {
   "cell_type": "code",
   "execution_count": 17,
   "metadata": {},
   "outputs": [
    {
     "ename": "NoSuchElementException",
     "evalue": "Message: Unable to locate element: //textarea[2]\nStacktrace:\nWebDriverError@chrome://marionette/content/error.js:181:5\nNoSuchElementError@chrome://marionette/content/error.js:393:5\nelement.find/</<@chrome://marionette/content/element.js:467:16\n",
     "output_type": "error",
     "traceback": [
      "\u001b[1;31m---------------------------------------------------------------------------\u001b[0m",
      "\u001b[1;31mNoSuchElementException\u001b[0m                    Traceback (most recent call last)",
      "\u001b[1;32m<ipython-input-17-9c1337ebfa9f>\u001b[0m in \u001b[0;36m<module>\u001b[1;34m\u001b[0m\n\u001b[0;32m     45\u001b[0m     \u001b[0mdriver\u001b[0m\u001b[1;33m.\u001b[0m\u001b[0mfind_element\u001b[0m\u001b[1;33m(\u001b[0m\u001b[0mBy\u001b[0m\u001b[1;33m.\u001b[0m\u001b[0mXPATH\u001b[0m\u001b[1;33m,\u001b[0m \u001b[1;34m\"//canvas[2]\"\u001b[0m\u001b[1;33m)\u001b[0m\u001b[1;33m.\u001b[0m\u001b[0mclick\u001b[0m\u001b[1;33m(\u001b[0m\u001b[1;33m)\u001b[0m\u001b[1;33m\u001b[0m\u001b[1;33m\u001b[0m\u001b[0m\n\u001b[0;32m     46\u001b[0m \u001b[1;33m\u001b[0m\u001b[0m\n\u001b[1;32m---> 47\u001b[1;33m \u001b[0mtest_traea\u001b[0m\u001b[1;33m(\u001b[0m\u001b[1;33m)\u001b[0m\u001b[1;33m\u001b[0m\u001b[1;33m\u001b[0m\u001b[0m\n\u001b[0m\u001b[0;32m     48\u001b[0m \u001b[1;33m\u001b[0m\u001b[0m\n\u001b[0;32m     49\u001b[0m \u001b[0mself\u001b[0m\u001b[1;33m.\u001b[0m\u001b[0mdriver\u001b[0m\u001b[1;33m.\u001b[0m\u001b[0mquit\u001b[0m\u001b[1;33m(\u001b[0m\u001b[1;33m)\u001b[0m\u001b[1;33m\u001b[0m\u001b[1;33m\u001b[0m\u001b[0m\n",
      "\u001b[1;32m<ipython-input-17-9c1337ebfa9f>\u001b[0m in \u001b[0;36mtest_traea\u001b[1;34m()\u001b[0m\n\u001b[0;32m     35\u001b[0m     \u001b[0mdriver\u001b[0m\u001b[1;33m.\u001b[0m\u001b[0mexecute_script\u001b[0m\u001b[1;33m(\u001b[0m\u001b[1;34m\"window.scrollTo(0,0)\"\u001b[0m\u001b[1;33m)\u001b[0m\u001b[1;33m\u001b[0m\u001b[1;33m\u001b[0m\u001b[0m\n\u001b[0;32m     36\u001b[0m     \u001b[0mtime\u001b[0m\u001b[1;33m.\u001b[0m\u001b[0msleep\u001b[0m\u001b[1;33m(\u001b[0m\u001b[1;36m15\u001b[0m\u001b[1;33m)\u001b[0m\u001b[1;33m\u001b[0m\u001b[1;33m\u001b[0m\u001b[0m\n\u001b[1;32m---> 37\u001b[1;33m     \u001b[0mdriver\u001b[0m\u001b[1;33m.\u001b[0m\u001b[0mfind_element\u001b[0m\u001b[1;33m(\u001b[0m\u001b[0mBy\u001b[0m\u001b[1;33m.\u001b[0m\u001b[0mXPATH\u001b[0m\u001b[1;33m,\u001b[0m \u001b[1;34m\"//textarea[2]\"\u001b[0m\u001b[1;33m)\u001b[0m\u001b[1;33m\u001b[0m\u001b[1;33m\u001b[0m\u001b[0m\n\u001b[0m\u001b[0;32m     38\u001b[0m     \u001b[0mtime\u001b[0m\u001b[1;33m.\u001b[0m\u001b[0msleep\u001b[0m\u001b[1;33m(\u001b[0m\u001b[1;36m15\u001b[0m\u001b[1;33m)\u001b[0m\u001b[1;33m\u001b[0m\u001b[1;33m\u001b[0m\u001b[0m\n\u001b[0;32m     39\u001b[0m     \u001b[0mdriver\u001b[0m\u001b[1;33m.\u001b[0m\u001b[0msend_keys\u001b[0m\u001b[1;33m(\u001b[0m\u001b[1;34m\"user_name\"\u001b[0m\u001b[1;33m)\u001b[0m\u001b[1;33m\u001b[0m\u001b[1;33m\u001b[0m\u001b[0m\n",
      "\u001b[1;32m~\\anaconda3\\lib\\site-packages\\selenium\\webdriver\\remote\\webdriver.py\u001b[0m in \u001b[0;36mfind_element\u001b[1;34m(self, by, value)\u001b[0m\n\u001b[0;32m   1136\u001b[0m                 \u001b[0mby\u001b[0m \u001b[1;33m=\u001b[0m \u001b[0mBy\u001b[0m\u001b[1;33m.\u001b[0m\u001b[0mCSS_SELECTOR\u001b[0m\u001b[1;33m\u001b[0m\u001b[1;33m\u001b[0m\u001b[0m\n\u001b[0;32m   1137\u001b[0m                 \u001b[0mvalue\u001b[0m \u001b[1;33m=\u001b[0m \u001b[1;34m'[name=\"%s\"]'\u001b[0m \u001b[1;33m%\u001b[0m \u001b[0mvalue\u001b[0m\u001b[1;33m\u001b[0m\u001b[1;33m\u001b[0m\u001b[0m\n\u001b[1;32m-> 1138\u001b[1;33m         return self.execute(Command.FIND_ELEMENT, {\n\u001b[0m\u001b[0;32m   1139\u001b[0m             \u001b[1;34m'using'\u001b[0m\u001b[1;33m:\u001b[0m \u001b[0mby\u001b[0m\u001b[1;33m,\u001b[0m\u001b[1;33m\u001b[0m\u001b[1;33m\u001b[0m\u001b[0m\n\u001b[0;32m   1140\u001b[0m             'value': value})['value']\n",
      "\u001b[1;32m~\\anaconda3\\lib\\site-packages\\selenium\\webdriver\\remote\\webdriver.py\u001b[0m in \u001b[0;36mexecute\u001b[1;34m(self, driver_command, params)\u001b[0m\n\u001b[0;32m    366\u001b[0m         \u001b[0mresponse\u001b[0m \u001b[1;33m=\u001b[0m \u001b[0mself\u001b[0m\u001b[1;33m.\u001b[0m\u001b[0mcommand_executor\u001b[0m\u001b[1;33m.\u001b[0m\u001b[0mexecute\u001b[0m\u001b[1;33m(\u001b[0m\u001b[0mdriver_command\u001b[0m\u001b[1;33m,\u001b[0m \u001b[0mparams\u001b[0m\u001b[1;33m)\u001b[0m\u001b[1;33m\u001b[0m\u001b[1;33m\u001b[0m\u001b[0m\n\u001b[0;32m    367\u001b[0m         \u001b[1;32mif\u001b[0m \u001b[0mresponse\u001b[0m\u001b[1;33m:\u001b[0m\u001b[1;33m\u001b[0m\u001b[1;33m\u001b[0m\u001b[0m\n\u001b[1;32m--> 368\u001b[1;33m             \u001b[0mself\u001b[0m\u001b[1;33m.\u001b[0m\u001b[0merror_handler\u001b[0m\u001b[1;33m.\u001b[0m\u001b[0mcheck_response\u001b[0m\u001b[1;33m(\u001b[0m\u001b[0mresponse\u001b[0m\u001b[1;33m)\u001b[0m\u001b[1;33m\u001b[0m\u001b[1;33m\u001b[0m\u001b[0m\n\u001b[0m\u001b[0;32m    369\u001b[0m             response['value'] = self._unwrap_value(\n\u001b[0;32m    370\u001b[0m                 response.get('value', None))\n",
      "\u001b[1;32m~\\anaconda3\\lib\\site-packages\\selenium\\webdriver\\remote\\errorhandler.py\u001b[0m in \u001b[0;36mcheck_response\u001b[1;34m(self, response)\u001b[0m\n\u001b[0;32m    238\u001b[0m                 \u001b[0malert_text\u001b[0m \u001b[1;33m=\u001b[0m \u001b[0mvalue\u001b[0m\u001b[1;33m[\u001b[0m\u001b[1;34m'alert'\u001b[0m\u001b[1;33m]\u001b[0m\u001b[1;33m.\u001b[0m\u001b[0mget\u001b[0m\u001b[1;33m(\u001b[0m\u001b[1;34m'text'\u001b[0m\u001b[1;33m)\u001b[0m\u001b[1;33m\u001b[0m\u001b[1;33m\u001b[0m\u001b[0m\n\u001b[0;32m    239\u001b[0m             \u001b[1;32mraise\u001b[0m \u001b[0mexception_class\u001b[0m\u001b[1;33m(\u001b[0m\u001b[0mmessage\u001b[0m\u001b[1;33m,\u001b[0m \u001b[0mscreen\u001b[0m\u001b[1;33m,\u001b[0m \u001b[0mstacktrace\u001b[0m\u001b[1;33m,\u001b[0m \u001b[0malert_text\u001b[0m\u001b[1;33m)\u001b[0m\u001b[1;33m\u001b[0m\u001b[1;33m\u001b[0m\u001b[0m\n\u001b[1;32m--> 240\u001b[1;33m         \u001b[1;32mraise\u001b[0m \u001b[0mexception_class\u001b[0m\u001b[1;33m(\u001b[0m\u001b[0mmessage\u001b[0m\u001b[1;33m,\u001b[0m \u001b[0mscreen\u001b[0m\u001b[1;33m,\u001b[0m \u001b[0mstacktrace\u001b[0m\u001b[1;33m)\u001b[0m\u001b[1;33m\u001b[0m\u001b[1;33m\u001b[0m\u001b[0m\n\u001b[0m\u001b[0;32m    241\u001b[0m \u001b[1;33m\u001b[0m\u001b[0m\n\u001b[0;32m    242\u001b[0m     \u001b[1;32mdef\u001b[0m \u001b[0m_value_or_default\u001b[0m\u001b[1;33m(\u001b[0m\u001b[0mself\u001b[0m\u001b[1;33m,\u001b[0m \u001b[0mobj\u001b[0m\u001b[1;33m,\u001b[0m \u001b[0mkey\u001b[0m\u001b[1;33m,\u001b[0m \u001b[0mdefault\u001b[0m\u001b[1;33m)\u001b[0m\u001b[1;33m:\u001b[0m\u001b[1;33m\u001b[0m\u001b[1;33m\u001b[0m\u001b[0m\n",
      "\u001b[1;31mNoSuchElementException\u001b[0m: Message: Unable to locate element: //textarea[2]\nStacktrace:\nWebDriverError@chrome://marionette/content/error.js:181:5\nNoSuchElementError@chrome://marionette/content/error.js:393:5\nelement.find/</<@chrome://marionette/content/element.js:467:16\n"
     ]
    }
   ],
   "source": [
    "import pytest\n",
    "import time\n",
    "import json\n",
    "from selenium import webdriver\n",
    "from selenium.webdriver.common.by import By\n",
    "from selenium.webdriver.common.action_chains import ActionChains\n",
    "from selenium.webdriver.support import expected_conditions\n",
    "from selenium.webdriver.support.wait import WebDriverWait\n",
    "from selenium.webdriver.common.keys import Keys\n",
    "from selenium.webdriver.common.desired_capabilities import DesiredCapabilities\n",
    "from selenium.webdriver.chrome.service import Service\n",
    "\n",
    "def test_traea():\n",
    "    driver = webdriver.Firefox()\n",
    "    driver.get(\"https://edit.org/edit/all/1fhxrl3ag\")\n",
    "    driver.set_window_size(1115, 701)\n",
    "    time.sleep(15)\n",
    "    driver.find_element(By.XPATH, \"//canvas[2]\").click()\n",
    "    time.sleep(15)\n",
    "    driver.find_element(By.XPATH, \"//canvas[2]\").click()\n",
    "    time.sleep(15)\n",
    "    element = driver.find_element(By.XPATH, \"//canvas[2]\")\n",
    "    time.sleep(15)\n",
    "    actions = ActionChains(driver)\n",
    "    actions.double_click(element).perform()\n",
    "    time.sleep(15)\n",
    "    driver.find_element(By.XPATH, \"//canvas[2]\").click()\n",
    "    time.sleep(15)\n",
    "    driver.find_element(By.XPATH, \"//canvas[2]\").click()\n",
    "    time.sleep(15)\n",
    "    element = driver.find_element(By.XPATH, \"//div[@id=\\'workspace-section\\']/div[4]/div/div/div/canvas[2]\")\n",
    "    actions = ActionChains(driver)\n",
    "    actions.double_click(element).perform()\n",
    "    time.sleep(15)\n",
    "    driver.execute_script(\"window.scrollTo(0,0)\")\n",
    "    time.sleep(15)\n",
    "    driver.find_element(By.XPATH, \"//textarea[2]\")\n",
    "    time.sleep(15)\n",
    "    driver.send_keys(\"user_name\")\n",
    "   \n",
    "    time.sleep(15)\n",
    "    driver.find_element(By.XPATH, \"//canvas[2]\").click()\n",
    "    driver.find_element(By.XPATH, \"//canvas[2]\").click()\n",
    "    driver.find_element(By.XPATH, \"//canvas[2]\").click()\n",
    "    driver.find_element(By.XPATH, \"//canvas[2]\").click()\n",
    "\n",
    "test_traea()\n",
    "\n",
    "self.driver.quit()"
   ]
  },
  {
   "cell_type": "code",
   "execution_count": 38,
   "metadata": {},
   "outputs": [
    {
     "name": "stderr",
     "output_type": "stream",
     "text": [
      "<ipython-input-38-a938d369575e>:3: DeprecationWarning: executable_path has been deprecated, please pass in a Service object\n",
      "  driver = webdriver.Chrome('C:\\Program Files (x86)\\chromedriver.exe')\n"
     ]
    },
    {
     "name": "stdout",
     "output_type": "stream",
     "text": [
      "False\n",
      "True\n"
     ]
    },
    {
     "name": "stderr",
     "output_type": "stream",
     "text": [
      "C:\\Users\\edison\\anaconda3\\lib\\site-packages\\selenium\\webdriver\\remote\\webdriver.py:691: UserWarning: find_element_by_* commands are deprecated. Please use find_element() instead\n",
      "  warnings.warn(\"find_element_by_* commands are deprecated. Please use find_element() instead\")\n"
     ]
    }
   ],
   "source": [
    "from selenium import webdriver\n",
    "\n",
    "driver = webdriver.Chrome('C:\\Program Files (x86)\\chromedriver.exe')\n",
    "driver.maximize_window()\n",
    "\n",
    "driver.get('https://fs2.formsite.com/meherpavan/form2/index.html?1537702596407')\n",
    "\n",
    "status = driver.find_element_by_css_selector(\"[name='RESULT_RadioButton-7']\").is_selected()\n",
    "print(status)\n",
    "\n",
    "driver.find_element_by_css_selector(\"[for='RESULT_RadioButton-7_0']\").click()\n",
    "\n",
    "status = driver.find_element_by_css_selector(\"[name='RESULT_RadioButton-7']\").is_selected()\n",
    "print(status)"
   ]
  },
  {
   "cell_type": "code",
   "execution_count": 14,
   "metadata": {},
   "outputs": [
    {
     "name": "stderr",
     "output_type": "stream",
     "text": [
      "[WDM] - ====== WebDriver manager ======\n",
      "[WDM] - Current google-chrome version is 88.0.4324\n",
      "[WDM] - Get LATEST driver version for 88.0.4324\n"
     ]
    },
    {
     "name": "stdout",
     "output_type": "stream",
     "text": [
      "\n",
      "\n"
     ]
    },
    {
     "name": "stderr",
     "output_type": "stream",
     "text": [
      "[WDM] - Get LATEST driver version for 88.0.4324\n",
      "[WDM] - Trying to download new driver from https://chromedriver.storage.googleapis.com/88.0.4324.96/chromedriver_win32.zip\n",
      "[WDM] - Driver has been saved in cache [C:\\Users\\edison\\.wdm\\drivers\\chromedriver\\win32\\88.0.4324.96]\n",
      "<ipython-input-14-9d63c39cee0e>:3: DeprecationWarning: executable_path has been deprecated, please pass in a Service object\n",
      "  driver = webdriver.Chrome(ChromeDriverManager().install())\n"
     ]
    }
   ],
   "source": [
    "from selenium import webdriver\n",
    "from webdriver_manager.chrome import ChromeDriverManager\n",
    "driver = webdriver.Chrome(ChromeDriverManager().install())"
   ]
  },
  {
   "cell_type": "code",
   "execution_count": null,
   "metadata": {},
   "outputs": [],
   "source": [
    "https://github.com/wrodasp/Simulacion/blob/master/ExamenFinal/ExamenFinal.ipynb"
   ]
  }
 ],
 "metadata": {
  "kernelspec": {
   "display_name": "Python 3",
   "language": "python",
   "name": "python3"
  }
 },
 "nbformat": 4,
 "nbformat_minor": 4
}
