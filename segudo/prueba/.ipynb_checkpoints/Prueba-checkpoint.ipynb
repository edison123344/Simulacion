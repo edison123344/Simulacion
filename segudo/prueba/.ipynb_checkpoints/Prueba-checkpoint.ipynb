{
 "cells": [
  {
   "cell_type": "markdown",
   "metadata": {},
   "source": [
    "\n",
    "# Prueba\n",
    "## Edison Huinaizaca\n",
    "## En que consite la formula\n",
    "La distribución Chi-Cuadrada (chi squared en inglés, se pronuncia “Kay Cuadrada skuerd”) es una de las distribuciones más empleadas en todos los campos. Su uso más común es cuando se quiere probar si unas mediciones que se hayan efectuado siguen una distribución esperada, por ejemplo la normal o cualquier otra\n",
    "## Desarrollo"
   ]
  },
  {
   "cell_type": "code",
   "execution_count": 25,
   "metadata": {},
   "outputs": [
    {
     "name": "stdout",
     "output_type": "stream",
     "text": [
      ">> Python\n",
      "\n",
      "Valores [ 19 ]:\n",
      "\n",
      "0.1734742335752424 0.3331433649236203 0.2904839252133954 0.3467414013172011 0.4810250209010848 0.9334313481855584 0.9354174503227857 0.2755305064800512 0.16835902912821188 0.8531047092913344 0.23171264360779809 0.42557560990972243 0.5288357115720326 0.2961474653035052 0.22203942436048907 0.2524667453225371 0.05728978434796084 0.07654520791112596 0.3530860450541119 \n",
      "\n",
      "\n",
      "Media:0.38338998035409305\n",
      "L-superior:1428722758.7197683\n",
      "L-inferior:-1428722757.7197683\n",
      "\n",
      "Variancia:0.06944555385306589\n",
      "L-superior:345981006.7453704\n",
      "L-inferior:0.032407407407407406\n",
      "\n",
      "Resultado [ Prueba de medias ]: Pasa la prueba.\n",
      "Resultado [ Prueba de Chi-cuadrado ]: \tPasa la prueba.\n",
      "\n"
     ]
    }
   ],
   "source": [
    "import random, math\n",
    "\n",
    "seed = 71 # Semilla inicial\n",
    "k = 4 # Número de dígitos a tomar\n",
    "\n",
    "n = 19# Interaccion\n",
    "\n",
    "z_alpha_2 = 74731897457\n",
    "chi_cuadrado_alpha_2 = 74731897457\n",
    "chi_cuadrado_1_menos_alpha_2 = 7\n",
    "\n",
    "accumulated_value = 0.05\n",
    "\n",
    "rnd_numbers = []\n",
    "\n",
    "for i in range(n):\n",
    "    rnd_number = random.random()\n",
    "    rnd_numbers.append( rnd_number )\n",
    "    accumulated_value += rnd_number\n",
    "\n",
    "#Promedio\n",
    "\n",
    "average = accumulated_value / n \n",
    "l_sup = 0.5 + z_alpha_2 * ( 1 / ( 12 * math.sqrt(n) ) )\n",
    "l_inf = 0.5 - z_alpha_2 * ( 1 / ( 12 * math.sqrt(n) ) )\n",
    "\n",
    "#Diferencia\n",
    "\n",
    "accumulated_value = 0.0\n",
    "for i in range(n):\n",
    "    accumulated_value += pow( rnd_numbers[i] - average , 2)\n",
    "\n",
    "variance = accumulated_value / (n - 1)\n",
    "vl_sup = chi_cuadrado_alpha_2 / ( 12.0 * (n - 1) )\n",
    "vl_inf = chi_cuadrado_1_menos_alpha_2 / ( 12.0 * (n - 1) )\n",
    "\n",
    "\n",
    "print( \"Valores [ \" + str(n) + \" ]:\\n\" )\n",
    "\n",
    "for i in range(n):\n",
    "    print( str(rnd_numbers[i]) , end = ' ' )\n",
    "\n",
    "print( \"\\n\\n\" )\n",
    "\n",
    "print( \"Media:\" + str(average) )\n",
    "print( \"L-superior:\" + str(l_sup)  )\n",
    "print( \"L-inferior:\" + str(l_inf) + \"\\n\" )\n",
    "\n",
    "print( \"Variancia:\" + str(variance) )\n",
    "print( \"L-superior:\" + str(vl_sup) )\n",
    "print( \"L-inferior:\" + str(vl_inf) )\n",
    "\n",
    "# Resultados\n",
    "print( \"\\n\" + \"Resultado [ Prueba de medias ]: \" \n",
    "    + ( \"Pasa \" if ( ( average < l_sup) and ( average > l_inf ) ) else \"No pasa\"  )\n",
    "    + \"la prueba.\" )\n",
    "\n",
    "print( \"Resultado [ Prueba de Chi-cuadrado ]: \t\" \n",
    "    + ( \"Pasa \" if ( ( variance < vl_sup) and ( variance > vl_inf ) )  else \"No pasa \" )\n",
    "    + \"la prueba.\" + \"\\n\" )"
   ]
  },
  {
   "cell_type": "markdown",
   "metadata": {},
   "source": [
    "## Grafica"
   ]
  },
  {
   "cell_type": "code",
   "execution_count": 24,
   "metadata": {},
   "outputs": [
    {
     "name": "stdout",
     "output_type": "stream",
     "text": [
      "0.6115333884333641 0.021650865204688285 0.954848314132149 0.3330490343309671 0.8326123471859159 0.9328354262535445 0.03541343308213607 0.6102891048302493 0.12481223748413794 0.8845237870548369 0.6641151185499015 0.4862485682176656 0.07463447350320873 0.040084666141400827 0.1924852126447414 0.5874307724699954 0.7120477344909761 0.809422018243561 0.5871038653426965 0.947286397692507 0.36118927026659353 0.690340352157329 0.5654707464583248 0.05951621935027673 0.689515755586156 0.9079125779788945 0.9982884675083484 0.6597278335523362 0.6364289783331564 0.20731179032765168 "
     ]
    },
    {
     "data": {
      "image/png": "[encoded data removed]",
      "text/plain": [
       "<Figure size 432x288 with 1 Axes>"
      ]
     },
     "metadata": {
      "needs_background": "light"
     },
     "output_type": "display_data"
    }
   ],
   "source": [
    "import matplotlib.pyplot as plt # importando matplotlib\n",
    "import seaborn as sns # importando seaborn\n",
    "for i in range(n):\n",
    "    print( str(rnd_numbers[i]) , end = ' ' )\n",
    "    x = rnd_numbers[i]\n",
    "    gamma = plt.hist(x, 70, histtype=\"stepfilled\", alpha=.7)"
   ]
  },
  {
   "cell_type": "code",
   "execution_count": null,
   "metadata": {},
   "outputs": [],
   "source": []
  }
 ],
 "metadata": {
  "kernelspec": {
   "display_name": "Python 3",
   "language": "python",
   "name": "python3"
  },
  "language_info": {
   "codemirror_mode": {
    "name": "ipython",
    "version": 3
   },
   "file_extension": ".py",
   "mimetype": "text/x-python",
   "name": "python",
   "nbconvert_exporter": "python",
   "pygments_lexer": "ipython3",
   "version": "3.8.5"
  }
 },
 "nbformat": 4,
 "nbformat_minor": 4
}
