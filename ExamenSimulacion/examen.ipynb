{
 "cells": [
  {
   "cell_type": "markdown",
   "metadata": {},
   "source": [
    "# Examen de Simulacion\n",
    "## Nombre Edison Huñaizaca\n",
    "•\tDiseñe y desarrolle un modelo y/o script que permita simular el siguiente caso real:\n",
    "◦\tObtener datos de tendencia de twitter o facebook, para ello se puede obtener a través del API [4].\n",
    "•\tTitle: Titulo del Post/Twitter\n",
    "•\tWord count: la cantidad de palabras del artículo,\n",
    "•\t# of Links: los enlaces externos que contiene,\n",
    "•\t# of comments: cantidad de comentarios,\n",
    "•\t# Shares: compartidos.\n",
    "•\tHashTag\n",
    "•\tEtc.\n",
    "\n",
    "En base a ello, se pretende proponer y generar una predicción de cuántas veces será compartido un post/twitter  utilizando regresión [2].\n",
    "\n",
    "•\tPosteriormente se debe seguir un procesos de votación de eventos discretos que se describe a continuación:\n",
    "◦\tTomar los resultados de la regresión para la selección del candidato.\n",
    "◦\tSe tiene una tendencia del 90% de personas que realizan el proceso de elección dentro del Ecuador.\n",
    "◦\tDentro del procesos se tiene que alrededor del 5% - 10% votan nulo.\n",
    "◦\tSolo se va a tener en cuanta las elecciones de los asambleístas por el Azuay.\n",
    "◦\tLas personas solo tiene un recinto electoral para realizar el proceso.\n",
    "◦\tLas personas solo pueden realizar un proceso de elección por asambleísta del Azuay.\n",
    "◦\tLa persona se acerca a la mesa electoral y hacen fila en caso de ser necesario.\n",
    "◦\tRealiza el voto en un tiempo aleatorio de un partido especifico.\n",
    "◦\tLa persona recibe su certificado votación.\n",
    "◦\tLa persona sale del recinto electoral.\n",
    "◦\tFinalmente generar una grafica de las personas que votaron y los asambleístas electos.\n",
    "•\tEl proceso de simulación desarrollado deberá considerar los siguientes aspectos:\n",
    "◦\tSe debe establecer un modelo basado en modelos matemáticos y probabilísticos para la predicción del numero de veces que se compartirá o la tendencia electoral basada en redes sociales.\n",
    "◦\tEl programa deberá generar gráficas que indiquen la ecuación matemática y probabilística de tendencias de votaciones.\n",
    "◦\tDeben calcularse las siguientes métricas del sistema de simulación de eventos discretos :\n",
    "▪\tTotal de de personas que realizaron el proceso de votación.\n",
    "▪\tAsambleístas ganadores.\n",
    "▪\tEl tiempo promedio de espera.\n",
    "## Desarrollo :\n",
    "Para el desarollo de este travajo se debe primero instalar la libreria tweepy:"
   ]
  },
  {
   "cell_type": "code",
   "execution_count": 2,
   "metadata": {},
   "outputs": [
    {
     "name": "stdout",
     "output_type": "stream",
     "text": [
      "Collecting tweepy\n",
      "  Downloading tweepy-3.9.0-py2.py3-none-any.whl (30 kB)\n",
      "Requirement already satisfied: requests[socks]>=2.11.1 in c:\\users\\59398\\anaconda3\\lib\\site-packages (from tweepy) (2.24.0)\n",
      "Requirement already satisfied: six>=1.10.0 in c:\\users\\59398\\anaconda3\\lib\\site-packages (from tweepy) (1.15.0)\n",
      "Collecting requests-oauthlib>=0.7.0\n",
      "  Downloading requests_oauthlib-1.3.0-py2.py3-none-any.whl (23 kB)\n",
      "Requirement already satisfied: urllib3!=1.25.0,!=1.25.1,<1.26,>=1.21.1 in c:\\users\\59398\\anaconda3\\lib\\site-packages (from requests[socks]>=2.11.1->tweepy) (1.25.11)\n",
      "Requirement already satisfied: certifi>=2017.4.17 in c:\\users\\59398\\anaconda3\\lib\\site-packages (from requests[socks]>=2.11.1->tweepy) (2020.6.20)\n",
      "Requirement already satisfied: chardet<4,>=3.0.2 in c:\\users\\59398\\anaconda3\\lib\\site-packages (from requests[socks]>=2.11.1->tweepy) (3.0.4)\n",
      "Requirement already satisfied: idna<3,>=2.5 in c:\\users\\59398\\anaconda3\\lib\\site-packages (from requests[socks]>=2.11.1->tweepy) (2.10)\n",
      "Requirement already satisfied: PySocks!=1.5.7,>=1.5.6; extra == \"socks\" in c:\\users\\59398\\anaconda3\\lib\\site-packages (from requests[socks]>=2.11.1->tweepy) (1.7.1)\n",
      "Collecting oauthlib>=3.0.0\n",
      "  Downloading oauthlib-3.1.0-py2.py3-none-any.whl (147 kB)\n",
      "Installing collected packages: oauthlib, requests-oauthlib, tweepy\n",
      "Successfully installed oauthlib-3.1.0 requests-oauthlib-1.3.0 tweepy-3.9.0\n"
     ]
    }
   ],
   "source": [
    "!pip install tweepy"
   ]
  },
  {
   "cell_type": "markdown",
   "metadata": {},
   "source": [
    "luego se prosede a la extraccion de los datos de tweeter en espesial los tewets,el numero de compartidos ,el numero de retweets para poder luego ser analisados"
   ]
  },
  {
   "cell_type": "code",
   "execution_count": 2,
   "metadata": {},
   "outputs": [
    {
     "data": {
      "text/html": [
       "<div>\n",
       "<style scoped>\n",
       "    .dataframe tbody tr th:only-of-type {\n",
       "        vertical-align: middle;\n",
       "    }\n",
       "\n",
       "    .dataframe tbody tr th {\n",
       "        vertical-align: top;\n",
       "    }\n",
       "\n",
       "    .dataframe thead th {\n",
       "        text-align: right;\n",
       "    }\n",
       "</style>\n",
       "<table border=\"1\" class=\"dataframe\">\n",
       "  <thead>\n",
       "    <tr style=\"text-align: right;\">\n",
       "      <th></th>\n",
       "      <th>Tweets</th>\n",
       "    </tr>\n",
       "  </thead>\n",
       "  <tbody>\n",
       "    <tr>\n",
       "      <th>0</th>\n",
       "      <td>RT @LuisVerdesotoo1: Los invito a leer la entr...</td>\n",
       "    </tr>\n",
       "    <tr>\n",
       "      <th>1</th>\n",
       "      <td>#CNEInforma | Bajo medidas de bioseguridad cap...</td>\n",
       "    </tr>\n",
       "    <tr>\n",
       "      <th>2</th>\n",
       "      <td>RT @LuisVerdesotoo1: El Protocolo para la Prev...</td>\n",
       "    </tr>\n",
       "    <tr>\n",
       "      <th>3</th>\n",
       "      <td>[VIDEO] ▶️ Cinco organizaciones sociales y tre...</td>\n",
       "    </tr>\n",
       "    <tr>\n",
       "      <th>4</th>\n",
       "      <td>RT @cnegobec: BOLETÍN | CNE convoca al Cuarto ...</td>\n",
       "    </tr>\n",
       "    <tr>\n",
       "      <th>5</th>\n",
       "      <td>[BOLETÍN] 🗞️ Cinco organizaciones sociales y t...</td>\n",
       "    </tr>\n",
       "    <tr>\n",
       "      <th>6</th>\n",
       "      <td>RT @complicefm: Dialogamos en #MásNoticias con...</td>\n",
       "    </tr>\n",
       "    <tr>\n",
       "      <th>7</th>\n",
       "      <td>RT @DianaAtamaint: Lamento profundamente el fa...</td>\n",
       "    </tr>\n",
       "    <tr>\n",
       "      <th>8</th>\n",
       "      <td>RT @cnegobec: ¡Excelente sábado! Te invitamos ...</td>\n",
       "    </tr>\n",
       "    <tr>\n",
       "      <th>9</th>\n",
       "      <td>RT @LuisVerdesotoo1: Mí consejería junto al eq...</td>\n",
       "    </tr>\n",
       "  </tbody>\n",
       "</table>\n",
       "</div>"
      ],
      "text/plain": [
       "                                              Tweets\n",
       "0  RT @LuisVerdesotoo1: Los invito a leer la entr...\n",
       "1  #CNEInforma | Bajo medidas de bioseguridad cap...\n",
       "2  RT @LuisVerdesotoo1: El Protocolo para la Prev...\n",
       "3  [VIDEO] ▶️ Cinco organizaciones sociales y tre...\n",
       "4  RT @cnegobec: BOLETÍN | CNE convoca al Cuarto ...\n",
       "5  [BOLETÍN] 🗞️ Cinco organizaciones sociales y t...\n",
       "6  RT @complicefm: Dialogamos en #MásNoticias con...\n",
       "7  RT @DianaAtamaint: Lamento profundamente el fa...\n",
       "8  RT @cnegobec: ¡Excelente sábado! Te invitamos ...\n",
       "9  RT @LuisVerdesotoo1: Mí consejería junto al eq..."
      ]
     },
     "metadata": {},
     "output_type": "display_data"
    },
    {
     "data": {
      "text/html": [
       "<div>\n",
       "<style scoped>\n",
       "    .dataframe tbody tr th:only-of-type {\n",
       "        vertical-align: middle;\n",
       "    }\n",
       "\n",
       "    .dataframe tbody tr th {\n",
       "        vertical-align: top;\n",
       "    }\n",
       "\n",
       "    .dataframe thead th {\n",
       "        text-align: right;\n",
       "    }\n",
       "</style>\n",
       "<table border=\"1\" class=\"dataframe\">\n",
       "  <thead>\n",
       "    <tr style=\"text-align: right;\">\n",
       "      <th></th>\n",
       "      <th>Tweets</th>\n",
       "      <th>longitud</th>\n",
       "      <th>ID</th>\n",
       "      <th>Fecha</th>\n",
       "      <th>Fuente</th>\n",
       "      <th>Likes</th>\n",
       "      <th>RTs</th>\n",
       "    </tr>\n",
       "  </thead>\n",
       "  <tbody>\n",
       "    <tr>\n",
       "      <th>0</th>\n",
       "      <td>RT @LuisVerdesotoo1: Los invito a leer la entr...</td>\n",
       "      <td>140</td>\n",
       "      <td>1340644995896905729</td>\n",
       "      <td>2020-12-20 13:07:29</td>\n",
       "      <td>Twitter for Android</td>\n",
       "      <td>0</td>\n",
       "      <td>6</td>\n",
       "    </tr>\n",
       "    <tr>\n",
       "      <th>1</th>\n",
       "      <td>#CNEInforma | Bajo medidas de bioseguridad cap...</td>\n",
       "      <td>140</td>\n",
       "      <td>1340644936203513856</td>\n",
       "      <td>2020-12-20 13:07:15</td>\n",
       "      <td>Twitter for Android</td>\n",
       "      <td>2</td>\n",
       "      <td>0</td>\n",
       "    </tr>\n",
       "    <tr>\n",
       "      <th>2</th>\n",
       "      <td>RT @LuisVerdesotoo1: El Protocolo para la Prev...</td>\n",
       "      <td>140</td>\n",
       "      <td>1340492490282045441</td>\n",
       "      <td>2020-12-20 03:01:29</td>\n",
       "      <td>Twitter for Android</td>\n",
       "      <td>0</td>\n",
       "      <td>28</td>\n",
       "    </tr>\n",
       "    <tr>\n",
       "      <th>3</th>\n",
       "      <td>[VIDEO] ▶️ Cinco organizaciones sociales y tre...</td>\n",
       "      <td>121</td>\n",
       "      <td>1340412332195930115</td>\n",
       "      <td>2020-12-19 21:42:58</td>\n",
       "      <td>Twitter for Android</td>\n",
       "      <td>2</td>\n",
       "      <td>3</td>\n",
       "    </tr>\n",
       "    <tr>\n",
       "      <th>4</th>\n",
       "      <td>RT @cnegobec: BOLETÍN | CNE convoca al Cuarto ...</td>\n",
       "      <td>139</td>\n",
       "      <td>1340411589837660165</td>\n",
       "      <td>2020-12-19 21:40:01</td>\n",
       "      <td>Twitter for Android</td>\n",
       "      <td>0</td>\n",
       "      <td>26</td>\n",
       "    </tr>\n",
       "    <tr>\n",
       "      <th>...</th>\n",
       "      <td>...</td>\n",
       "      <td>...</td>\n",
       "      <td>...</td>\n",
       "      <td>...</td>\n",
       "      <td>...</td>\n",
       "      <td>...</td>\n",
       "      <td>...</td>\n",
       "    </tr>\n",
       "    <tr>\n",
       "      <th>95</th>\n",
       "      <td>RT @CCInoticias: En Azuay organizaciones polít...</td>\n",
       "      <td>140</td>\n",
       "      <td>1339306906150690817</td>\n",
       "      <td>2020-12-16 20:30:24</td>\n",
       "      <td>Twitter Web App</td>\n",
       "      <td>0</td>\n",
       "      <td>2</td>\n",
       "    </tr>\n",
       "    <tr>\n",
       "      <th>96</th>\n",
       "      <td>RT @CCInoticias: Se registra la primera organi...</td>\n",
       "      <td>140</td>\n",
       "      <td>1339306813586550784</td>\n",
       "      <td>2020-12-16 20:30:02</td>\n",
       "      <td>Twitter Web App</td>\n",
       "      <td>0</td>\n",
       "      <td>1</td>\n",
       "    </tr>\n",
       "    <tr>\n",
       "      <th>97</th>\n",
       "      <td>RT @elmercurioec: Esta manaña, representantes ...</td>\n",
       "      <td>139</td>\n",
       "      <td>1339305492473147400</td>\n",
       "      <td>2020-12-16 20:24:47</td>\n",
       "      <td>Twitter Web App</td>\n",
       "      <td>0</td>\n",
       "      <td>4</td>\n",
       "    </tr>\n",
       "    <tr>\n",
       "      <th>98</th>\n",
       "      <td>RT @elmercurioec: Pasado mañana termina el pla...</td>\n",
       "      <td>140</td>\n",
       "      <td>1339305280782430208</td>\n",
       "      <td>2020-12-16 20:23:56</td>\n",
       "      <td>Twitter Web App</td>\n",
       "      <td>0</td>\n",
       "      <td>3</td>\n",
       "    </tr>\n",
       "    <tr>\n",
       "      <th>99</th>\n",
       "      <td>RT @cnegobec: BOLETÍN | Organizaciones polític...</td>\n",
       "      <td>140</td>\n",
       "      <td>1339305143158910983</td>\n",
       "      <td>2020-12-16 20:23:23</td>\n",
       "      <td>Twitter Web App</td>\n",
       "      <td>0</td>\n",
       "      <td>33</td>\n",
       "    </tr>\n",
       "  </tbody>\n",
       "</table>\n",
       "<p>100 rows × 7 columns</p>\n",
       "</div>"
      ],
      "text/plain": [
       "                                               Tweets  longitud  \\\n",
       "0   RT @LuisVerdesotoo1: Los invito a leer la entr...       140   \n",
       "1   #CNEInforma | Bajo medidas de bioseguridad cap...       140   \n",
       "2   RT @LuisVerdesotoo1: El Protocolo para la Prev...       140   \n",
       "3   [VIDEO] ▶️ Cinco organizaciones sociales y tre...       121   \n",
       "4   RT @cnegobec: BOLETÍN | CNE convoca al Cuarto ...       139   \n",
       "..                                                ...       ...   \n",
       "95  RT @CCInoticias: En Azuay organizaciones polít...       140   \n",
       "96  RT @CCInoticias: Se registra la primera organi...       140   \n",
       "97  RT @elmercurioec: Esta manaña, representantes ...       139   \n",
       "98  RT @elmercurioec: Pasado mañana termina el pla...       140   \n",
       "99  RT @cnegobec: BOLETÍN | Organizaciones polític...       140   \n",
       "\n",
       "                     ID               Fecha               Fuente  Likes  RTs  \n",
       "0   1340644995896905729 2020-12-20 13:07:29  Twitter for Android      0    6  \n",
       "1   1340644936203513856 2020-12-20 13:07:15  Twitter for Android      2    0  \n",
       "2   1340492490282045441 2020-12-20 03:01:29  Twitter for Android      0   28  \n",
       "3   1340412332195930115 2020-12-19 21:42:58  Twitter for Android      2    3  \n",
       "4   1340411589837660165 2020-12-19 21:40:01  Twitter for Android      0   26  \n",
       "..                  ...                 ...                  ...    ...  ...  \n",
       "95  1339306906150690817 2020-12-16 20:30:24      Twitter Web App      0    2  \n",
       "96  1339306813586550784 2020-12-16 20:30:02      Twitter Web App      0    1  \n",
       "97  1339305492473147400 2020-12-16 20:24:47      Twitter Web App      0    4  \n",
       "98  1339305280782430208 2020-12-16 20:23:56      Twitter Web App      0    3  \n",
       "99  1339305143158910983 2020-12-16 20:23:23      Twitter Web App      0   33  \n",
       "\n",
       "[100 rows x 7 columns]"
      ]
     },
     "metadata": {},
     "output_type": "display_data"
    },
    {
     "name": "stdout",
     "output_type": "stream",
     "text": [
      "La longitud media de los tweets: 139.125\n",
      "Creación de fuentes de contenido:\n",
      "* Twitter for Android\n",
      "* Twitter Web App\n",
      "* TweetDeck\n"
     ]
    },
    {
     "data": {
      "image/png": "[encoded data removed]",
      "text/plain": [
       "<Figure size 432x432 with 1 Axes>"
      ]
     },
     "metadata": {},
     "output_type": "display_data"
    }
   ],
   "source": [
    "#importacion de libreias nesesarias para laextracion de datos\n",
    "import tweepy\n",
    "# General:\n",
    "import tweepy           # Para consumir la API de Tweeter\n",
    "import pandas as pd     # Para análisis de datos\n",
    "import numpy as np      # Para cálculo numérico\n",
    "\n",
    "# Para visualización con gráficos:\n",
    "from IPython.display import display\n",
    "import matplotlib.pyplot as plt\n",
    "import seaborn as sns\n",
    "%matplotlib inline\n",
    "# Importacion de las libreias nesesarias para la regresion\n",
    "import seaborn as sb\n",
    "%matplotlib inline\n",
    "from mpl_toolkits.mplot3d import Axes3D\n",
    "from matplotlib import cm\n",
    "plt.rcParams['figure.figsize'] = (16, 9)\n",
    "plt.style.use('ggplot')\n",
    "from sklearn import linear_model\n",
    "from sklearn.metrics import mean_squared_error, r2_score\n",
    "\n",
    "    # Esto nos permite usar las claves como variables\n",
    "\n",
    "# Configuración de la API:\n",
    "def twitter_setup():\n",
    "\n",
    "    CONSUMER_KEY = \"g1aCHDaYrJEggedusIjh6DNrl\"\n",
    "    CONSUMER_SECRET = \"cgSY5YoLCBkB2aZ3kCUgr0Riv1eboB2UwVbONbTE1AJdh3kOWA\"\n",
    "    ACCESS_TOKEN =  \"1339402131015671809-ToiX7JewQWr8DhXsQYrAEwNfWvzkGI\"\n",
    "    ACCESS_SECRET = \"6EEVeXX9XYnUCo4RYRHeh3bK9pBk828d3vZhh4hYhtNLS\"\n",
    "    # Autenticación y acceso usando claves:\n",
    "    auth = tweepy.OAuthHandler(CONSUMER_KEY, CONSUMER_SECRET)\n",
    "    auth.set_access_token(ACCESS_TOKEN, ACCESS_SECRET)\n",
    "\n",
    "    # Retornar API con autenticación:\n",
    "    api = tweepy.API(auth)\n",
    "    return api\n",
    "\t\n",
    "# Creamos un objeto extractor:\n",
    "extractor = twitter_setup()\n",
    "\n",
    "# Creamos una lista de tweets:\n",
    "tweets = extractor.user_timeline(screen_name=\"@CNEAzuay\", count=1000)\n",
    "# Creamos una dataframe de pandas:\n",
    "data = pd.DataFrame(data=[tweet.text for tweet in tweets], columns=['Tweets']);\n",
    "\n",
    "# Dibujamos los 10 primeros elementos del dataframe:\n",
    "display(data.head(10))\n",
    "\n",
    "# Añadimos los datos relevantes:\n",
    "data['longitud']  = np.array([len(tweet.text) for tweet in tweets])\n",
    "data['ID']   = np.array([tweet.id for tweet in tweets])\n",
    "data['Fecha'] = np.array([tweet.created_at for tweet in tweets])\n",
    "data['Fuente'] = np.array([tweet.source for tweet in tweets])\n",
    "data['Likes']  = np.array([tweet.favorite_count for tweet in tweets])\n",
    "data['RTs']    = np.array([tweet.retweet_count for tweet in tweets])\n",
    "\n",
    "# Mostramos los n primeros elementos del dataframe:\n",
    "display(data.head(100))\n",
    "\n",
    "# Sacamos la media de las longitudes:\n",
    "mean = np.mean(data['longitud'])\n",
    "\n",
    "print(\"La longitud media de los tweets: {}\".format(mean))\n",
    "\n",
    "# Sacamos el tweet con más \"Me gusta\" y el más retuiteado:\n",
    "fav_max = np.max(data['Likes'])\n",
    "rt_max  = np.max(data['RTs'])\n",
    "\n",
    "fav = data[data.Likes == fav_max].index[0]\n",
    "rt  = data[data.RTs == rt_max].index[0]\n",
    "\n",
    "# Creamos las series temporales de datos de los tweets:\n",
    "\n",
    "tlen = pd.Series(data=data['longitud'].values, index=data['Fecha'])\n",
    "tfav = pd.Series(data=data['Likes'].values, index=data['Fecha'])\n",
    "tret = pd.Series(data=data['RTs'].values, index=data['Fecha'])\n",
    "\n",
    "# Variación de las longitudes de tweets con el tiempo:\n",
    "tlen.plot(figsize=(16,4), color='r');\n",
    "\n",
    "# Visualización de Me gusta vs Retuits:\n",
    "tfav.plot(figsize=(16,4), label=\"Me gusta\", legend=True)\n",
    "tret.plot(figsize=(16,4), label=\"Retuits\", legend=True);\n",
    "\n",
    "# Obtener todas las fuentes posibles:\n",
    "fuentes = []\n",
    "for fuente in data['Fuente']:\n",
    "    if fuente not in fuentes:\n",
    "        fuentes.append(fuente)\n",
    "\n",
    "# Imprimir la lista de fuentes:\n",
    "print(\"Creación de fuentes de contenido:\")\n",
    "for fuente in fuentes:\n",
    "    print(\"* {}\".format(fuente))\n",
    "\t\n",
    "# Creamos un vector numpy mapeado a las etiquetas:\n",
    "percent = np.zeros(len(fuentes))\n",
    "\n",
    "for fuente in data['Fuente']:\n",
    "    for indice in range(len(fuentes)):\n",
    "        if fuente == fuentes[indice]:\n",
    "            percent[indice] += 1\n",
    "            pass\n",
    "\n",
    "percent /= 100\n",
    "\n",
    "# Gráfico de tarta:\n",
    "tarta = pd.Series(percent, index=fuentes, name='Fuentes')\n",
    "tarta.plot.pie(fontsize=11, autopct='%.2f', figsize=(6, 6));"
   ]
  },
  {
   "cell_type": "markdown",
   "metadata": {},
   "source": [
    "Primero comprovamos cuantos datos emos extraido"
   ]
  },
  {
   "cell_type": "code",
   "execution_count": 4,
   "metadata": {},
   "outputs": [
    {
     "data": {
      "text/plain": [
       "(200, 7)"
      ]
     },
     "execution_count": 4,
     "metadata": {},
     "output_type": "execute_result"
    }
   ],
   "source": [
    "data.shape"
   ]
  },
  {
   "cell_type": "markdown",
   "metadata": {},
   "source": [
    "luego se prosede a graficar los datos"
   ]
  },
  {
   "cell_type": "code",
   "execution_count": 5,
   "metadata": {},
   "outputs": [
    {
     "data": {
      "image/png": "[encoded data removed]",
      "text/plain": [
       "<Figure size 1152x648 with 1 Axes>"
      ]
     },
     "metadata": {},
     "output_type": "display_data"
    }
   ],
   "source": [
    "data.drop(['longitud','Likes', 'RTs'],1).hist()\n",
    "plt.show()"
   ]
  },
  {
   "cell_type": "code",
   "execution_count": 31,
   "metadata": {},
   "outputs": [
    {
     "data": {
      "image/png": "[encoded data removed]",
      "text/plain": [
       "<Figure size 1152x648 with 1 Axes>"
      ]
     },
     "metadata": {},
     "output_type": "display_data"
    }
   ],
   "source": [
    "#vamos a Visualizar los datos de entrada\n",
    "colores=['orange','blue']\n",
    "tamanios=[30,60]\n",
    "\n",
    "f1 = data['Likes'].values\n",
    "f2 = data['RTs'].values\n",
    "\n",
    "# Vamos a pintar en 2 colores los puntos por debajo de la media de Cantidad de Palabras\n",
    "asignar=[]\n",
    "for index, row in data.iterrows():\n",
    "    if(row['longitud']>130):\n",
    "        asignar.append(colores[0])\n",
    "    else:\n",
    "        asignar.append(colores[1])\n",
    "    \n",
    "plt.scatter(f1, f2, c=asignar, s=tamanios[0])\n",
    "plt.show()"
   ]
  },
  {
   "cell_type": "code",
   "execution_count": 30,
   "metadata": {},
   "outputs": [
    {
     "data": {
      "image/png": "[encoded data removed]",
      "text/plain": [
       "<Figure size 1152x648 with 1 Axes>"
      ]
     },
     "metadata": {},
     "output_type": "display_data"
    }
   ],
   "source": [
    "filtered_data = data[(data['Likes'] <= 3500) & (data['RTs'] <= 80000)]\n",
    "\n",
    "f1 = filtered_data['Likes'].values\n",
    "f2 = filtered_data['RTs'].values\n",
    "\n",
    "# Vamos a pintar en colores los puntos por debajo y por encima de la media de Cantidad de Palabras\n",
    "asignar=[]\n",
    "for index, row in filtered_data.iterrows():\n",
    "    if(row['longitud']>130):\n",
    "        asignar.append(colores[0])\n",
    "    else:\n",
    "        asignar.append(colores[1])\n",
    "    \n",
    "plt.scatter(f1, f2, c=asignar, s=tamanios[0])\n",
    "plt.show()"
   ]
  },
  {
   "cell_type": "markdown",
   "metadata": {},
   "source": [
    "Luego de la filtracion de la informacion podemos apresiaor la nueba informaicion"
   ]
  },
  {
   "cell_type": "code",
   "execution_count": 8,
   "metadata": {},
   "outputs": [
    {
     "data": {
      "text/html": [
       "<div>\n",
       "<style scoped>\n",
       "    .dataframe tbody tr th:only-of-type {\n",
       "        vertical-align: middle;\n",
       "    }\n",
       "\n",
       "    .dataframe tbody tr th {\n",
       "        vertical-align: top;\n",
       "    }\n",
       "\n",
       "    .dataframe thead th {\n",
       "        text-align: right;\n",
       "    }\n",
       "</style>\n",
       "<table border=\"1\" class=\"dataframe\">\n",
       "  <thead>\n",
       "    <tr style=\"text-align: right;\">\n",
       "      <th></th>\n",
       "      <th>longitud</th>\n",
       "      <th>ID</th>\n",
       "      <th>Likes</th>\n",
       "      <th>RTs</th>\n",
       "    </tr>\n",
       "  </thead>\n",
       "  <tbody>\n",
       "    <tr>\n",
       "      <th>count</th>\n",
       "      <td>200.000000</td>\n",
       "      <td>2.000000e+02</td>\n",
       "      <td>200.000000</td>\n",
       "      <td>200.000000</td>\n",
       "    </tr>\n",
       "    <tr>\n",
       "      <th>mean</th>\n",
       "      <td>139.125000</td>\n",
       "      <td>1.339236e+18</td>\n",
       "      <td>0.320000</td>\n",
       "      <td>24.765000</td>\n",
       "    </tr>\n",
       "    <tr>\n",
       "      <th>std</th>\n",
       "      <td>2.652272</td>\n",
       "      <td>6.638242e+14</td>\n",
       "      <td>0.860992</td>\n",
       "      <td>22.032406</td>\n",
       "    </tr>\n",
       "    <tr>\n",
       "      <th>min</th>\n",
       "      <td>121.000000</td>\n",
       "      <td>1.337933e+18</td>\n",
       "      <td>0.000000</td>\n",
       "      <td>0.000000</td>\n",
       "    </tr>\n",
       "    <tr>\n",
       "      <th>25%</th>\n",
       "      <td>139.000000</td>\n",
       "      <td>1.338649e+18</td>\n",
       "      <td>0.000000</td>\n",
       "      <td>2.000000</td>\n",
       "    </tr>\n",
       "    <tr>\n",
       "      <th>50%</th>\n",
       "      <td>140.000000</td>\n",
       "      <td>1.339298e+18</td>\n",
       "      <td>0.000000</td>\n",
       "      <td>22.000000</td>\n",
       "    </tr>\n",
       "    <tr>\n",
       "      <th>75%</th>\n",
       "      <td>140.000000</td>\n",
       "      <td>1.339752e+18</td>\n",
       "      <td>0.000000</td>\n",
       "      <td>38.000000</td>\n",
       "    </tr>\n",
       "    <tr>\n",
       "      <th>max</th>\n",
       "      <td>140.000000</td>\n",
       "      <td>1.340645e+18</td>\n",
       "      <td>5.000000</td>\n",
       "      <td>109.000000</td>\n",
       "    </tr>\n",
       "  </tbody>\n",
       "</table>\n",
       "</div>"
      ],
      "text/plain": [
       "         longitud            ID       Likes         RTs\n",
       "count  200.000000  2.000000e+02  200.000000  200.000000\n",
       "mean   139.125000  1.339236e+18    0.320000   24.765000\n",
       "std      2.652272  6.638242e+14    0.860992   22.032406\n",
       "min    121.000000  1.337933e+18    0.000000    0.000000\n",
       "25%    139.000000  1.338649e+18    0.000000    2.000000\n",
       "50%    140.000000  1.339298e+18    0.000000   22.000000\n",
       "75%    140.000000  1.339752e+18    0.000000   38.000000\n",
       "max    140.000000  1.340645e+18    5.000000  109.000000"
      ]
     },
     "execution_count": 8,
     "metadata": {},
     "output_type": "execute_result"
    }
   ],
   "source": [
    "# Veamos como cambian los valores una vez filtrados\n",
    "filtered_data.describe()"
   ]
  },
  {
   "cell_type": "code",
   "execution_count": 10,
   "metadata": {},
   "outputs": [],
   "source": [
    "# Asignamos nuestra variable de entrada X para entrenamiento y las etiquetas Y.\n",
    "dataX =filtered_data[[\"Likes\"]]\n",
    "X_train = np.array(dataX)\n",
    "y_train = filtered_data['RTs'].values"
   ]
  },
  {
   "cell_type": "markdown",
   "metadata": {},
   "source": [
    "Secalculan los valores de error coeficiente para asi poder crear la reccta en base alos tewets y los retwet que tiene"
   ]
  },
  {
   "cell_type": "code",
   "execution_count": 11,
   "metadata": {},
   "outputs": [
    {
     "name": "stdout",
     "output_type": "stream",
     "text": [
      "Coefficients: \n",
      " [-9.69332972]\n",
      "Independent term: \n",
      " 27.86686550976139\n",
      "Mean squared error: 413.69\n",
      "Variance score: 0.14\n"
     ]
    }
   ],
   "source": [
    "# Creamos el objeto de Regresión Linear\n",
    "regr = linear_model.LinearRegression()\n",
    "\n",
    "# Entrenamos nuestro modelo\n",
    "regr.fit(X_train, y_train)\n",
    "\n",
    "# Hacemos las predicciones que en definitiva una línea (en este caso, al ser 2D)\n",
    "y_pred = regr.predict(X_train)\n",
    "\n",
    "# Veamos los coeficienetes obtenidos, En nuestro caso, serán la Tangente\n",
    "print('Coefficients: \\n', regr.coef_)\n",
    "# Este es el valor donde corta el eje Y (en X=0)\n",
    "print('Independent term: \\n', regr.intercept_)\n",
    "# Error Cuadrado Medio\n",
    "print(\"Mean squared error: %.2f\" % mean_squared_error(y_train, y_pred))\n",
    "# Puntaje de Varianza. El mejor puntaje es un 1.0\n",
    "print('Variance score: %.2f' % r2_score(y_train, y_pred))"
   ]
  },
  {
   "cell_type": "markdown",
   "metadata": {},
   "source": [
    "Grafica dela regresion lineal"
   ]
  },
  {
   "cell_type": "code",
   "execution_count": 12,
   "metadata": {},
   "outputs": [
    {
     "data": {
      "image/png": "[encoded data removed]",
      "text/plain": [
       "<Figure size 1152x648 with 1 Axes>"
      ]
     },
     "metadata": {},
     "output_type": "display_data"
    }
   ],
   "source": [
    "plt.scatter(X_train[:,0], y_train,  c=asignar, s=tamanios[0])\n",
    "plt.plot(X_train[:,0], y_pred, color='red', linewidth=3)\n",
    "\n",
    "plt.xlabel('Cantidad de Palabras')\n",
    "plt.ylabel('Compartido en Redes')\n",
    "plt.title('Regresión Lineal')\n",
    "\n",
    "plt.show()"
   ]
  },
  {
   "cell_type": "code",
   "execution_count": null,
   "metadata": {},
   "outputs": [],
   "source": [
    "Luego se intenta ver la tendencia  por  palabras, según nuestro modelo, hacemos:"
   ]
  },
  {
   "cell_type": "code",
   "execution_count": 21,
   "metadata": {},
   "outputs": [
    {
     "name": "stdout",
     "output_type": "stream",
     "text": [
      "18\n"
     ]
    }
   ],
   "source": [
    "y_Dosmil = regr.predict([[1]])\n",
    "print(int(y_Dosmil))"
   ]
  },
  {
   "cell_type": "markdown",
   "metadata": {},
   "source": [
    "## Conclucion\n",
    "se puede desir que aun falta mas informacion debido a que las eleciones recien comiensa nose puede sacar muchos datos pero tambien se puede desir que la tendensia va en desenso y existe poco interes \n",
    "## Bibliografia\n",
    "[1] https://www.aprendemachinelearning.com/regresion-lineal-en-espanol-con-python/\n",
    "[2] https://www.youtube.com/watch?v=PUgPAM5Ect8\n",
    "[3] https://realpython.com/twitter-bot-python-tweepy/\n",
    "[4] https://twitter.com/CNEAzuay\n"
   ]
  },
  {
   "cell_type": "code",
   "execution_count": null,
   "metadata": {},
   "outputs": [],
   "source": []
  }
 ],
 "metadata": {
  "kernelspec": {
   "display_name": "Python 3",
   "language": "python",
   "name": "python3"
  },
  "language_info": {
   "codemirror_mode": {
    "name": "ipython",
    "version": 3
   },
   "file_extension": ".py",
   "mimetype": "text/x-python",
   "name": "python",
   "nbconvert_exporter": "python",
   "pygments_lexer": "ipython3",
   "version": "3.8.5"
  }
 },
 "nbformat": 4,
 "nbformat_minor": 4
}
